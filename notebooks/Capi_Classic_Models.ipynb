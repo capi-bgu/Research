{
  "nbformat": 4,
  "nbformat_minor": 0,
  "metadata": {
    "colab": {
      "name": "Capi-Classic-Models.ipynb",
      "provenance": [],
      "collapsed_sections": [
        "PCJUojQwWdPG",
        "_wa83DhWnbPq",
        "aeUkKwvUk28O",
        "_xYJ8KNo5hhm",
        "7gTwfcBe5mCd",
        "cK7hb6ppc_ga",
        "FyNYIDJRkIF4",
        "-_CTzrcavNNe",
        "OYaSZ7isKZeD",
        "fm4Z23uK5qDU",
        "ech-3ttGOoqk",
        "hv6YkYAaVspO",
        "nDSay50q6o1N",
        "bmWq8qu7BIjl",
        "eeYdRF7SD29D",
        "hU2AEEPtHl9f",
        "89ktDs3V3o9H",
        "w59UuCE0VVN9",
        "9EfR-MMSuebj",
        "cCO8rKXT7cOd",
        "KRqbn37N9331"
      ]
    },
    "kernelspec": {
      "display_name": "Python 3",
      "name": "python3"
    },
    "language_info": {
      "name": "python"
    }
  },
  "cells": [
    {
      "cell_type": "markdown",
      "metadata": {
        "id": "PCJUojQwWdPG"
      },
      "source": [
        "# Settings"
      ]
    },
    {
      "cell_type": "code",
      "metadata": {
        "id": "moyuP7b8NBBf",
        "colab": {
          "base_uri": "https://localhost:8080/"
        },
        "outputId": "aa2252cf-8108-49ad-f312-fc91d049802e"
      },
      "source": [
        "from google.colab import drive\n",
        "drive.mount('/content/drive')"
      ],
      "execution_count": null,
      "outputs": [
        {
          "output_type": "stream",
          "text": [
            "Mounted at /content/drive\n"
          ],
          "name": "stdout"
        }
      ]
    },
    {
      "cell_type": "code",
      "metadata": {
        "id": "-lenNKOs9B8m",
        "colab": {
          "base_uri": "https://localhost:8080/"
        },
        "outputId": "5ad6f7c0-a564-4209-bc6f-28782d9c75c0"
      },
      "source": [
        "!pip install -Uqq wandb\n",
        "# !wandb login\n",
        "# import os\n",
        "# os.environ['WANDB_ENTITY'] = \"capi-bgu\"\n",
        "# os.environ['WANDB_CONSOLE'] = \"off\"\n",
        "# os.environ['WANDB_SILENT'] = \"true\""
      ],
      "execution_count": null,
      "outputs": [
        {
          "output_type": "stream",
          "text": [
            "\u001b[K     |████████████████████████████████| 1.8MB 8.0MB/s \n",
            "\u001b[K     |████████████████████████████████| 133kB 45.2MB/s \n",
            "\u001b[K     |████████████████████████████████| 174kB 44.0MB/s \n",
            "\u001b[K     |████████████████████████████████| 102kB 12.0MB/s \n",
            "\u001b[K     |████████████████████████████████| 71kB 9.0MB/s \n",
            "\u001b[?25h  Building wheel for subprocess32 (setup.py) ... \u001b[?25l\u001b[?25hdone\n",
            "  Building wheel for pathtools (setup.py) ... \u001b[?25l\u001b[?25hdone\n"
          ],
          "name": "stdout"
        }
      ]
    },
    {
      "cell_type": "code",
      "metadata": {
        "id": "-sCYbtoWS46m",
        "colab": {
          "base_uri": "https://localhost:8080/"
        },
        "outputId": "9b75eaa3-d677-4ca0-891e-63d16abc567e"
      },
      "source": [
        "# In order to import pynput you need to run these files to make virtual env\n",
        "\n",
        "!apt-get install -y xvfb # Install X Virtual Frame Buffer\n",
        "import os\n",
        "os.system('Xvfb :1 -screen 0 1600x1200x16  &') # create virtual display with size 1600x1200 and 16 bit color. Color can be changed to 24 or 8\n",
        "os.environ['DISPLAY']=':1.0'"
      ],
      "execution_count": null,
      "outputs": [
        {
          "output_type": "stream",
          "text": [
            "Reading package lists... Done\n",
            "Building dependency tree       \n",
            "Reading state information... Done\n",
            "The following NEW packages will be installed:\n",
            "  xvfb\n",
            "0 upgraded, 1 newly installed, 0 to remove and 39 not upgraded.\n",
            "Need to get 784 kB of archives.\n",
            "After this operation, 2,270 kB of additional disk space will be used.\n",
            "Get:1 http://archive.ubuntu.com/ubuntu bionic-updates/universe amd64 xvfb amd64 2:1.19.6-1ubuntu4.9 [784 kB]\n",
            "Fetched 784 kB in 1s (704 kB/s)\n",
            "Selecting previously unselected package xvfb.\n",
            "(Reading database ... 160772 files and directories currently installed.)\n",
            "Preparing to unpack .../xvfb_2%3a1.19.6-1ubuntu4.9_amd64.deb ...\n",
            "Unpacking xvfb (2:1.19.6-1ubuntu4.9) ...\n",
            "Setting up xvfb (2:1.19.6-1ubuntu4.9) ...\n",
            "Processing triggers for man-db (2.8.3-2ubuntu0.1) ...\n"
          ],
          "name": "stdout"
        }
      ]
    },
    {
      "cell_type": "code",
      "metadata": {
        "id": "uKDNFrETS2k1",
        "colab": {
          "base_uri": "https://localhost:8080/"
        },
        "outputId": "398cbbc2-8f69-48cf-da03-c5af277364e8"
      },
      "source": [
        "!pip install -Uqq git+https://github.com/capi-bgu/oratio.git\n",
        "!pip install -Uqq imbalanced-learn\n",
        "!pip install -Uqq pynput==1.6.8\n",
        "!pip install -Uqq optuna\n",
        "!pip install -Uqq ipdb\n",
        "import ipdb"
      ],
      "execution_count": null,
      "outputs": [
        {
          "output_type": "stream",
          "text": [
            "  Building wheel for oratio (setup.py) ... \u001b[?25l\u001b[?25hdone\n",
            "\u001b[K     |████████████████████████████████| 215kB 7.4MB/s \n",
            "\u001b[K     |████████████████████████████████| 22.3MB 1.6MB/s \n",
            "\u001b[K     |████████████████████████████████| 92kB 5.3MB/s \n",
            "\u001b[K     |████████████████████████████████| 184kB 12.4MB/s \n",
            "\u001b[K     |████████████████████████████████| 307kB 7.7MB/s \n",
            "\u001b[K     |████████████████████████████████| 174kB 14.4MB/s \n",
            "\u001b[K     |████████████████████████████████| 81kB 8.2MB/s \n",
            "\u001b[K     |████████████████████████████████| 81kB 8.2MB/s \n",
            "\u001b[K     |████████████████████████████████| 112kB 13.1MB/s \n",
            "\u001b[K     |████████████████████████████████| 51kB 6.7MB/s \n",
            "\u001b[K     |████████████████████████████████| 143kB 11.4MB/s \n",
            "\u001b[?25h  Building wheel for pyperclip (setup.py) ... \u001b[?25l\u001b[?25hdone\n",
            "\u001b[K     |████████████████████████████████| 788kB 9.5MB/s \n",
            "\u001b[K     |████████████████████████████████| 368kB 22.3MB/s \n",
            "\u001b[?25h  Building wheel for ipdb (setup.py) ... \u001b[?25l\u001b[?25hdone\n",
            "\u001b[31mERROR: jupyter-console 5.2.0 has requirement prompt-toolkit<2.0.0,>=1.0.0, but you'll have prompt-toolkit 3.0.18 which is incompatible.\u001b[0m\n",
            "\u001b[31mERROR: google-colab 1.0.0 has requirement ipython~=5.5.0, but you'll have ipython 7.24.1 which is incompatible.\u001b[0m\n"
          ],
          "name": "stdout"
        }
      ]
    },
    {
      "cell_type": "code",
      "metadata": {
        "id": "uLwrzLXbThd0",
        "colab": {
          "base_uri": "https://localhost:8080/"
        },
        "outputId": "c12d0539-ace1-4319-c63b-9be3d392164a"
      },
      "source": [
        "!git clone https://github.com/capi-bgu/Research.git\n",
        "from Research.util.data_loading import *\n",
        "from Research.util.evaluate import *\n",
        "from Research.util.tune import *"
      ],
      "execution_count": null,
      "outputs": [
        {
          "output_type": "stream",
          "text": [
            "Cloning into 'Research'...\n",
            "remote: Enumerating objects: 332, done.\u001b[K\n",
            "remote: Counting objects: 100% (332/332), done.\u001b[K\n",
            "remote: Compressing objects: 100% (232/232), done.\u001b[K\n",
            "remote: Total 332 (delta 150), reused 240 (delta 86), pack-reused 0\u001b[K\n",
            "Receiving objects: 100% (332/332), 744.53 KiB | 19.09 MiB/s, done.\n",
            "Resolving deltas: 100% (150/150), done.\n"
          ],
          "name": "stdout"
        },
        {
          "output_type": "stream",
          "text": [
            "/usr/local/lib/python3.7/dist-packages/optuna/structs.py:18: FutureWarning:\n",
            "\n",
            "`structs` is deprecated. Classes have moved to the following modules. `structs.StudyDirection`->`study.StudyDirection`, `structs.StudySummary`->`study.StudySummary`, `structs.FrozenTrial`->`trial.FrozenTrial`, `structs.TrialState`->`trial.TrialState`, `structs.TrialPruned`->`exceptions.TrialPruned`.\n",
            "\n"
          ],
          "name": "stderr"
        }
      ]
    },
    {
      "cell_type": "markdown",
      "metadata": {
        "id": "_wa83DhWnbPq"
      },
      "source": [
        "# Data"
      ]
    },
    {
      "cell_type": "code",
      "metadata": {
        "id": "VhsmEvuQnbPr"
      },
      "source": [
        "from sklearn.model_selection import train_test_split\n",
        "\n",
        "def load_data(path, channels, duration):\n",
        "  data = load_features(path, channels, duration)\n",
        "  labels = [\"categorical\", \"valance\", \"arousal\", \"dominance\", \"positive\"]\n",
        "  y = data[labels]\n",
        "  X = data.drop(columns=[\"session\", \"time\"]+labels)\n",
        "  X[\"dominate_window\"] = X[\"dominate_window\"].astype('category').cat.codes.astype(np.uint32)\n",
        "  X[\"dominate_task\"] = X[\"dominate_task\"].astype('category').cat.codes.astype(np.uint32)\n",
        "  for column in X:\n",
        "    if \"Turn\" in column or \\\n",
        "       \"count\" in column or \\\n",
        "       \"switches\" in column or \\\n",
        "       \"mode_key\" in column or \\\n",
        "       \"Direction\" in column or \\\n",
        "       \"unique_events\" in column or \\\n",
        "       \"error_corrections\" in column:\n",
        "      X[column] = X[column].astype(np.uint32)\n",
        "  X_train, X_test, y_train, y_test = train_test_split(X, y, test_size=0.2,random_state=11)\n",
        "  return X, X_train, X_test, y, y_train, y_test"
      ],
      "execution_count": null,
      "outputs": []
    },
    {
      "cell_type": "code",
      "metadata": {
        "id": "EJ6zj2j1nbPu"
      },
      "source": [
        "X, X_train, X_test, y, y_train, y_test = load_data(\"/content/drive/MyDrive/capi/data/public/ron.db\", \"Mouse\", 10)"
      ],
      "execution_count": null,
      "outputs": []
    },
    {
      "cell_type": "markdown",
      "metadata": {
        "id": "aeUkKwvUk28O"
      },
      "source": [
        "# Model"
      ]
    },
    {
      "cell_type": "markdown",
      "metadata": {
        "id": "_xYJ8KNo5hhm"
      },
      "source": [
        "## models tuning"
      ]
    },
    {
      "cell_type": "code",
      "metadata": {
        "id": "v5bGnNrGknrb"
      },
      "source": [
        "optuna.logging.set_verbosity(optuna.logging.INFO)"
      ],
      "execution_count": null,
      "outputs": []
    },
    {
      "cell_type": "code",
      "metadata": {
        "id": "equmixvZZYO4"
      },
      "source": [
        "from abc import ABC\n",
        "from optuna.trial import Trial\n",
        "from sklearn.preprocessing import MinMaxScaler\n",
        "from sklearn.preprocessing import StandardScaler\n",
        "\n",
        "class SklearnTuner(Tuner, ABC):\n",
        "  def __init__(self, name, X_train, X_test, y_train, y_test, labeling_type):\n",
        "    super().__init__(project=\"capi\", name=name, monitor=\"mujority-model-dif_sum\",\n",
        "                      default_params={})\n",
        "    self.X_train = X_train\n",
        "    self.X_test = X_test\n",
        "    self.y_train = y_train[labeling_type]\n",
        "    self.y_test = y_test[labeling_type]\n",
        "    self.best_score = float('inf')\n",
        "    self.best_model = None\n",
        "    self.weights = None\n",
        "    self.direction = \"minimize\"\n",
        "    \n",
        "    baseline_preds = self._get_baseline_prediction()\n",
        "    self.majority_eval = self._get_prediction_score(baseline_preds, self.y_test)\n",
        "\n",
        "  def objective(self, callbacks=()):\n",
        "    model = self.build_model()\n",
        "    model.fit(self.X_train, self.y_train)\n",
        "    return self.__score_model(model)\n",
        "  \n",
        "  def run(self, trials=100, use_logger=False):\n",
        "    super().run(trials, self.direction, use_logger)\n",
        "\n",
        "  def get_best_results(self):\n",
        "    eval = self.__get_model_results(self.best_model)\n",
        "    eval[\"model\"] = self.name\n",
        "    return eval\n",
        "  \n",
        "  def __score_model(self, model):\n",
        "    eval = self.__get_model_results(model)\n",
        "    score = 0\n",
        "    for param in eval:\n",
        "      score += self.weights[param] * (self.majority_eval[param] - eval[param])\n",
        "    \n",
        "    best = False\n",
        "    if self.direction == \"minimize\":\n",
        "      if score < self.best_score:\n",
        "        best = True\n",
        "    elif self.direction == \"maximize\":\n",
        "      if score > self.best_score:\n",
        "        best = True\n",
        "    if best:    \n",
        "      self.best_score = score\n",
        "      self.best_model = model\n",
        "    return score\n",
        "\n",
        "  def __get_model_results(self, model):\n",
        "    predictions = model.predict(self.X_test)\n",
        "    eval = self._get_prediction_score(predictions, self.y_test)\n",
        "    return eval\n",
        "\n",
        "  @abstractmethod\n",
        "  def build_model(self):\n",
        "    pass\n",
        "    \n",
        "  @abstractmethod\n",
        "  def show_best_results(self, path_to_save=None):\n",
        "    pass\n",
        "\n",
        "  @abstractmethod\n",
        "  def _get_baseline_prediction(self):\n",
        "    pass\n",
        "  \n",
        "  @abstractmethod\n",
        "  def _get_prediction_score(self, y_pred, y_true):\n",
        "    pass"
      ],
      "execution_count": null,
      "outputs": []
    },
    {
      "cell_type": "markdown",
      "metadata": {
        "id": "s6KGVFVdYn7-"
      },
      "source": [
        "### classification"
      ]
    },
    {
      "cell_type": "code",
      "metadata": {
        "id": "Uk1gZanNjnvF"
      },
      "source": [
        "import os\n",
        "import pickle\n",
        "from abc import ABC\n",
        "\n",
        "class ClassificationTuner(SklearnTuner, ABC):\n",
        "  def __init__(self, name, X_train, X_test, y_train, y_test, labeling_type, weights):\n",
        "    super().__init__(name, X_train, X_test, y_train, y_test, labeling_type)\n",
        "    self.weights = weights\n",
        "    self.best_score = float('inf')\n",
        "    self.direction = \"minimize\"\n",
        "\n",
        "  def show_best_results(self, path_to_save=None):\n",
        "    scores = pd.DataFrame(columns=['model', 'accuracy', 'balanced accuracy',\n",
        "                                   'precision', 'recall', 'f1 score'])\n",
        "    majority_eval = self.majority_eval\n",
        "    majority_eval[\"model\"] = \"majority rule\"\n",
        "    scores = scores.append(majority_eval, ignore_index=True)\n",
        "    \n",
        "    best_results = self.get_best_results()\n",
        "    scores = scores.append(best_results, ignore_index=True)\n",
        "\n",
        "    if path_to_save is not None:\n",
        "      os.mkdir(f\"{path_to_save}/{self.name}\")\n",
        "      with open(f'{path_to_save}/{self.name}/pickled_scores.df', 'wb') as res_file:\n",
        "        pickle.dump(scores, res_file)\n",
        "      scores.to_html(f'{path_to_save}/{self.name}/scores.html')\n",
        "      with open(f'{path_to_save}/{self.name}/model.md', 'wb') as model_file:\n",
        "        pickle.dump(self.best_model, model_file)\n",
        "      return\n",
        "\n",
        "    return scores\n",
        "\n",
        "  def _get_baseline_prediction(self):\n",
        "    mode_label = self.y_train.mode()[0]\n",
        "    baseline_prediction = [mode_label for _ in range(len(self.y_test))]\n",
        "    return baseline_prediction\n",
        "\n",
        "  def _get_prediction_score(self, y_pred, y_true):\n",
        "    return dict(clf_scores(np.array(y_true),np.array(y_pred)))\n",
        "\n",
        "  @abstractmethod\n",
        "  def build_model(self):\n",
        "    pass\n",
        "  "
      ],
      "execution_count": null,
      "outputs": []
    },
    {
      "cell_type": "code",
      "metadata": {
        "id": "AKhKvaOJiftu"
      },
      "source": [
        "labeling_type = \"categorical\"\n",
        "weights = {\"accuracy\":1, \"balanced accuracy\":0.5, \"precision\":0, \"recall\":0, \"f1 score\":0}\n",
        "trials = 10"
      ],
      "execution_count": null,
      "outputs": []
    },
    {
      "cell_type": "markdown",
      "metadata": {
        "id": "7gTwfcBe5mCd"
      },
      "source": [
        "#### linear svm"
      ]
    },
    {
      "cell_type": "code",
      "metadata": {
        "id": "A4aB3epPrKPc"
      },
      "source": [
        "from sklearn.svm import LinearSVC\n",
        "from sklearn.pipeline import make_pipeline\n",
        "from sklearn.preprocessing import MinMaxScaler\n",
        "\n",
        "class LinearSVMTuner(ClassificationTuner):\n",
        "  def __init__(self, X_train, X_test, y_train, y_test, labeling_type,\n",
        "               weights={\"accuracy\":1, \"balanced accuracy\":1, \"precision\":1,\n",
        "                        \"recall\":1, \"f1 score\":1}):\n",
        "    super().__init__(\"linear_svm\", X_train, X_test, y_train, y_test, labeling_type, weights)\n",
        "\n",
        "  def build_model(self):\n",
        "    model = make_pipeline(MinMaxScaler(),\n",
        "                          LinearSVC(penalty=self.params[\"penalty\"],\n",
        "                                    loss=\"squared_hinge\",\n",
        "                                    dual=False,\n",
        "                                    C=self.params[\"C\"],\n",
        "                                    multi_class=self.params[\"multi_class\"],\n",
        "                                    fit_intercept=True,\n",
        "                                    intercept_scaling=self.params[\"intercept_scaling\"],\n",
        "                                    class_weight=None,\n",
        "                                    verbose=0,\n",
        "                                    random_state=42,\n",
        "                                    max_iter=50000))\n",
        "    return model\n",
        "\n",
        "  def update_params(self, trial: Trial):\n",
        "    self.params[\"penalty\"] = trial.suggest_categorical(\"penalty\", [\"l1\", \"l2\"])\n",
        "    self.params[\"multi_class\"] = trial.suggest_categorical(\"multi_class\", [\"ovr\", \"crammer_singer\"])\n",
        "    self.params[\"C\"] = trial.suggest_float(\"C\", 0, 1)\n",
        "    self.params[\"intercept_scaling\"] = trial.suggest_float(\"intercept_scaling\", 0, 10)\n",
        "  \n",
        "  def run(self, trials=100, use_logger=False):\n",
        "    super().run(trials, use_logger)"
      ],
      "execution_count": null,
      "outputs": []
    },
    {
      "cell_type": "code",
      "metadata": {
        "id": "nyE35UP4xJ8E",
        "colab": {
          "base_uri": "https://localhost:8080/"
        },
        "outputId": "47bcc35b-f195-424e-d427-390f5bbc57b9"
      },
      "source": [
        "lsvm_tuner = LinearSVMTuner(X_train, X_test, y_train, y_test, labeling_type, weights)\n",
        "lsvm_tuner.run(trials)\n",
        "lsvm_tuner.show_best_results()"
      ],
      "execution_count": null,
      "outputs": [
        {
          "output_type": "stream",
          "text": [
            "\u001b[32m[I 2021-06-07 17:55:43,771]\u001b[0m A new study created in memory with name: no-name-60e82838-6558-464f-8aea-e1151df6beb8\u001b[0m\n",
            "\u001b[32m[I 2021-06-07 17:55:44,581]\u001b[0m Trial 0 finished with value: 0.07677970177970178 and parameters: {'penalty': 'l2', 'multi_class': 'crammer_singer', 'C': 0.2647251104931927, 'intercept_scaling': 7.404991539990849}. Best is trial 0 with value: 0.07677970177970178.\u001b[0m\n",
            "\u001b[32m[I 2021-06-07 17:55:44,607]\u001b[0m Trial 1 finished with value: -0.052489177489177474 and parameters: {'penalty': 'l2', 'multi_class': 'ovr', 'C': 0.7511670141587344, 'intercept_scaling': 7.326169900229603}. Best is trial 1 with value: -0.052489177489177474.\u001b[0m\n",
            "\u001b[32m[I 2021-06-07 17:55:44,626]\u001b[0m Trial 2 finished with value: -0.052489177489177474 and parameters: {'penalty': 'l2', 'multi_class': 'ovr', 'C': 0.7261314077012728, 'intercept_scaling': 7.767864030856861}. Best is trial 1 with value: -0.052489177489177474.\u001b[0m\n",
            "\u001b[32m[I 2021-06-07 17:55:44,663]\u001b[0m Trial 3 finished with value: 0.016774891774891748 and parameters: {'penalty': 'l1', 'multi_class': 'ovr', 'C': 0.689644350364842, 'intercept_scaling': 1.6748768964809313}. Best is trial 1 with value: -0.052489177489177474.\u001b[0m\n",
            "\u001b[32m[I 2021-06-07 17:55:44,720]\u001b[0m Trial 4 finished with value: -0.01785714285714285 and parameters: {'penalty': 'l1', 'multi_class': 'ovr', 'C': 0.9776530501607922, 'intercept_scaling': 9.048913228810658}. Best is trial 1 with value: -0.052489177489177474.\u001b[0m\n",
            "\u001b[32m[I 2021-06-07 17:55:45,296]\u001b[0m Trial 5 finished with value: 0.06818181818181818 and parameters: {'penalty': 'l1', 'multi_class': 'crammer_singer', 'C': 0.6136668993726708, 'intercept_scaling': 4.555605698564953}. Best is trial 1 with value: -0.052489177489177474.\u001b[0m\n",
            "\u001b[32m[I 2021-06-07 17:55:45,325]\u001b[0m Trial 6 finished with value: -0.011904761904761904 and parameters: {'penalty': 'l1', 'multi_class': 'ovr', 'C': 0.4342748396114662, 'intercept_scaling': 3.4999833555372293}. Best is trial 1 with value: -0.052489177489177474.\u001b[0m\n",
            "\u001b[32m[I 2021-06-07 17:55:45,358]\u001b[0m Trial 7 finished with value: -0.011904761904761904 and parameters: {'penalty': 'l1', 'multi_class': 'ovr', 'C': 0.508947710609385, 'intercept_scaling': 3.4812952058812874}. Best is trial 1 with value: -0.052489177489177474.\u001b[0m\n",
            "\u001b[32m[I 2021-06-07 17:55:45,788]\u001b[0m Trial 8 finished with value: 0.06818181818181818 and parameters: {'penalty': 'l2', 'multi_class': 'crammer_singer', 'C': 0.8956843331286599, 'intercept_scaling': 3.616581267876308}. Best is trial 1 with value: -0.052489177489177474.\u001b[0m\n",
            "/usr/local/lib/python3.7/dist-packages/sklearn/svm/_base.py:986: ConvergenceWarning:\n",
            "\n",
            "Liblinear failed to converge, increase the number of iterations.\n",
            "\n",
            "\u001b[32m[I 2021-06-07 17:55:47,953]\u001b[0m Trial 9 finished with value: 0.07082732082732082 and parameters: {'penalty': 'l1', 'multi_class': 'crammer_singer', 'C': 0.9634039597136832, 'intercept_scaling': 8.887131691661944}. Best is trial 1 with value: -0.052489177489177474.\u001b[0m\n"
          ],
          "name": "stderr"
        },
        {
          "output_type": "stream",
          "text": [
            "hyperparameter optimization results:\n",
            "\tnumber of trials: 10\n",
            "\tnumber of pruned trials: 0\n",
            "\tbest value (mujority-model-dif_sum): -0.052489177489177474\n",
            "\toptimized parameters:\n",
            "\t\tpenalty: l2\n",
            "\t\tmulti_class: ovr\n",
            "\t\tC: 0.7511670141587344\n",
            "\t\tintercept_scaling: 7.326169900229603\n",
            "\tfinal parameters:\n",
            "\t\tpenalty: l2\n",
            "\t\tmulti_class: ovr\n",
            "\t\tC: 0.7511670141587344\n",
            "\t\tintercept_scaling: 7.326169900229603\n"
          ],
          "name": "stdout"
        },
        {
          "output_type": "execute_result",
          "data": {
            "text/html": [
              "<div>\n",
              "<style scoped>\n",
              "    .dataframe tbody tr th:only-of-type {\n",
              "        vertical-align: middle;\n",
              "    }\n",
              "\n",
              "    .dataframe tbody tr th {\n",
              "        vertical-align: top;\n",
              "    }\n",
              "\n",
              "    .dataframe thead th {\n",
              "        text-align: right;\n",
              "    }\n",
              "</style>\n",
              "<table border=\"1\" class=\"dataframe\">\n",
              "  <thead>\n",
              "    <tr style=\"text-align: right;\">\n",
              "      <th></th>\n",
              "      <th>model</th>\n",
              "      <th>accuracy</th>\n",
              "      <th>balanced accuracy</th>\n",
              "      <th>precision</th>\n",
              "      <th>recall</th>\n",
              "      <th>f1 score</th>\n",
              "    </tr>\n",
              "  </thead>\n",
              "  <tbody>\n",
              "    <tr>\n",
              "      <th>0</th>\n",
              "      <td>majority rule</td>\n",
              "      <td>0.318182</td>\n",
              "      <td>0.166667</td>\n",
              "      <td>0.318182</td>\n",
              "      <td>0.318182</td>\n",
              "      <td>0.318182</td>\n",
              "    </tr>\n",
              "    <tr>\n",
              "      <th>1</th>\n",
              "      <td>linear_svm</td>\n",
              "      <td>0.340909</td>\n",
              "      <td>0.226190</td>\n",
              "      <td>0.340909</td>\n",
              "      <td>0.340909</td>\n",
              "      <td>0.340909</td>\n",
              "    </tr>\n",
              "  </tbody>\n",
              "</table>\n",
              "</div>"
            ],
            "text/plain": [
              "           model  accuracy  balanced accuracy  precision    recall  f1 score\n",
              "0  majority rule  0.318182           0.166667   0.318182  0.318182  0.318182\n",
              "1     linear_svm  0.340909           0.226190   0.340909  0.340909  0.340909"
            ]
          },
          "metadata": {
            "tags": []
          },
          "execution_count": 102
        }
      ]
    },
    {
      "cell_type": "markdown",
      "metadata": {
        "id": "cK7hb6ppc_ga"
      },
      "source": [
        "#### KNeighbors"
      ]
    },
    {
      "cell_type": "code",
      "metadata": {
        "id": "6lD5DmrvdC1l"
      },
      "source": [
        "from sklearn.neighbors import KNeighborsClassifier\n",
        "\n",
        "class KNeighborsTuner(ClassificationTuner):\n",
        "  def __init__(self, X_train, X_test, y_train, y_test, labeling_type,\n",
        "               weights={\"accuracy\":1, \"balanced accuracy\":1, \"precision\":1,\n",
        "                        \"recall\":1, \"f1 score\":1}):\n",
        "    super().__init__(\"knn\", X_train, X_test, y_train, y_test, labeling_type, weights)\n",
        "  def build_model(self):\n",
        "    model = KNeighborsClassifier(n_neighbors=self.params[\"n_neighbors\"], \n",
        "                                 weights=self.params[\"weights\"], \n",
        "                                 algorithm=self.params[\"algorithm\"],\n",
        "                                 p=self.params[\"p\"], \n",
        "                                 metric=self.params[\"metric\"])\n",
        "    return model\n",
        "\n",
        "  def update_params(self, trial: Trial):    \n",
        "    self.params[\"n_neighbors\"] = trial.suggest_int(\"n_neighbors\", 1,20)\n",
        "    self.params[\"weights\"] = trial.suggest_categorical(\"weights\", [\"uniform\", \"distance\"])\n",
        "    self.params[\"algorithm\"] = trial.suggest_categorical(\"algorithm\", [\"ball_tree\", \"kd_tree\", \"brute\"])\n",
        "    self.params[\"p\"] = trial.suggest_int(\"p\", 1,5)\n",
        "    self.params[\"metric\"] = trial.suggest_categorical(\"metric\", [\"euclidean\", \"manhattan\", \"chebyshev\", \"minkowski\"])\n",
        "  \n",
        "  def run(self, trials=100, use_logger=False):\n",
        "    super().run(trials, use_logger)"
      ],
      "execution_count": null,
      "outputs": []
    },
    {
      "cell_type": "code",
      "metadata": {
        "id": "LjJkYrr9dDPI",
        "colab": {
          "base_uri": "https://localhost:8080/"
        },
        "outputId": "f2bf3dd4-5d47-4911-d4f1-62e7834c9f02"
      },
      "source": [
        "knn_tuner = KNeighborsTuner(X_train, X_test, y_train, y_test, labeling_type, weights)\n",
        "knn_tuner.run(trials)\n",
        "knn_tuner.show_best_results()"
      ],
      "execution_count": null,
      "outputs": [
        {
          "output_type": "stream",
          "text": [
            "\u001b[32m[I 2021-06-07 17:55:48,037]\u001b[0m A new study created in memory with name: no-name-a1513404-07bc-47e1-a8a1-8365a89dcbe0\u001b[0m\n",
            "\u001b[32m[I 2021-06-07 17:55:48,052]\u001b[0m Trial 0 finished with value: -0.052489177489177474 and parameters: {'n_neighbors': 10, 'weights': 'distance', 'algorithm': 'kd_tree', 'p': 2, 'metric': 'manhattan'}. Best is trial 0 with value: -0.052489177489177474.\u001b[0m\n",
            "\u001b[32m[I 2021-06-07 17:55:48,069]\u001b[0m Trial 1 finished with value: -0.025553150553150564 and parameters: {'n_neighbors': 1, 'weights': 'distance', 'algorithm': 'brute', 'p': 1, 'metric': 'chebyshev'}. Best is trial 0 with value: -0.052489177489177474.\u001b[0m\n",
            "\u001b[32m[I 2021-06-07 17:55:48,084]\u001b[0m Trial 2 finished with value: -0.1492424242424243 and parameters: {'n_neighbors': 16, 'weights': 'distance', 'algorithm': 'ball_tree', 'p': 4, 'metric': 'manhattan'}. Best is trial 2 with value: -0.1492424242424243.\u001b[0m\n",
            "\u001b[32m[I 2021-06-07 17:55:48,114]\u001b[0m Trial 3 finished with value: -0.09296536796536793 and parameters: {'n_neighbors': 14, 'weights': 'uniform', 'algorithm': 'brute', 'p': 5, 'metric': 'minkowski'}. Best is trial 2 with value: -0.1492424242424243.\u001b[0m\n",
            "\u001b[32m[I 2021-06-07 17:55:48,130]\u001b[0m Trial 4 finished with value: 0.13149350649350647 and parameters: {'n_neighbors': 7, 'weights': 'distance', 'algorithm': 'kd_tree', 'p': 2, 'metric': 'chebyshev'}. Best is trial 2 with value: -0.1492424242424243.\u001b[0m\n",
            "\u001b[32m[I 2021-06-07 17:55:48,146]\u001b[0m Trial 5 finished with value: -0.1319384319384319 and parameters: {'n_neighbors': 4, 'weights': 'uniform', 'algorithm': 'ball_tree', 'p': 1, 'metric': 'manhattan'}. Best is trial 2 with value: -0.1492424242424243.\u001b[0m\n",
            "\u001b[32m[I 2021-06-07 17:55:48,163]\u001b[0m Trial 6 finished with value: -0.06320346320346319 and parameters: {'n_neighbors': 13, 'weights': 'uniform', 'algorithm': 'kd_tree', 'p': 4, 'metric': 'euclidean'}. Best is trial 2 with value: -0.1492424242424243.\u001b[0m\n",
            "\u001b[32m[I 2021-06-07 17:55:48,178]\u001b[0m Trial 7 finished with value: -0.055796055796055774 and parameters: {'n_neighbors': 7, 'weights': 'distance', 'algorithm': 'ball_tree', 'p': 4, 'metric': 'manhattan'}. Best is trial 2 with value: -0.1492424242424243.\u001b[0m\n",
            "\u001b[32m[I 2021-06-07 17:55:48,194]\u001b[0m Trial 8 finished with value: 0.13149350649350647 and parameters: {'n_neighbors': 7, 'weights': 'distance', 'algorithm': 'ball_tree', 'p': 2, 'metric': 'chebyshev'}. Best is trial 2 with value: -0.1492424242424243.\u001b[0m\n",
            "\u001b[32m[I 2021-06-07 17:55:48,211]\u001b[0m Trial 9 finished with value: 0.04545454545454547 and parameters: {'n_neighbors': 7, 'weights': 'uniform', 'algorithm': 'ball_tree', 'p': 5, 'metric': 'chebyshev'}. Best is trial 2 with value: -0.1492424242424243.\u001b[0m\n"
          ],
          "name": "stderr"
        },
        {
          "output_type": "stream",
          "text": [
            "hyperparameter optimization results:\n",
            "\tnumber of trials: 10\n",
            "\tnumber of pruned trials: 0\n",
            "\tbest value (mujority-model-dif_sum): -0.1492424242424243\n",
            "\toptimized parameters:\n",
            "\t\tn_neighbors: 16\n",
            "\t\tweights: distance\n",
            "\t\talgorithm: ball_tree\n",
            "\t\tp: 4\n",
            "\t\tmetric: manhattan\n",
            "\tfinal parameters:\n",
            "\t\tn_neighbors: 16\n",
            "\t\tweights: distance\n",
            "\t\talgorithm: ball_tree\n",
            "\t\tp: 4\n",
            "\t\tmetric: manhattan\n"
          ],
          "name": "stdout"
        },
        {
          "output_type": "execute_result",
          "data": {
            "text/html": [
              "<div>\n",
              "<style scoped>\n",
              "    .dataframe tbody tr th:only-of-type {\n",
              "        vertical-align: middle;\n",
              "    }\n",
              "\n",
              "    .dataframe tbody tr th {\n",
              "        vertical-align: top;\n",
              "    }\n",
              "\n",
              "    .dataframe thead th {\n",
              "        text-align: right;\n",
              "    }\n",
              "</style>\n",
              "<table border=\"1\" class=\"dataframe\">\n",
              "  <thead>\n",
              "    <tr style=\"text-align: right;\">\n",
              "      <th></th>\n",
              "      <th>model</th>\n",
              "      <th>accuracy</th>\n",
              "      <th>balanced accuracy</th>\n",
              "      <th>precision</th>\n",
              "      <th>recall</th>\n",
              "      <th>f1 score</th>\n",
              "    </tr>\n",
              "  </thead>\n",
              "  <tbody>\n",
              "    <tr>\n",
              "      <th>0</th>\n",
              "      <td>majority rule</td>\n",
              "      <td>0.318182</td>\n",
              "      <td>0.166667</td>\n",
              "      <td>0.318182</td>\n",
              "      <td>0.318182</td>\n",
              "      <td>0.318182</td>\n",
              "    </tr>\n",
              "    <tr>\n",
              "      <th>1</th>\n",
              "      <td>knn</td>\n",
              "      <td>0.409091</td>\n",
              "      <td>0.283333</td>\n",
              "      <td>0.409091</td>\n",
              "      <td>0.409091</td>\n",
              "      <td>0.409091</td>\n",
              "    </tr>\n",
              "  </tbody>\n",
              "</table>\n",
              "</div>"
            ],
            "text/plain": [
              "           model  accuracy  balanced accuracy  precision    recall  f1 score\n",
              "0  majority rule  0.318182           0.166667   0.318182  0.318182  0.318182\n",
              "1            knn  0.409091           0.283333   0.409091  0.409091  0.409091"
            ]
          },
          "metadata": {
            "tags": []
          },
          "execution_count": 104
        }
      ]
    },
    {
      "cell_type": "markdown",
      "metadata": {
        "id": "FyNYIDJRkIF4"
      },
      "source": [
        "#### DecisionTrees"
      ]
    },
    {
      "cell_type": "code",
      "metadata": {
        "id": "LyVbupctkKYA"
      },
      "source": [
        "from sklearn.tree import DecisionTreeClassifier\n",
        "\n",
        "class DecisionTreeTuner(ClassificationTuner):\n",
        "  def __init__(self, X_train, X_test, y_train, y_test, labeling_type,\n",
        "               weights={\"accuracy\":1, \"balanced accuracy\":1, \"precision\":1,\n",
        "                        \"recall\":1, \"f1 score\":1}):\n",
        "    super().__init__(\"decision_tree\", X_train, X_test, y_train, y_test, labeling_type, weights)\n",
        "    \n",
        "  def build_model(self):\n",
        "    model = DecisionTreeClassifier(criterion=self.params[\"criterion\"], \n",
        "                                   splitter=self.params[\"splitter\"], \n",
        "                                   max_depth=self.params[\"max_depth\"], \n",
        "                                   min_samples_split=self.params[\"min_samples_split\"], \n",
        "                                   min_samples_leaf=self.params[\"min_samples_leaf\"],   \n",
        "                                   max_features=self.params[\"max_features\"],  \n",
        "                                   random_state=42, \n",
        "                                   max_leaf_nodes=self.params[\"max_leaf_nodes\"],  \n",
        "                                   class_weight=self.params[\"class_weight\"], \n",
        "                                   ccp_alpha=self.params[\"ccp_alpha\"])\n",
        "    return model\n",
        "\n",
        "  def update_params(self, trial: Trial):\n",
        "    self.params[\"criterion\"] = trial.suggest_categorical(\"criterion\", [\"gini\", \"entropy\"])\n",
        "    self.params[\"splitter\"] = trial.suggest_categorical(\"splitter\", [\"best\", \"random\"])\n",
        "    self.params[\"max_depth\"] = trial.suggest_int(\"max_depth\", 3,40)\n",
        "    self.params[\"min_samples_split\"] = trial.suggest_int(\"min_samples_split\", 2,6)\n",
        "    self.params[\"min_samples_leaf\"] = trial.suggest_int(\"min_samples_leaf\", 2,6)\n",
        "    self.params[\"max_features\"] = trial.suggest_int(\"max_features\", 1, len(self.X_train.columns))\n",
        "    self.params[\"max_leaf_nodes\"] = trial.suggest_int(\"max_leaf_nodes\", 2,30)\n",
        "    self.params[\"class_weight\"] = trial.suggest_categorical(\"class_weight\", [None, \"balanced\"])\n",
        "    self.params[\"ccp_alpha\"] = trial.suggest_float(\"ccp_alpha\", 0, 1)\n",
        "  \n",
        "  def run(self, trials=300, use_logger=False):\n",
        "    super().run(trials, use_logger)    "
      ],
      "execution_count": null,
      "outputs": []
    },
    {
      "cell_type": "code",
      "metadata": {
        "id": "GumkHsybkKvs",
        "colab": {
          "base_uri": "https://localhost:8080/"
        },
        "outputId": "8bb9141d-412a-4a25-cd25-bf2df8d21135"
      },
      "source": [
        "dt_tuner = DecisionTreeTuner(X_train, X_test, y_train, y_test, labeling_type, weights)\n",
        "dt_tuner.run(trials)\n",
        "dt_tuner.show_best_results()"
      ],
      "execution_count": null,
      "outputs": [
        {
          "output_type": "stream",
          "text": [
            "\u001b[32m[I 2021-06-07 17:55:48,311]\u001b[0m A new study created in memory with name: no-name-df09642c-28ef-461d-adcd-48ee8a33f1fe\u001b[0m\n",
            "\u001b[32m[I 2021-06-07 17:55:48,326]\u001b[0m Trial 0 finished with value: 0.0 and parameters: {'criterion': 'gini', 'splitter': 'random', 'max_depth': 13, 'min_samples_split': 5, 'min_samples_leaf': 3, 'max_features': 16, 'max_leaf_nodes': 19, 'class_weight': None, 'ccp_alpha': 0.2581183968345938}. Best is trial 0 with value: 0.0.\u001b[0m\n",
            "\u001b[32m[I 2021-06-07 17:55:48,342]\u001b[0m Trial 1 finished with value: 0.0 and parameters: {'criterion': 'gini', 'splitter': 'best', 'max_depth': 28, 'min_samples_split': 6, 'min_samples_leaf': 6, 'max_features': 34, 'max_leaf_nodes': 13, 'class_weight': None, 'ccp_alpha': 0.45133653007905616}. Best is trial 0 with value: 0.0.\u001b[0m\n",
            "\u001b[32m[I 2021-06-07 17:55:48,358]\u001b[0m Trial 2 finished with value: 0.0 and parameters: {'criterion': 'entropy', 'splitter': 'best', 'max_depth': 5, 'min_samples_split': 5, 'min_samples_leaf': 2, 'max_features': 16, 'max_leaf_nodes': 21, 'class_weight': 'balanced', 'ccp_alpha': 0.5229358900095729}. Best is trial 0 with value: 0.0.\u001b[0m\n",
            "\u001b[32m[I 2021-06-07 17:55:48,373]\u001b[0m Trial 3 finished with value: 0.0 and parameters: {'criterion': 'entropy', 'splitter': 'random', 'max_depth': 31, 'min_samples_split': 6, 'min_samples_leaf': 3, 'max_features': 35, 'max_leaf_nodes': 9, 'class_weight': 'balanced', 'ccp_alpha': 0.9826711710460206}. Best is trial 0 with value: 0.0.\u001b[0m\n",
            "\u001b[32m[I 2021-06-07 17:55:48,390]\u001b[0m Trial 4 finished with value: 0.0 and parameters: {'criterion': 'entropy', 'splitter': 'best', 'max_depth': 34, 'min_samples_split': 6, 'min_samples_leaf': 5, 'max_features': 28, 'max_leaf_nodes': 12, 'class_weight': 'balanced', 'ccp_alpha': 0.21895770750123456}. Best is trial 0 with value: 0.0.\u001b[0m\n",
            "\u001b[32m[I 2021-06-07 17:55:48,412]\u001b[0m Trial 5 finished with value: 0.0 and parameters: {'criterion': 'entropy', 'splitter': 'best', 'max_depth': 12, 'min_samples_split': 6, 'min_samples_leaf': 3, 'max_features': 18, 'max_leaf_nodes': 23, 'class_weight': None, 'ccp_alpha': 0.7306168372872013}. Best is trial 0 with value: 0.0.\u001b[0m\n",
            "\u001b[32m[I 2021-06-07 17:55:48,426]\u001b[0m Trial 6 finished with value: 0.0 and parameters: {'criterion': 'gini', 'splitter': 'best', 'max_depth': 38, 'min_samples_split': 5, 'min_samples_leaf': 4, 'max_features': 27, 'max_leaf_nodes': 13, 'class_weight': 'balanced', 'ccp_alpha': 0.790733424782276}. Best is trial 0 with value: 0.0.\u001b[0m\n",
            "\u001b[32m[I 2021-06-07 17:55:48,443]\u001b[0m Trial 7 finished with value: 0.0 and parameters: {'criterion': 'entropy', 'splitter': 'best', 'max_depth': 18, 'min_samples_split': 5, 'min_samples_leaf': 5, 'max_features': 21, 'max_leaf_nodes': 23, 'class_weight': None, 'ccp_alpha': 0.7196177923777449}. Best is trial 0 with value: 0.0.\u001b[0m\n",
            "\u001b[32m[I 2021-06-07 17:55:48,460]\u001b[0m Trial 8 finished with value: 0.0 and parameters: {'criterion': 'entropy', 'splitter': 'best', 'max_depth': 3, 'min_samples_split': 5, 'min_samples_leaf': 4, 'max_features': 12, 'max_leaf_nodes': 24, 'class_weight': 'balanced', 'ccp_alpha': 0.7048069876397999}. Best is trial 0 with value: 0.0.\u001b[0m\n",
            "\u001b[32m[I 2021-06-07 17:55:48,475]\u001b[0m Trial 9 finished with value: 0.0 and parameters: {'criterion': 'gini', 'splitter': 'random', 'max_depth': 7, 'min_samples_split': 6, 'min_samples_leaf': 3, 'max_features': 11, 'max_leaf_nodes': 21, 'class_weight': 'balanced', 'ccp_alpha': 0.3538851642709293}. Best is trial 0 with value: 0.0.\u001b[0m\n"
          ],
          "name": "stderr"
        },
        {
          "output_type": "stream",
          "text": [
            "hyperparameter optimization results:\n",
            "\tnumber of trials: 10\n",
            "\tnumber of pruned trials: 0\n",
            "\tbest value (mujority-model-dif_sum): 0.0\n",
            "\toptimized parameters:\n",
            "\t\tcriterion: gini\n",
            "\t\tsplitter: random\n",
            "\t\tmax_depth: 13\n",
            "\t\tmin_samples_split: 5\n",
            "\t\tmin_samples_leaf: 3\n",
            "\t\tmax_features: 16\n",
            "\t\tmax_leaf_nodes: 19\n",
            "\t\tclass_weight: None\n",
            "\t\tccp_alpha: 0.2581183968345938\n",
            "\tfinal parameters:\n",
            "\t\tcriterion: gini\n",
            "\t\tsplitter: random\n",
            "\t\tmax_depth: 13\n",
            "\t\tmin_samples_split: 5\n",
            "\t\tmin_samples_leaf: 3\n",
            "\t\tmax_features: 16\n",
            "\t\tmax_leaf_nodes: 19\n",
            "\t\tclass_weight: None\n",
            "\t\tccp_alpha: 0.2581183968345938\n"
          ],
          "name": "stdout"
        },
        {
          "output_type": "execute_result",
          "data": {
            "text/html": [
              "<div>\n",
              "<style scoped>\n",
              "    .dataframe tbody tr th:only-of-type {\n",
              "        vertical-align: middle;\n",
              "    }\n",
              "\n",
              "    .dataframe tbody tr th {\n",
              "        vertical-align: top;\n",
              "    }\n",
              "\n",
              "    .dataframe thead th {\n",
              "        text-align: right;\n",
              "    }\n",
              "</style>\n",
              "<table border=\"1\" class=\"dataframe\">\n",
              "  <thead>\n",
              "    <tr style=\"text-align: right;\">\n",
              "      <th></th>\n",
              "      <th>model</th>\n",
              "      <th>accuracy</th>\n",
              "      <th>balanced accuracy</th>\n",
              "      <th>precision</th>\n",
              "      <th>recall</th>\n",
              "      <th>f1 score</th>\n",
              "    </tr>\n",
              "  </thead>\n",
              "  <tbody>\n",
              "    <tr>\n",
              "      <th>0</th>\n",
              "      <td>majority rule</td>\n",
              "      <td>0.318182</td>\n",
              "      <td>0.166667</td>\n",
              "      <td>0.318182</td>\n",
              "      <td>0.318182</td>\n",
              "      <td>0.318182</td>\n",
              "    </tr>\n",
              "    <tr>\n",
              "      <th>1</th>\n",
              "      <td>decision_tree</td>\n",
              "      <td>0.318182</td>\n",
              "      <td>0.166667</td>\n",
              "      <td>0.318182</td>\n",
              "      <td>0.318182</td>\n",
              "      <td>0.318182</td>\n",
              "    </tr>\n",
              "  </tbody>\n",
              "</table>\n",
              "</div>"
            ],
            "text/plain": [
              "           model  accuracy  balanced accuracy  precision    recall  f1 score\n",
              "0  majority rule  0.318182           0.166667   0.318182  0.318182  0.318182\n",
              "1  decision_tree  0.318182           0.166667   0.318182  0.318182  0.318182"
            ]
          },
          "metadata": {
            "tags": []
          },
          "execution_count": 106
        }
      ]
    },
    {
      "cell_type": "markdown",
      "metadata": {
        "id": "-_CTzrcavNNe"
      },
      "source": [
        "#### Logistic Regression"
      ]
    },
    {
      "cell_type": "code",
      "metadata": {
        "id": "HOEEi2WQvQhK"
      },
      "source": [
        "from sklearn.pipeline import make_pipeline\n",
        "from sklearn.preprocessing import MinMaxScaler\n",
        "from sklearn.linear_model import LogisticRegression\n",
        "\n",
        "class LogisticRegressionTuner(ClassificationTuner):\n",
        "  def __init__(self, X_train, X_test, y_train, y_test, labeling_type,\n",
        "               weights={\"accuracy\":1, \"balanced accuracy\":1, \"precision\":1,\n",
        "                        \"recall\":1, \"f1 score\":1}):\n",
        "    super().__init__(\"logistic_regression\", X_train, X_test, y_train, y_test, labeling_type, weights)\n",
        "  def build_model(self):\n",
        "    model = make_pipeline(MinMaxScaler(),\n",
        "                          LogisticRegression(penalty=self.params[\"penalty\"], \n",
        "                                             dual=False, \n",
        "                                             tol=self.params[\"tol\"], \n",
        "                                             C=self.params[\"C\"], \n",
        "                                             fit_intercept=self.params[\"fit_intercept\"], \n",
        "                                             intercept_scaling=self.params[\"intercept_scaling\"], \n",
        "                                             class_weight=self.params[\"class_weight\"], \n",
        "                                             random_state=42, \n",
        "                                             solver=self.params[\"solver\"], \n",
        "                                             max_iter=25000, \n",
        "                                             multi_class=self.params[\"multi_class\"]))\n",
        "    return model\n",
        "\n",
        "  def objective(self, callbacks: List[Callback] = ()) -> float:\n",
        "    if (self.params[\"solver\"] in [\"newton-cg\", \"lbfgs\", \"saga\" , \"sag\"] and self.params[\"penalty\"] == \"l1\") or \\\n",
        "       (self.params[\"solver\"] == \"liblinear\" and self.params[\"penalty\"] == None) or \\\n",
        "       (self.params[\"solver\"] == \"liblinear\" and self.params[\"multi_class\"] == \"multinomial\") or \\\n",
        "       (self.params[\"penalty\"] == \"elasticnet\" and self.params[\"solver\"] != \"saga\"):\n",
        "      return float('inf')\n",
        "    return super().objective(callbacks)\n",
        "\n",
        "  def update_params(self, trial: Trial):\n",
        "    self.params[\"penalty\"] = trial.suggest_categorical(\"penalty\", [\"l1\", \"l2\"])\n",
        "    self.params[\"tol\"] = trial.suggest_float(\"tol\", 0, 0.01)\n",
        "    self.params[\"C\"] = trial.suggest_float(\"C\", 0, 1)\n",
        "    self.params[\"fit_intercept\"] = trial.suggest_categorical(\"fit_intercept\", [True, False])\n",
        "    self.params[\"intercept_scaling\"] = trial.suggest_float(\"intercept_scaling\", 0, 2)\n",
        "    self.params[\"class_weight\"] = trial.suggest_categorical(\"class_weight\", [\"balanced\", None])\n",
        "    self.params[\"solver\"] = trial.suggest_categorical(\"solver\", [\"newton-cg\", \"lbfgs\", \"liblinear\", \"sag\", \"saga\"])\n",
        "    self.params[\"multi_class\"] = trial.suggest_categorical(\"multi_class\", [\"ovr\", \"multinomial\"])\n",
        "  \n",
        "  def run(self, trials=500, use_logger=False):\n",
        "    super().run(trials, use_logger)"
      ],
      "execution_count": null,
      "outputs": []
    },
    {
      "cell_type": "code",
      "metadata": {
        "id": "SEpvLabSvQzW",
        "colab": {
          "base_uri": "https://localhost:8080/"
        },
        "outputId": "19490c2d-5e50-451f-812b-7725083effaf"
      },
      "source": [
        "lr_tuner = LogisticRegressionTuner(X_train, X_test, y_train, y_test, labeling_type, weights)\n",
        "lr_tuner.run(trials)\n",
        "lr_tuner.show_best_results()"
      ],
      "execution_count": null,
      "outputs": [
        {
          "output_type": "stream",
          "text": [
            "\u001b[32m[I 2021-06-07 17:55:48,578]\u001b[0m A new study created in memory with name: no-name-97d9fcc5-e636-412c-804c-e29b04853490\u001b[0m\n",
            "\u001b[32m[I 2021-06-07 17:55:48,615]\u001b[0m Trial 0 finished with value: -0.07521645021645024 and parameters: {'penalty': 'l2', 'tol': 0.006487835976073719, 'C': 0.8096868406576713, 'fit_intercept': True, 'intercept_scaling': 0.5511135784946917, 'class_weight': None, 'solver': 'lbfgs', 'multi_class': 'multinomial'}. Best is trial 0 with value: -0.07521645021645024.\u001b[0m\n",
            "\u001b[32m[I 2021-06-07 17:55:48,639]\u001b[0m Trial 1 finished with value: -0.011904761904761904 and parameters: {'penalty': 'l2', 'tol': 0.0012809926091193714, 'C': 0.716356865766404, 'fit_intercept': False, 'intercept_scaling': 1.7071079433210532, 'class_weight': None, 'solver': 'sag', 'multi_class': 'multinomial'}. Best is trial 0 with value: -0.07521645021645024.\u001b[0m\n",
            "\u001b[32m[I 2021-06-07 17:55:48,665]\u001b[0m Trial 2 finished with value: -0.07248677248677247 and parameters: {'penalty': 'l2', 'tol': 0.008289643861582208, 'C': 0.05256727141615869, 'fit_intercept': True, 'intercept_scaling': 0.9179730953037044, 'class_weight': 'balanced', 'solver': 'saga', 'multi_class': 'multinomial'}. Best is trial 0 with value: -0.07521645021645024.\u001b[0m\n",
            "\u001b[32m[I 2021-06-07 17:55:48,670]\u001b[0m Trial 3 finished with value: inf and parameters: {'penalty': 'l1', 'tol': 0.007887175060721664, 'C': 0.8209311845870797, 'fit_intercept': True, 'intercept_scaling': 0.7039382863880159, 'class_weight': None, 'solver': 'saga', 'multi_class': 'multinomial'}. Best is trial 0 with value: -0.07521645021645024.\u001b[0m\n",
            "\u001b[32m[I 2021-06-07 17:55:48,675]\u001b[0m Trial 4 finished with value: inf and parameters: {'penalty': 'l1', 'tol': 0.007302860390158803, 'C': 0.87473190278925, 'fit_intercept': False, 'intercept_scaling': 0.7733415756554967, 'class_weight': 'balanced', 'solver': 'newton-cg', 'multi_class': 'ovr'}. Best is trial 0 with value: -0.07521645021645024.\u001b[0m\n",
            "\u001b[32m[I 2021-06-07 17:55:48,700]\u001b[0m Trial 5 finished with value: 0.0 and parameters: {'penalty': 'l2', 'tol': 0.00723786752328151, 'C': 0.23541728759729397, 'fit_intercept': False, 'intercept_scaling': 0.15195856090562398, 'class_weight': None, 'solver': 'saga', 'multi_class': 'ovr'}. Best is trial 0 with value: -0.07521645021645024.\u001b[0m\n",
            "\u001b[32m[I 2021-06-07 17:55:48,739]\u001b[0m Trial 6 finished with value: -0.06926406926406928 and parameters: {'penalty': 'l2', 'tol': 0.00919989764025471, 'C': 0.34688222605427343, 'fit_intercept': True, 'intercept_scaling': 1.8280677593631909, 'class_weight': None, 'solver': 'lbfgs', 'multi_class': 'ovr'}. Best is trial 0 with value: -0.07521645021645024.\u001b[0m\n",
            "\u001b[32m[I 2021-06-07 17:55:48,758]\u001b[0m Trial 7 finished with value: 0.028679653679653652 and parameters: {'penalty': 'l1', 'tol': 0.00997355117801156, 'C': 0.9720756693892391, 'fit_intercept': False, 'intercept_scaling': 0.46224415376256944, 'class_weight': None, 'solver': 'liblinear', 'multi_class': 'ovr'}. Best is trial 0 with value: -0.07521645021645024.\u001b[0m\n",
            "\u001b[32m[I 2021-06-07 17:55:48,776]\u001b[0m Trial 8 finished with value: -0.1788961038961039 and parameters: {'penalty': 'l1', 'tol': 0.0027901327681106015, 'C': 0.5822298139902389, 'fit_intercept': False, 'intercept_scaling': 0.713504594943666, 'class_weight': 'balanced', 'solver': 'liblinear', 'multi_class': 'ovr'}. Best is trial 8 with value: -0.1788961038961039.\u001b[0m\n",
            "\u001b[32m[I 2021-06-07 17:55:48,800]\u001b[0m Trial 9 finished with value: -0.011904761904761904 and parameters: {'penalty': 'l2', 'tol': 0.0059800335706764905, 'C': 0.822725507890231, 'fit_intercept': False, 'intercept_scaling': 1.276580927407595, 'class_weight': None, 'solver': 'saga', 'multi_class': 'multinomial'}. Best is trial 8 with value: -0.1788961038961039.\u001b[0m\n"
          ],
          "name": "stderr"
        },
        {
          "output_type": "stream",
          "text": [
            "hyperparameter optimization results:\n",
            "\tnumber of trials: 10\n",
            "\tnumber of pruned trials: 0\n",
            "\tbest value (mujority-model-dif_sum): -0.1788961038961039\n",
            "\toptimized parameters:\n",
            "\t\tpenalty: l1\n",
            "\t\ttol: 0.0027901327681106015\n",
            "\t\tC: 0.5822298139902389\n",
            "\t\tfit_intercept: False\n",
            "\t\tintercept_scaling: 0.713504594943666\n",
            "\t\tclass_weight: balanced\n",
            "\t\tsolver: liblinear\n",
            "\t\tmulti_class: ovr\n",
            "\tfinal parameters:\n",
            "\t\tpenalty: l1\n",
            "\t\ttol: 0.0027901327681106015\n",
            "\t\tC: 0.5822298139902389\n",
            "\t\tfit_intercept: False\n",
            "\t\tintercept_scaling: 0.713504594943666\n",
            "\t\tclass_weight: balanced\n",
            "\t\tsolver: liblinear\n",
            "\t\tmulti_class: ovr\n"
          ],
          "name": "stdout"
        },
        {
          "output_type": "execute_result",
          "data": {
            "text/html": [
              "<div>\n",
              "<style scoped>\n",
              "    .dataframe tbody tr th:only-of-type {\n",
              "        vertical-align: middle;\n",
              "    }\n",
              "\n",
              "    .dataframe tbody tr th {\n",
              "        vertical-align: top;\n",
              "    }\n",
              "\n",
              "    .dataframe thead th {\n",
              "        text-align: right;\n",
              "    }\n",
              "</style>\n",
              "<table border=\"1\" class=\"dataframe\">\n",
              "  <thead>\n",
              "    <tr style=\"text-align: right;\">\n",
              "      <th></th>\n",
              "      <th>model</th>\n",
              "      <th>accuracy</th>\n",
              "      <th>balanced accuracy</th>\n",
              "      <th>precision</th>\n",
              "      <th>recall</th>\n",
              "      <th>f1 score</th>\n",
              "    </tr>\n",
              "  </thead>\n",
              "  <tbody>\n",
              "    <tr>\n",
              "      <th>0</th>\n",
              "      <td>majority rule</td>\n",
              "      <td>0.318182</td>\n",
              "      <td>0.166667</td>\n",
              "      <td>0.318182</td>\n",
              "      <td>0.318182</td>\n",
              "      <td>0.318182</td>\n",
              "    </tr>\n",
              "    <tr>\n",
              "      <th>1</th>\n",
              "      <td>logistic_regression</td>\n",
              "      <td>0.386364</td>\n",
              "      <td>0.388095</td>\n",
              "      <td>0.386364</td>\n",
              "      <td>0.386364</td>\n",
              "      <td>0.386364</td>\n",
              "    </tr>\n",
              "  </tbody>\n",
              "</table>\n",
              "</div>"
            ],
            "text/plain": [
              "                 model  accuracy  ...    recall  f1 score\n",
              "0        majority rule  0.318182  ...  0.318182  0.318182\n",
              "1  logistic_regression  0.386364  ...  0.386364  0.386364\n",
              "\n",
              "[2 rows x 6 columns]"
            ]
          },
          "metadata": {
            "tags": []
          },
          "execution_count": 108
        }
      ]
    },
    {
      "cell_type": "markdown",
      "metadata": {
        "id": "OYaSZ7isKZeD"
      },
      "source": [
        "#### random forest"
      ]
    },
    {
      "cell_type": "code",
      "metadata": {
        "id": "2pi-YmrJKZeX"
      },
      "source": [
        "from sklearn.ensemble import RandomForestClassifier\n",
        "\n",
        "class RandomForestTuner(ClassificationTuner):\n",
        "  def __init__(self, X_train, X_test, y_train, y_test, labeling_type,\n",
        "               weights={\"accuracy\":1, \"balanced accuracy\":1, \"precision\":1,\n",
        "                        \"recall\":1, \"f1 score\":1}):\n",
        "    super().__init__(\"random_forest\", X_train, X_test, y_train, y_test, labeling_type, weights)\n",
        "\n",
        "  def build_model(self):\n",
        "    model = RandomForestClassifier(n_estimators=150,\n",
        "                                    criterion=self.params[\"criterion\"],\n",
        "                                    min_samples_split=self.params[\"min_samples_split\"],\n",
        "                                    max_features=self.params[\"max_features\"],\n",
        "                                    bootstrap=self.params[\"bootstrap\"],\n",
        "                                    random_state=42,\n",
        "                                    ccp_alpha=self.params[\"ccp_alpha\"])\n",
        "    return model\n",
        "\n",
        "  def update_params(self, trial: Trial):\n",
        "    self.params[\"criterion\"] = trial.suggest_categorical(\"criterion\", [\"gini\", \"entropy\"])\n",
        "    self.params[\"min_samples_split\"] = trial.suggest_int(\"min_samples_split\", 2, 5)\n",
        "    self.params[\"max_features\"] = trial.suggest_categorical(\"max_features\", [\"sqrt\", \"log2\", None])\n",
        "    self.params[\"bootstrap\"] = trial.suggest_categorical(\"bootstrap\", [True, False])\n",
        "    self.params[\"ccp_alpha\"] = trial.suggest_float(\"ccp_alpha\", 0, 1)\n",
        "  \n",
        "  def run(self, trials=100, use_logger=False):\n",
        "    super().run(trials, use_logger)"
      ],
      "execution_count": null,
      "outputs": []
    },
    {
      "cell_type": "code",
      "metadata": {
        "id": "VQWr2qldKZeZ",
        "colab": {
          "base_uri": "https://localhost:8080/"
        },
        "outputId": "22f972f0-3ded-4f92-964e-b02844590955"
      },
      "source": [
        "rf_tuner = RandomForestTuner(X_train, X_test, y_train, y_test, labeling_type, weights)\n",
        "rf_tuner.run(trials)\n",
        "rf_tuner.show_best_results()"
      ],
      "execution_count": null,
      "outputs": [
        {
          "output_type": "stream",
          "text": [
            "\u001b[32m[I 2021-06-07 17:55:48,891]\u001b[0m A new study created in memory with name: no-name-f5bbeab0-05e4-400e-9af5-b2d1cd37736a\u001b[0m\n",
            "\u001b[32m[I 2021-06-07 17:55:49,131]\u001b[0m Trial 0 finished with value: 0.0 and parameters: {'criterion': 'gini', 'min_samples_split': 4, 'max_features': 'log2', 'bootstrap': False, 'ccp_alpha': 0.35149798743457183}. Best is trial 0 with value: 0.0.\u001b[0m\n",
            "\u001b[32m[I 2021-06-07 17:55:49,373]\u001b[0m Trial 1 finished with value: 0.0 and parameters: {'criterion': 'gini', 'min_samples_split': 2, 'max_features': 'log2', 'bootstrap': False, 'ccp_alpha': 0.9836930803541721}. Best is trial 0 with value: 0.0.\u001b[0m\n",
            "\u001b[32m[I 2021-06-07 17:55:50,365]\u001b[0m Trial 2 finished with value: 0.0 and parameters: {'criterion': 'entropy', 'min_samples_split': 4, 'max_features': None, 'bootstrap': False, 'ccp_alpha': 0.39071901985073276}. Best is trial 0 with value: 0.0.\u001b[0m\n",
            "\u001b[32m[I 2021-06-07 17:55:50,636]\u001b[0m Trial 3 finished with value: 0.0 and parameters: {'criterion': 'gini', 'min_samples_split': 2, 'max_features': 'sqrt', 'bootstrap': True, 'ccp_alpha': 0.7543837887292748}. Best is trial 0 with value: 0.0.\u001b[0m\n",
            "\u001b[32m[I 2021-06-07 17:55:51,662]\u001b[0m Trial 4 finished with value: 0.0 and parameters: {'criterion': 'entropy', 'min_samples_split': 2, 'max_features': None, 'bootstrap': False, 'ccp_alpha': 0.5953466109931196}. Best is trial 0 with value: 0.0.\u001b[0m\n",
            "\u001b[32m[I 2021-06-07 17:55:51,990]\u001b[0m Trial 5 finished with value: 0.0 and parameters: {'criterion': 'entropy', 'min_samples_split': 3, 'max_features': 'sqrt', 'bootstrap': True, 'ccp_alpha': 0.2247632344985817}. Best is trial 0 with value: 0.0.\u001b[0m\n",
            "\u001b[32m[I 2021-06-07 17:55:52,310]\u001b[0m Trial 6 finished with value: 0.0 and parameters: {'criterion': 'entropy', 'min_samples_split': 5, 'max_features': 'sqrt', 'bootstrap': True, 'ccp_alpha': 0.21423463903147355}. Best is trial 0 with value: 0.0.\u001b[0m\n",
            "\u001b[32m[I 2021-06-07 17:55:52,629]\u001b[0m Trial 7 finished with value: 0.0 and parameters: {'criterion': 'entropy', 'min_samples_split': 3, 'max_features': 'log2', 'bootstrap': False, 'ccp_alpha': 0.4991501809399663}. Best is trial 0 with value: 0.0.\u001b[0m\n",
            "\u001b[32m[I 2021-06-07 17:55:53,361]\u001b[0m Trial 8 finished with value: 0.0 and parameters: {'criterion': 'entropy', 'min_samples_split': 4, 'max_features': None, 'bootstrap': True, 'ccp_alpha': 0.35507249233156113}. Best is trial 0 with value: 0.0.\u001b[0m\n",
            "\u001b[32m[I 2021-06-07 17:55:54,347]\u001b[0m Trial 9 finished with value: -0.00703463203463206 and parameters: {'criterion': 'entropy', 'min_samples_split': 5, 'max_features': None, 'bootstrap': False, 'ccp_alpha': 0.09926105116547357}. Best is trial 9 with value: -0.00703463203463206.\u001b[0m\n"
          ],
          "name": "stderr"
        },
        {
          "output_type": "stream",
          "text": [
            "hyperparameter optimization results:\n",
            "\tnumber of trials: 10\n",
            "\tnumber of pruned trials: 0\n",
            "\tbest value (mujority-model-dif_sum): -0.00703463203463206\n",
            "\toptimized parameters:\n",
            "\t\tcriterion: entropy\n",
            "\t\tmin_samples_split: 5\n",
            "\t\tmax_features: None\n",
            "\t\tbootstrap: False\n",
            "\t\tccp_alpha: 0.09926105116547357\n",
            "\tfinal parameters:\n",
            "\t\tcriterion: entropy\n",
            "\t\tmin_samples_split: 5\n",
            "\t\tmax_features: None\n",
            "\t\tbootstrap: False\n",
            "\t\tccp_alpha: 0.09926105116547357\n"
          ],
          "name": "stdout"
        },
        {
          "output_type": "execute_result",
          "data": {
            "text/html": [
              "<div>\n",
              "<style scoped>\n",
              "    .dataframe tbody tr th:only-of-type {\n",
              "        vertical-align: middle;\n",
              "    }\n",
              "\n",
              "    .dataframe tbody tr th {\n",
              "        vertical-align: top;\n",
              "    }\n",
              "\n",
              "    .dataframe thead th {\n",
              "        text-align: right;\n",
              "    }\n",
              "</style>\n",
              "<table border=\"1\" class=\"dataframe\">\n",
              "  <thead>\n",
              "    <tr style=\"text-align: right;\">\n",
              "      <th></th>\n",
              "      <th>model</th>\n",
              "      <th>accuracy</th>\n",
              "      <th>balanced accuracy</th>\n",
              "      <th>precision</th>\n",
              "      <th>recall</th>\n",
              "      <th>f1 score</th>\n",
              "    </tr>\n",
              "  </thead>\n",
              "  <tbody>\n",
              "    <tr>\n",
              "      <th>0</th>\n",
              "      <td>majority rule</td>\n",
              "      <td>0.318182</td>\n",
              "      <td>0.166667</td>\n",
              "      <td>0.318182</td>\n",
              "      <td>0.318182</td>\n",
              "      <td>0.318182</td>\n",
              "    </tr>\n",
              "    <tr>\n",
              "      <th>1</th>\n",
              "      <td>random_forest</td>\n",
              "      <td>0.295455</td>\n",
              "      <td>0.226190</td>\n",
              "      <td>0.295455</td>\n",
              "      <td>0.295455</td>\n",
              "      <td>0.295455</td>\n",
              "    </tr>\n",
              "  </tbody>\n",
              "</table>\n",
              "</div>"
            ],
            "text/plain": [
              "           model  accuracy  balanced accuracy  precision    recall  f1 score\n",
              "0  majority rule  0.318182           0.166667   0.318182  0.318182  0.318182\n",
              "1  random_forest  0.295455           0.226190   0.295455  0.295455  0.295455"
            ]
          },
          "metadata": {
            "tags": []
          },
          "execution_count": 110
        }
      ]
    },
    {
      "cell_type": "markdown",
      "metadata": {
        "id": "fm4Z23uK5qDU"
      },
      "source": [
        "#### Bagging"
      ]
    },
    {
      "cell_type": "code",
      "metadata": {
        "id": "BfReBepH5cCf"
      },
      "source": [
        "from sklearn.ensemble import BaggingClassifier\n",
        "\n",
        "class BaggingTuner(ClassificationTuner):\n",
        "  def __init__(self, X_train, X_test, y_train, y_test, labeling_type,\n",
        "               weights={\"accuracy\":1, \"balanced accuracy\":1, \"precision\":1,\n",
        "                        \"recall\":1, \"f1 score\":1}):\n",
        "    super().__init__(\"bagging\", X_train, X_test, y_train, y_test, labeling_type, weights)\n",
        "\n",
        "  def build_model(self):\n",
        "    model = BaggingClassifier(n_estimators=100,\n",
        "                              max_samples=self.params[\"max_samples\"],\n",
        "                              max_features=self.params[\"max_features\"],\n",
        "                              bootstrap=self.params[\"bootstrap\"],\n",
        "                              bootstrap_features=self.params[\"bootstrap_features\"],\n",
        "                              random_state=42)\n",
        "    return model\n",
        "\n",
        "  def update_params(self, trial: Trial):\n",
        "    self.params[\"max_samples\"] = trial.suggest_float(\"max_samples\", 0.1, 1.0)\n",
        "    self.params[\"max_features\"] = trial.suggest_int(\"max_features\", 1,len(self.X_train.columns))\n",
        "    self.params[\"bootstrap\"] = trial.suggest_categorical(\"bootstrap\", [True, False])\n",
        "    self.params[\"bootstrap_features\"] = trial.suggest_categorical(\"bootstrap_features\", [True, False])\n",
        "\n",
        "  def run(self, trials=100, use_logger=False):\n",
        "    super().run(trials, use_logger)"
      ],
      "execution_count": null,
      "outputs": []
    },
    {
      "cell_type": "code",
      "metadata": {
        "id": "q6YN82Mu5cw_",
        "colab": {
          "base_uri": "https://localhost:8080/"
        },
        "outputId": "5b78d06a-4c9f-40e3-aa01-0d4410a9dad1"
      },
      "source": [
        "bag_tuner = BaggingTuner(X_train, X_test, y_train, y_test, labeling_type, weights)\n",
        "bag_tuner.run(trials)\n",
        "bag_tuner.show_best_results()"
      ],
      "execution_count": null,
      "outputs": [
        {
          "output_type": "stream",
          "text": [
            "\u001b[32m[I 2021-06-07 17:55:54,453]\u001b[0m A new study created in memory with name: no-name-59e8c847-0ac3-4bfc-b757-ca1783968dfa\u001b[0m\n",
            "\u001b[32m[I 2021-06-07 17:55:54,640]\u001b[0m Trial 0 finished with value: -0.00703463203463206 and parameters: {'max_samples': 0.2436667919080326, 'max_features': 13, 'bootstrap': False, 'bootstrap_features': False}. Best is trial 0 with value: -0.00703463203463206.\u001b[0m\n",
            "\u001b[32m[I 2021-06-07 17:55:54,841]\u001b[0m Trial 1 finished with value: -0.04166666666666667 and parameters: {'max_samples': 0.9080669050929577, 'max_features': 8, 'bootstrap': True, 'bootstrap_features': False}. Best is trial 1 with value: -0.04166666666666667.\u001b[0m\n",
            "\u001b[32m[I 2021-06-07 17:55:55,107]\u001b[0m Trial 2 finished with value: -0.07629870129870127 and parameters: {'max_samples': 0.5327370282151771, 'max_features': 33, 'bootstrap': False, 'bootstrap_features': True}. Best is trial 2 with value: -0.07629870129870127.\u001b[0m\n",
            "\u001b[32m[I 2021-06-07 17:55:55,303]\u001b[0m Trial 3 finished with value: -0.07629870129870127 and parameters: {'max_samples': 0.4566448228107507, 'max_features': 9, 'bootstrap': False, 'bootstrap_features': False}. Best is trial 2 with value: -0.07629870129870127.\u001b[0m\n",
            "\u001b[32m[I 2021-06-07 17:55:55,500]\u001b[0m Trial 4 finished with value: -0.13365800865800864 and parameters: {'max_samples': 0.24186636518527538, 'max_features': 24, 'bootstrap': True, 'bootstrap_features': False}. Best is trial 4 with value: -0.13365800865800864.\u001b[0m\n",
            "\u001b[32m[I 2021-06-07 17:55:55,706]\u001b[0m Trial 5 finished with value: -0.06926406926406928 and parameters: {'max_samples': 0.7830063304557103, 'max_features': 3, 'bootstrap': True, 'bootstrap_features': True}. Best is trial 4 with value: -0.13365800865800864.\u001b[0m\n",
            "\u001b[32m[I 2021-06-07 17:55:55,917]\u001b[0m Trial 6 finished with value: -0.13961038961038963 and parameters: {'max_samples': 0.3179009704332707, 'max_features': 29, 'bootstrap': True, 'bootstrap_features': False}. Best is trial 6 with value: -0.13961038961038963.\u001b[0m\n",
            "\u001b[32m[I 2021-06-07 17:55:56,107]\u001b[0m Trial 7 finished with value: -0.01785714285714285 and parameters: {'max_samples': 0.5992519456783405, 'max_features': 7, 'bootstrap': True, 'bootstrap_features': False}. Best is trial 6 with value: -0.13961038961038963.\u001b[0m\n",
            "\u001b[32m[I 2021-06-07 17:55:56,348]\u001b[0m Trial 8 finished with value: -0.04166666666666667 and parameters: {'max_samples': 0.41258926677842556, 'max_features': 32, 'bootstrap': True, 'bootstrap_features': False}. Best is trial 6 with value: -0.13961038961038963.\u001b[0m\n",
            "\u001b[32m[I 2021-06-07 17:55:56,643]\u001b[0m Trial 9 finished with value: 0.04437229437229437 and parameters: {'max_samples': 0.7171069522059353, 'max_features': 31, 'bootstrap': False, 'bootstrap_features': False}. Best is trial 6 with value: -0.13961038961038963.\u001b[0m\n"
          ],
          "name": "stderr"
        },
        {
          "output_type": "stream",
          "text": [
            "hyperparameter optimization results:\n",
            "\tnumber of trials: 10\n",
            "\tnumber of pruned trials: 0\n",
            "\tbest value (mujority-model-dif_sum): -0.13961038961038963\n",
            "\toptimized parameters:\n",
            "\t\tmax_samples: 0.3179009704332707\n",
            "\t\tmax_features: 29\n",
            "\t\tbootstrap: True\n",
            "\t\tbootstrap_features: False\n",
            "\tfinal parameters:\n",
            "\t\tmax_samples: 0.3179009704332707\n",
            "\t\tmax_features: 29\n",
            "\t\tbootstrap: True\n",
            "\t\tbootstrap_features: False\n"
          ],
          "name": "stdout"
        },
        {
          "output_type": "execute_result",
          "data": {
            "text/html": [
              "<div>\n",
              "<style scoped>\n",
              "    .dataframe tbody tr th:only-of-type {\n",
              "        vertical-align: middle;\n",
              "    }\n",
              "\n",
              "    .dataframe tbody tr th {\n",
              "        vertical-align: top;\n",
              "    }\n",
              "\n",
              "    .dataframe thead th {\n",
              "        text-align: right;\n",
              "    }\n",
              "</style>\n",
              "<table border=\"1\" class=\"dataframe\">\n",
              "  <thead>\n",
              "    <tr style=\"text-align: right;\">\n",
              "      <th></th>\n",
              "      <th>model</th>\n",
              "      <th>accuracy</th>\n",
              "      <th>balanced accuracy</th>\n",
              "      <th>precision</th>\n",
              "      <th>recall</th>\n",
              "      <th>f1 score</th>\n",
              "    </tr>\n",
              "  </thead>\n",
              "  <tbody>\n",
              "    <tr>\n",
              "      <th>0</th>\n",
              "      <td>majority rule</td>\n",
              "      <td>0.318182</td>\n",
              "      <td>0.166667</td>\n",
              "      <td>0.318182</td>\n",
              "      <td>0.318182</td>\n",
              "      <td>0.318182</td>\n",
              "    </tr>\n",
              "    <tr>\n",
              "      <th>1</th>\n",
              "      <td>bagging</td>\n",
              "      <td>0.386364</td>\n",
              "      <td>0.309524</td>\n",
              "      <td>0.386364</td>\n",
              "      <td>0.386364</td>\n",
              "      <td>0.386364</td>\n",
              "    </tr>\n",
              "  </tbody>\n",
              "</table>\n",
              "</div>"
            ],
            "text/plain": [
              "           model  accuracy  balanced accuracy  precision    recall  f1 score\n",
              "0  majority rule  0.318182           0.166667   0.318182  0.318182  0.318182\n",
              "1        bagging  0.386364           0.309524   0.386364  0.386364  0.386364"
            ]
          },
          "metadata": {
            "tags": []
          },
          "execution_count": 112
        }
      ]
    },
    {
      "cell_type": "markdown",
      "metadata": {
        "id": "ech-3ttGOoqk"
      },
      "source": [
        "#### AdaBoost"
      ]
    },
    {
      "cell_type": "code",
      "metadata": {
        "id": "4sGSgALvOrTC"
      },
      "source": [
        "from sklearn.ensemble import AdaBoostClassifier\n",
        "\n",
        "class AdaBoostTuner(ClassificationTuner):\n",
        "  def __init__(self, X_train, X_test, y_train, y_test, labeling_type,\n",
        "               weights={\"accuracy\":1, \"balanced accuracy\":1, \"precision\":1,\n",
        "                        \"recall\":1, \"f1 score\":1}):\n",
        "    super().__init__(\"AdaBoost\", X_train, X_test, y_train, y_test, labeling_type, weights)\n",
        "\n",
        "  def build_model(self):\n",
        "    model = AdaBoostClassifier(n_estimators=self.params[\"n_estimators\"],\n",
        "                               learning_rate=self.params[\"learning_rate\"], \n",
        "                               algorithm=self.params[\"algorithm\"], \n",
        "                               random_state=42)\n",
        "    return model\n",
        "\n",
        "  def update_params(self, trial: Trial):\n",
        "    self.params[\"n_estimators\"] = trial.suggest_int(\"n_estimators\", 10,50)\n",
        "    self.params[\"learning_rate\"] = trial.suggest_float(\"learning_rate\", 0, 2)\n",
        "    self.params[\"algorithm\"] = trial.suggest_categorical(\"algorithm\", [\"SAMME\", \"SAMME.R\"])\n",
        "    \n",
        "  def run(self, trials=100, use_logger=False):\n",
        "    super().run(trials, use_logger)"
      ],
      "execution_count": null,
      "outputs": []
    },
    {
      "cell_type": "code",
      "metadata": {
        "id": "KNTuHOlZOrsD",
        "colab": {
          "base_uri": "https://localhost:8080/"
        },
        "outputId": "324a7758-0686-41c8-82ed-0736a9c0afe1"
      },
      "source": [
        "adaboo_tuner = AdaBoostTuner(X_train, X_test, y_train, y_test, labeling_type, weights)\n",
        "adaboo_tuner.run(trials)\n",
        "adaboo_tuner.show_best_results()"
      ],
      "execution_count": null,
      "outputs": [
        {
          "output_type": "stream",
          "text": [
            "\u001b[32m[I 2021-06-07 17:55:56,729]\u001b[0m A new study created in memory with name: no-name-fa518e8a-3349-481f-8ac6-9531dca80c63\u001b[0m\n",
            "\u001b[32m[I 2021-06-07 17:55:56,786]\u001b[0m Trial 0 finished with value: -0.00703463203463206 and parameters: {'n_estimators': 23, 'learning_rate': 0.20596865519670549, 'algorithm': 'SAMME'}. Best is trial 0 with value: -0.00703463203463206.\u001b[0m\n",
            "\u001b[32m[I 2021-06-07 17:55:56,834]\u001b[0m Trial 1 finished with value: -0.09891774891774892 and parameters: {'n_estimators': 20, 'learning_rate': 1.8528471296385478, 'algorithm': 'SAMME'}. Best is trial 1 with value: -0.09891774891774892.\u001b[0m\n",
            "\u001b[32m[I 2021-06-07 17:55:56,924]\u001b[0m Trial 2 finished with value: -0.0476190476190476 and parameters: {'n_estimators': 41, 'learning_rate': 1.6919196419961973, 'algorithm': 'SAMME'}. Best is trial 1 with value: -0.09891774891774892.\u001b[0m\n",
            "\u001b[32m[I 2021-06-07 17:55:56,956]\u001b[0m Trial 3 finished with value: -0.00703463203463206 and parameters: {'n_estimators': 10, 'learning_rate': 0.003262427965572412, 'algorithm': 'SAMME.R'}. Best is trial 1 with value: -0.09891774891774892.\u001b[0m\n",
            "\u001b[32m[I 2021-06-07 17:55:56,998]\u001b[0m Trial 4 finished with value: -0.011796536796536805 and parameters: {'n_estimators': 16, 'learning_rate': 1.8617702205919602, 'algorithm': 'SAMME'}. Best is trial 1 with value: -0.09891774891774892.\u001b[0m\n",
            "\u001b[32m[I 2021-06-07 17:55:57,062]\u001b[0m Trial 5 finished with value: -0.04166666666666667 and parameters: {'n_estimators': 26, 'learning_rate': 0.27886447894168254, 'algorithm': 'SAMME.R'}. Best is trial 1 with value: -0.09891774891774892.\u001b[0m\n",
            "\u001b[32m[I 2021-06-07 17:55:57,128]\u001b[0m Trial 6 finished with value: -0.16079846079846083 and parameters: {'n_estimators': 30, 'learning_rate': 1.926906245186339, 'algorithm': 'SAMME'}. Best is trial 6 with value: -0.16079846079846083.\u001b[0m\n",
            "\u001b[32m[I 2021-06-07 17:55:57,173]\u001b[0m Trial 7 finished with value: 0.08008658008658007 and parameters: {'n_estimators': 16, 'learning_rate': 0.41990693141891766, 'algorithm': 'SAMME.R'}. Best is trial 6 with value: -0.16079846079846083.\u001b[0m\n",
            "\u001b[32m[I 2021-06-07 17:55:57,242]\u001b[0m Trial 8 finished with value: 0.009740259740259771 and parameters: {'n_estimators': 33, 'learning_rate': 1.2466623409713136, 'algorithm': 'SAMME'}. Best is trial 6 with value: -0.16079846079846083.\u001b[0m\n",
            "\u001b[32m[I 2021-06-07 17:55:57,283]\u001b[0m Trial 9 finished with value: 0.02164502164502166 and parameters: {'n_estimators': 16, 'learning_rate': 0.9170650986020812, 'algorithm': 'SAMME'}. Best is trial 6 with value: -0.16079846079846083.\u001b[0m\n"
          ],
          "name": "stderr"
        },
        {
          "output_type": "stream",
          "text": [
            "hyperparameter optimization results:\n",
            "\tnumber of trials: 10\n",
            "\tnumber of pruned trials: 0\n",
            "\tbest value (mujority-model-dif_sum): -0.16079846079846083\n",
            "\toptimized parameters:\n",
            "\t\tn_estimators: 30\n",
            "\t\tlearning_rate: 1.926906245186339\n",
            "\t\talgorithm: SAMME\n",
            "\tfinal parameters:\n",
            "\t\tn_estimators: 30\n",
            "\t\tlearning_rate: 1.926906245186339\n",
            "\t\talgorithm: SAMME\n"
          ],
          "name": "stdout"
        },
        {
          "output_type": "execute_result",
          "data": {
            "text/html": [
              "<div>\n",
              "<style scoped>\n",
              "    .dataframe tbody tr th:only-of-type {\n",
              "        vertical-align: middle;\n",
              "    }\n",
              "\n",
              "    .dataframe tbody tr th {\n",
              "        vertical-align: top;\n",
              "    }\n",
              "\n",
              "    .dataframe thead th {\n",
              "        text-align: right;\n",
              "    }\n",
              "</style>\n",
              "<table border=\"1\" class=\"dataframe\">\n",
              "  <thead>\n",
              "    <tr style=\"text-align: right;\">\n",
              "      <th></th>\n",
              "      <th>model</th>\n",
              "      <th>accuracy</th>\n",
              "      <th>balanced accuracy</th>\n",
              "      <th>precision</th>\n",
              "      <th>recall</th>\n",
              "      <th>f1 score</th>\n",
              "    </tr>\n",
              "  </thead>\n",
              "  <tbody>\n",
              "    <tr>\n",
              "      <th>0</th>\n",
              "      <td>majority rule</td>\n",
              "      <td>0.318182</td>\n",
              "      <td>0.166667</td>\n",
              "      <td>0.318182</td>\n",
              "      <td>0.318182</td>\n",
              "      <td>0.318182</td>\n",
              "    </tr>\n",
              "    <tr>\n",
              "      <th>1</th>\n",
              "      <td>AdaBoost</td>\n",
              "      <td>0.363636</td>\n",
              "      <td>0.397354</td>\n",
              "      <td>0.363636</td>\n",
              "      <td>0.363636</td>\n",
              "      <td>0.363636</td>\n",
              "    </tr>\n",
              "  </tbody>\n",
              "</table>\n",
              "</div>"
            ],
            "text/plain": [
              "           model  accuracy  balanced accuracy  precision    recall  f1 score\n",
              "0  majority rule  0.318182           0.166667   0.318182  0.318182  0.318182\n",
              "1       AdaBoost  0.363636           0.397354   0.363636  0.363636  0.363636"
            ]
          },
          "metadata": {
            "tags": []
          },
          "execution_count": 114
        }
      ]
    },
    {
      "cell_type": "markdown",
      "metadata": {
        "id": "hv6YkYAaVspO"
      },
      "source": [
        "#### GradientBoosting"
      ]
    },
    {
      "cell_type": "code",
      "metadata": {
        "id": "10zUntkZVvy7"
      },
      "source": [
        "from sklearn.ensemble import GradientBoostingClassifier\n",
        "\n",
        "class GradientBosstingTuner(ClassificationTuner):\n",
        "  def __init__(self, X_train, X_test, y_train, y_test, labeling_type,\n",
        "               weights={\"accuracy\":1, \"balanced accuracy\":1, \"precision\":1,\n",
        "                        \"recall\":1, \"f1 score\":1}):\n",
        "    super().__init__(\"GradientBossting\", X_train, X_test, y_train, y_test, labeling_type, weights)\n",
        "\n",
        "  def build_model(self):\n",
        "    model = GradientBoostingClassifier(\n",
        "                                       learning_rate=self.params[\"learning_rate\"],\n",
        "                                       criterion=self.params[\"criterion\"],\n",
        "                                       min_samples_split=self.params[\"min_samples_split\"], \n",
        "                                       max_depth=self.params[\"max_depth\"],\n",
        "                                       random_state=42,\n",
        "                                       max_features=self.params[\"max_features\"],\n",
        "                                       )\n",
        "    return model\n",
        "\n",
        "  def update_params(self, trial: Trial):\n",
        "    self.params[\"learning_rate\"] = trial.suggest_float(\"learning_rate\", 0, 1)\n",
        "    self.params[\"criterion\"] = trial.suggest_categorical(\"criterion\", [\"friedman_mse\", \"mse\"])\n",
        "    self.params[\"min_samples_split\"] = trial.suggest_int(\"min_samples_split\", 2,5)\n",
        "    self.params[\"max_depth\"] = trial.suggest_int(\"max_depth\", 2,20)\n",
        "    self.params[\"max_features\"] = trial.suggest_categorical(\"max_features\", [\"sqrt\", \"log2\", None])\n",
        "  \n",
        "  def run(self, trials=300, use_logger=False):\n",
        "    super().run(trials, use_logger)"
      ],
      "execution_count": null,
      "outputs": []
    },
    {
      "cell_type": "code",
      "metadata": {
        "id": "ICYTZxYEVwLf",
        "colab": {
          "base_uri": "https://localhost:8080/"
        },
        "outputId": "8f06f0c9-f58e-466a-ae99-96b05e6c29b3"
      },
      "source": [
        "gradboo_tuner = GradientBosstingTuner(X_train, X_test, y_train, y_test, labeling_type, weights)\n",
        "gradboo_tuner.run(trials)\n",
        "gradboo_tuner.show_best_results()"
      ],
      "execution_count": null,
      "outputs": [
        {
          "output_type": "stream",
          "text": [
            "\u001b[32m[I 2021-06-07 17:55:57,373]\u001b[0m A new study created in memory with name: no-name-ca8ece53-9f86-4b24-90a4-b10f56089d1b\u001b[0m\n",
            "\u001b[32m[I 2021-06-07 17:55:58,237]\u001b[0m Trial 0 finished with value: -0.024891774891774923 and parameters: {'learning_rate': 0.8903194869149827, 'criterion': 'friedman_mse', 'min_samples_split': 4, 'max_depth': 17, 'max_features': 'log2'}. Best is trial 0 with value: -0.024891774891774923.\u001b[0m\n",
            "\u001b[32m[I 2021-06-07 17:55:59,824]\u001b[0m Trial 1 finished with value: 0.00048100048100048476 and parameters: {'learning_rate': 0.7508827542352928, 'criterion': 'friedman_mse', 'min_samples_split': 4, 'max_depth': 8, 'max_features': None}. Best is trial 0 with value: -0.024891774891774923.\u001b[0m\n",
            "\u001b[32m[I 2021-06-07 17:56:00,498]\u001b[0m Trial 2 finished with value: -0.11093073593073595 and parameters: {'learning_rate': 0.5890920853531028, 'criterion': 'mse', 'min_samples_split': 3, 'max_depth': 6, 'max_features': 'log2'}. Best is trial 2 with value: -0.11093073593073595.\u001b[0m\n",
            "\u001b[32m[I 2021-06-07 17:56:01,158]\u001b[0m Trial 3 finished with value: -0.05357142857142859 and parameters: {'learning_rate': 0.45466838805396426, 'criterion': 'mse', 'min_samples_split': 2, 'max_depth': 5, 'max_features': 'sqrt'}. Best is trial 2 with value: -0.11093073593073595.\u001b[0m\n",
            "\u001b[32m[I 2021-06-07 17:56:02,173]\u001b[0m Trial 4 finished with value: -0.024891774891774923 and parameters: {'learning_rate': 0.7441654662556872, 'criterion': 'mse', 'min_samples_split': 3, 'max_depth': 19, 'max_features': 'sqrt'}. Best is trial 2 with value: -0.11093073593073595.\u001b[0m\n",
            "\u001b[32m[I 2021-06-07 17:56:03,681]\u001b[0m Trial 5 finished with value: -0.08820346320346319 and parameters: {'learning_rate': 0.047216196880420336, 'criterion': 'mse', 'min_samples_split': 4, 'max_depth': 16, 'max_features': 'sqrt'}. Best is trial 2 with value: -0.11093073593073595.\u001b[0m\n",
            "\u001b[32m[I 2021-06-07 17:56:04,761]\u001b[0m Trial 6 finished with value: -0.018939393939393964 and parameters: {'learning_rate': 0.27638455979938115, 'criterion': 'mse', 'min_samples_split': 5, 'max_depth': 20, 'max_features': 'log2'}. Best is trial 2 with value: -0.11093073593073595.\u001b[0m\n",
            "\u001b[32m[I 2021-06-07 17:56:07,468]\u001b[0m Trial 7 finished with value: -0.10487012987012985 and parameters: {'learning_rate': 0.25582196896233245, 'criterion': 'friedman_mse', 'min_samples_split': 2, 'max_depth': 12, 'max_features': None}. Best is trial 2 with value: -0.11093073593073595.\u001b[0m\n",
            "\u001b[32m[I 2021-06-07 17:56:08,266]\u001b[0m Trial 8 finished with value: -0.08820346320346319 and parameters: {'learning_rate': 0.8943137307963359, 'criterion': 'friedman_mse', 'min_samples_split': 5, 'max_depth': 13, 'max_features': 'sqrt'}. Best is trial 2 with value: -0.11093073593073595.\u001b[0m\n",
            "\u001b[32m[I 2021-06-07 17:56:09,104]\u001b[0m Trial 9 finished with value: 0.009740259740259771 and parameters: {'learning_rate': 0.7296929547698023, 'criterion': 'mse', 'min_samples_split': 5, 'max_depth': 16, 'max_features': 'sqrt'}. Best is trial 2 with value: -0.11093073593073595.\u001b[0m\n"
          ],
          "name": "stderr"
        },
        {
          "output_type": "stream",
          "text": [
            "hyperparameter optimization results:\n",
            "\tnumber of trials: 10\n",
            "\tnumber of pruned trials: 0\n",
            "\tbest value (mujority-model-dif_sum): -0.11093073593073595\n",
            "\toptimized parameters:\n",
            "\t\tlearning_rate: 0.5890920853531028\n",
            "\t\tcriterion: mse\n",
            "\t\tmin_samples_split: 3\n",
            "\t\tmax_depth: 6\n",
            "\t\tmax_features: log2\n",
            "\tfinal parameters:\n",
            "\t\tlearning_rate: 0.5890920853531028\n",
            "\t\tcriterion: mse\n",
            "\t\tmin_samples_split: 3\n",
            "\t\tmax_depth: 6\n",
            "\t\tmax_features: log2\n"
          ],
          "name": "stdout"
        },
        {
          "output_type": "execute_result",
          "data": {
            "text/html": [
              "<div>\n",
              "<style scoped>\n",
              "    .dataframe tbody tr th:only-of-type {\n",
              "        vertical-align: middle;\n",
              "    }\n",
              "\n",
              "    .dataframe tbody tr th {\n",
              "        vertical-align: top;\n",
              "    }\n",
              "\n",
              "    .dataframe thead th {\n",
              "        text-align: right;\n",
              "    }\n",
              "</style>\n",
              "<table border=\"1\" class=\"dataframe\">\n",
              "  <thead>\n",
              "    <tr style=\"text-align: right;\">\n",
              "      <th></th>\n",
              "      <th>model</th>\n",
              "      <th>accuracy</th>\n",
              "      <th>balanced accuracy</th>\n",
              "      <th>precision</th>\n",
              "      <th>recall</th>\n",
              "      <th>f1 score</th>\n",
              "    </tr>\n",
              "  </thead>\n",
              "  <tbody>\n",
              "    <tr>\n",
              "      <th>0</th>\n",
              "      <td>majority rule</td>\n",
              "      <td>0.318182</td>\n",
              "      <td>0.166667</td>\n",
              "      <td>0.318182</td>\n",
              "      <td>0.318182</td>\n",
              "      <td>0.318182</td>\n",
              "    </tr>\n",
              "    <tr>\n",
              "      <th>1</th>\n",
              "      <td>GradientBossting</td>\n",
              "      <td>0.363636</td>\n",
              "      <td>0.297619</td>\n",
              "      <td>0.363636</td>\n",
              "      <td>0.363636</td>\n",
              "      <td>0.363636</td>\n",
              "    </tr>\n",
              "  </tbody>\n",
              "</table>\n",
              "</div>"
            ],
            "text/plain": [
              "              model  accuracy  balanced accuracy  precision    recall  f1 score\n",
              "0     majority rule  0.318182           0.166667   0.318182  0.318182  0.318182\n",
              "1  GradientBossting  0.363636           0.297619   0.363636  0.363636  0.363636"
            ]
          },
          "metadata": {
            "tags": []
          },
          "execution_count": 116
        }
      ]
    },
    {
      "cell_type": "markdown",
      "metadata": {
        "id": "6i77LcpyZAYV"
      },
      "source": [
        "### regression"
      ]
    },
    {
      "cell_type": "code",
      "metadata": {
        "id": "b3zOfJGBoRhS"
      },
      "source": [
        "import os\n",
        "import pickle\n",
        "from abc import ABC\n",
        "import seaborn as sns\n",
        "import matplotlib.pyplot as plt\n",
        "from sklearn.preprocessing import MinMaxScaler\n",
        "\n",
        "class RegressionTuner(SklearnTuner, ABC):\n",
        "  def __init__(self, name, X_train, X_test, y_train, y_test, labeling_type, weights):\n",
        "    super().__init__(name, X_train, X_test, y_train, y_test, labeling_type)\n",
        "    self.weights = weights\n",
        "    self.best_score = -float('inf')\n",
        "    self.direction = \"maximize\"\n",
        "\n",
        "  def show_best_results(self, path_to_save=None):\n",
        "    scores = pd.DataFrame(columns=['model', 'mean absolute error',\n",
        "                                   'mean squared error'])\n",
        "    majority_eval = self.majority_eval\n",
        "    majority_eval[\"model\"] = \"majority rule\"\n",
        "    scores = scores.append(majority_eval, ignore_index=True)\n",
        "    \n",
        "    best_results = self.get_best_results()\n",
        "    scores = scores.append(best_results, ignore_index=True)\n",
        "    \n",
        "    predictions = self.best_model.predict(self.X_test)    \n",
        "    baseline_predictions = self._get_baseline_prediction()\n",
        "\n",
        "    fig = plt.figure(figsize=(7, 7))\n",
        "    ax = fig.add_subplot(1, 1, 1)\n",
        "\n",
        "    sns.lineplot(x=list(range(len(self.y_test))), y=predictions, legend='full', label=\"predictions\", ax=ax)\n",
        "    sns.lineplot(x=list(range(len(self.y_test))), y=baseline_predictions, legend='full', label=\"baseline\", ax=ax)\n",
        "    sns.lineplot(x=list(range(len(self.y_test))), y=self.y_test, legend='full', label=\"true value\", ax=ax)\n",
        "\n",
        "    if path_to_save is not None:\n",
        "      plt.close(fig)\n",
        "      os.mkdir(f\"{path_to_save}/{self.name}\")\n",
        "      fig.savefig(f\"{path_to_save}/{self.name}/results.png\")\n",
        "      with open(f'{path_to_save}/{self.name}/pickled_scores.df', 'wb') as res_file:\n",
        "        pickle.dump(scores, res_file)\n",
        "      scores.to_html(f'{path_to_save}/{self.name}/scores.html')\n",
        "      with open(f'{path_to_save}/{self.name}/model.md', 'wb') as model_file:\n",
        "        pickle.dump(self.best_model, model_file)\n",
        "      return\n",
        "\n",
        "    return scores\n",
        "\n",
        "  def _get_baseline_prediction(self):\n",
        "    mode_label = self.y_train.mean()\n",
        "    baseline_prediction = [mode_label for _ in range(len(self.y_test))]\n",
        "    return baseline_prediction\n",
        "\n",
        "  def _get_prediction_score(self, y_pred, y_true):\n",
        "    return dict(reg_scores(np.array(y_true),np.array(y_pred)))\n",
        "\n",
        "  @abstractmethod\n",
        "  def build_model(self):\n",
        "    pass"
      ],
      "execution_count": null,
      "outputs": []
    },
    {
      "cell_type": "code",
      "metadata": {
        "id": "i7Szm0HcoSdz"
      },
      "source": [
        "labeling_type = \"valance\"\n",
        "weights = {\"mean absolute error\":1,\n",
        "           \"mean squared error\":1}\n",
        "trials = 10"
      ],
      "execution_count": null,
      "outputs": []
    },
    {
      "cell_type": "markdown",
      "metadata": {
        "id": "nDSay50q6o1N"
      },
      "source": [
        "#### Ridge"
      ]
    },
    {
      "cell_type": "code",
      "metadata": {
        "id": "6wV_Napl6tis"
      },
      "source": [
        "from sklearn.linear_model import Ridge\n",
        "\n",
        "class RidgeTuner(RegressionTuner):\n",
        "  def __init__(self, X_train, X_test, y_train, y_test, labeling_type,\n",
        "               weights={\"accuracy\":1, \"balanced accuracy\":1, \"precision\":1,\n",
        "                        \"recall\":1, \"f1 score\":1}):\n",
        "    super().__init__(\"ridge\", X_train, X_test, y_train, y_test, labeling_type, weights)\n",
        "\n",
        "  def build_model(self):\n",
        "    model = Ridge(\n",
        "                  alpha=self.params[\"alpha\"],\n",
        "                  fit_intercept=self.params[\"fit_intercept\"],\n",
        "                  normalize=self.params[\"normalize\"],\n",
        "                  max_iter=25000,\n",
        "                  solver=self.params[\"solver\"],\n",
        "                  random_state=42)\n",
        "    return model\n",
        "\n",
        "  def update_params(self, trial: Trial):\n",
        "    self.params[\"alpha\"] = trial.suggest_float(\"alpha\", 1, 50)\n",
        "    self.params[\"fit_intercept\"] = trial.suggest_categorical(\"fit_intercept\", [True, False])\n",
        "    self.params[\"normalize\"] = trial.suggest_categorical(\"normalize\", [True, False])\n",
        "    self.params[\"tol\"] = trial.suggest_float(\"tol\", 1e-5,1e-1)\n",
        "    self.params[\"solver\"] = trial.suggest_categorical(\"solver\", [\"svd\", \"cholesky\", \"lsqr\", \"sparse_cg\", \"sag\", \"saga\"])\n",
        "  \n",
        "  def run(self, trials=500, use_logger=False):\n",
        "    super().run(trials, use_logger)"
      ],
      "execution_count": null,
      "outputs": []
    },
    {
      "cell_type": "code",
      "metadata": {
        "id": "tVn0-mm9-_7U",
        "colab": {
          "base_uri": "https://localhost:8080/"
        },
        "outputId": "9fcd2b47-e985-4e24-88aa-1bbdb6768a98"
      },
      "source": [
        "lr_tuner = RidgeTuner(X_train, X_test, y_train, y_test, labeling_type, weights)\n",
        "lr_tuner.run(trials)\n",
        "lr_tuner.show_best_results()"
      ],
      "execution_count": null,
      "outputs": [
        {
          "output_type": "stream",
          "text": [
            "\u001b[32m[I 2021-06-07 17:56:09,248]\u001b[0m A new study created in memory with name: no-name-ea814887-8758-441f-a6d3-624e9a0626b2\u001b[0m\n",
            "\u001b[32m[I 2021-06-07 17:56:09,308]\u001b[0m Trial 0 finished with value: -10.064959163517866 and parameters: {'alpha': 35.06354237501444, 'fit_intercept': False, 'normalize': False, 'tol': 0.09102903308216372, 'solver': 'sag'}. Best is trial 0 with value: -10.064959163517866.\u001b[0m\n",
            "\u001b[32m[I 2021-06-07 17:56:09,320]\u001b[0m Trial 1 finished with value: -0.7754793194789664 and parameters: {'alpha': 36.588672440552145, 'fit_intercept': False, 'normalize': False, 'tol': 0.032397268644859666, 'solver': 'sparse_cg'}. Best is trial 1 with value: -0.7754793194789664.\u001b[0m\n",
            "\u001b[32m[I 2021-06-07 17:56:09,331]\u001b[0m Trial 2 finished with value: -0.7119280217905772 and parameters: {'alpha': 8.973304821555304, 'fit_intercept': True, 'normalize': True, 'tol': 0.0748791788900082, 'solver': 'cholesky'}. Best is trial 2 with value: -0.7119280217905772.\u001b[0m\n",
            "\u001b[32m[I 2021-06-07 17:56:09,458]\u001b[0m Trial 3 finished with value: -10.257962232644626 and parameters: {'alpha': 40.952604594575114, 'fit_intercept': False, 'normalize': True, 'tol': 0.003627316573427362, 'solver': 'saga'}. Best is trial 2 with value: -0.7119280217905772.\u001b[0m\n",
            "\u001b[32m[I 2021-06-07 17:56:09,470]\u001b[0m Trial 4 finished with value: -54.12818406234123 and parameters: {'alpha': 23.12123146226607, 'fit_intercept': True, 'normalize': False, 'tol': 0.08345998693750628, 'solver': 'cholesky'}. Best is trial 2 with value: -0.7119280217905772.\u001b[0m\n",
            "\u001b[32m[I 2021-06-07 17:56:09,482]\u001b[0m Trial 5 finished with value: -0.028714025324134473 and parameters: {'alpha': 46.50562049615292, 'fit_intercept': True, 'normalize': True, 'tol': 0.09134429932783292, 'solver': 'sparse_cg'}. Best is trial 5 with value: -0.028714025324134473.\u001b[0m\n",
            "\u001b[32m[I 2021-06-07 17:56:09,496]\u001b[0m Trial 6 finished with value: -6.921488599687974 and parameters: {'alpha': 32.26863052774084, 'fit_intercept': False, 'normalize': False, 'tol': 0.07592749218764185, 'solver': 'lsqr'}. Best is trial 5 with value: -0.028714025324134473.\u001b[0m\n",
            "\u001b[32m[I 2021-06-07 17:56:09,508]\u001b[0m Trial 7 finished with value: -36.08249724916898 and parameters: {'alpha': 12.343923507848212, 'fit_intercept': False, 'normalize': True, 'tol': 0.028655534605608986, 'solver': 'cholesky'}. Best is trial 5 with value: -0.028714025324134473.\u001b[0m\n",
            "\u001b[32m[I 2021-06-07 17:56:09,598]\u001b[0m Trial 8 finished with value: -10.06495852530867 and parameters: {'alpha': 11.579295409464823, 'fit_intercept': False, 'normalize': False, 'tol': 0.06081057124629809, 'solver': 'sag'}. Best is trial 5 with value: -0.028714025324134473.\u001b[0m\n",
            "\u001b[32m[I 2021-06-07 17:56:09,683]\u001b[0m Trial 9 finished with value: -10.25796161673051 and parameters: {'alpha': 4.229618199425988, 'fit_intercept': False, 'normalize': True, 'tol': 0.0254835577274514, 'solver': 'saga'}. Best is trial 5 with value: -0.028714025324134473.\u001b[0m\n"
          ],
          "name": "stderr"
        },
        {
          "output_type": "stream",
          "text": [
            "hyperparameter optimization results:\n",
            "\tnumber of trials: 10\n",
            "\tnumber of pruned trials: 0\n",
            "\tbest value (mujority-model-dif_sum): -0.028714025324134473\n",
            "\toptimized parameters:\n",
            "\t\talpha: 46.50562049615292\n",
            "\t\tfit_intercept: True\n",
            "\t\tnormalize: True\n",
            "\t\ttol: 0.09134429932783292\n",
            "\t\tsolver: sparse_cg\n",
            "\tfinal parameters:\n",
            "\t\talpha: 46.50562049615292\n",
            "\t\tfit_intercept: True\n",
            "\t\tnormalize: True\n",
            "\t\ttol: 0.09134429932783292\n",
            "\t\tsolver: sparse_cg\n"
          ],
          "name": "stdout"
        },
        {
          "output_type": "execute_result",
          "data": {
            "text/html": [
              "<div>\n",
              "<style scoped>\n",
              "    .dataframe tbody tr th:only-of-type {\n",
              "        vertical-align: middle;\n",
              "    }\n",
              "\n",
              "    .dataframe tbody tr th {\n",
              "        vertical-align: top;\n",
              "    }\n",
              "\n",
              "    .dataframe thead th {\n",
              "        text-align: right;\n",
              "    }\n",
              "</style>\n",
              "<table border=\"1\" class=\"dataframe\">\n",
              "  <thead>\n",
              "    <tr style=\"text-align: right;\">\n",
              "      <th></th>\n",
              "      <th>model</th>\n",
              "      <th>mean absolute error</th>\n",
              "      <th>mean squared error</th>\n",
              "    </tr>\n",
              "  </thead>\n",
              "  <tbody>\n",
              "    <tr>\n",
              "      <th>0</th>\n",
              "      <td>majority rule</td>\n",
              "      <td>1.055413</td>\n",
              "      <td>1.719623</td>\n",
              "    </tr>\n",
              "    <tr>\n",
              "      <th>1</th>\n",
              "      <td>ridge</td>\n",
              "      <td>1.070405</td>\n",
              "      <td>1.733345</td>\n",
              "    </tr>\n",
              "  </tbody>\n",
              "</table>\n",
              "</div>"
            ],
            "text/plain": [
              "           model  mean absolute error  mean squared error\n",
              "0  majority rule             1.055413            1.719623\n",
              "1          ridge             1.070405            1.733345"
            ]
          },
          "metadata": {
            "tags": []
          },
          "execution_count": 120
        },
        {
          "output_type": "display_data",
          "data": {
            "image/png": "[encoded data removed]",
            "text/plain": [
              "<Figure size 504x504 with 1 Axes>"
            ]
          },
          "metadata": {
            "tags": [],
            "needs_background": "light"
          }
        }
      ]
    },
    {
      "cell_type": "markdown",
      "metadata": {
        "id": "bmWq8qu7BIjl"
      },
      "source": [
        "#### Lasso"
      ]
    },
    {
      "cell_type": "code",
      "metadata": {
        "id": "slxzs8jEBKNc"
      },
      "source": [
        "from sklearn.linear_model import Lasso\n",
        "\n",
        "class LassoTuner(RegressionTuner):\n",
        "  def __init__(self, X_train, X_test, y_train, y_test, labeling_type,\n",
        "               weights={\"accuracy\":1, \"balanced accuracy\":1, \"precision\":1,\n",
        "                        \"recall\":1, \"f1 score\":1}):\n",
        "    super().__init__(\"lasso\", X_train, X_test, y_train, y_test, labeling_type, weights)\n",
        "\n",
        "  def build_model(self):\n",
        "    model = Lasso(alpha=self.params[\"alpha\"],\n",
        "                  fit_intercept=self.params[\"fit_intercept\"],\n",
        "                  normalize=self.params[\"normalize\"],\n",
        "                  max_iter=-1,\n",
        "                  tol=self.params[\"tol\"],\n",
        "                  positive=self.params[\"positive\"],\n",
        "                  random_state=42,\n",
        "                  selection=self.params[\"selection\"])\n",
        "    return model\n",
        "\n",
        "  def update_params(self, trial: Trial):\n",
        "    self.params[\"alpha\"] = trial.suggest_float(\"alpha\", 0.00001, 1)\n",
        "    self.params[\"fit_intercept\"] = trial.suggest_categorical(\"fit_intercept\", [True, False])\n",
        "    self.params[\"normalize\"] = trial.suggest_categorical(\"normalize\", [True, False])\n",
        "    self.params[\"tol\"] = trial.suggest_float(\"tol\", 1e-6,1e-2)\n",
        "    self.params[\"positive\"] = trial.suggest_categorical(\"positive\", [True, False])\n",
        "    self.params[\"selection\"] = trial.suggest_categorical(\"selection\", [\"cyclic\", \"random\"])\n",
        "  \n",
        "  def run(self, trials=500, use_logger=False):\n",
        "    super().run(trials, use_logger)"
      ],
      "execution_count": null,
      "outputs": []
    },
    {
      "cell_type": "code",
      "metadata": {
        "id": "2Qqv47inBKyJ",
        "colab": {
          "base_uri": "https://localhost:8080/"
        },
        "outputId": "b3e3dc17-e5dc-452c-cc40-46796dcaba68"
      },
      "source": [
        "lasso_tuner = LassoTuner(X_train, X_test, y_train, y_test, labeling_type, weights)\n",
        "lasso_tuner.run(trials)\n",
        "lasso_tuner.show_best_results()"
      ],
      "execution_count": null,
      "outputs": [
        {
          "output_type": "stream",
          "text": [
            "\u001b[32m[I 2021-06-07 17:56:10,020]\u001b[0m A new study created in memory with name: no-name-112195ff-365e-4486-92d4-83ca2b04da71\u001b[0m\n",
            "\u001b[32m[I 2021-06-07 17:56:10,034]\u001b[0m Trial 0 finished with value: 4.440892098500626e-16 and parameters: {'alpha': 0.07145755653720627, 'fit_intercept': True, 'normalize': True, 'tol': 0.008605132391943639, 'positive': True, 'selection': 'random'}. Best is trial 0 with value: 4.440892098500626e-16.\u001b[0m\n",
            "\u001b[32m[I 2021-06-07 17:56:10,048]\u001b[0m Trial 1 finished with value: 4.440892098500626e-16 and parameters: {'alpha': 0.3374902997053791, 'fit_intercept': True, 'normalize': True, 'tol': 0.0015716358627212684, 'positive': True, 'selection': 'random'}. Best is trial 0 with value: 4.440892098500626e-16.\u001b[0m\n",
            "\u001b[32m[I 2021-06-07 17:56:10,061]\u001b[0m Trial 2 finished with value: 4.440892098500626e-16 and parameters: {'alpha': 0.7646684353639667, 'fit_intercept': True, 'normalize': True, 'tol': 0.005807316960333798, 'positive': True, 'selection': 'random'}. Best is trial 0 with value: 4.440892098500626e-16.\u001b[0m\n",
            "\u001b[32m[I 2021-06-07 17:56:10,072]\u001b[0m Trial 3 finished with value: -0.165591169351756 and parameters: {'alpha': 0.15179659698594444, 'fit_intercept': False, 'normalize': False, 'tol': 0.0008290312830647887, 'positive': True, 'selection': 'random'}. Best is trial 0 with value: 4.440892098500626e-16.\u001b[0m\n",
            "\u001b[32m[I 2021-06-07 17:56:10,085]\u001b[0m Trial 4 finished with value: 4.440892098500626e-16 and parameters: {'alpha': 0.10417398082828944, 'fit_intercept': True, 'normalize': True, 'tol': 0.005995489234377672, 'positive': True, 'selection': 'random'}. Best is trial 0 with value: 4.440892098500626e-16.\u001b[0m\n",
            "\u001b[32m[I 2021-06-07 17:56:10,103]\u001b[0m Trial 5 finished with value: -0.34247296259497473 and parameters: {'alpha': 0.35127117659138146, 'fit_intercept': False, 'normalize': False, 'tol': 0.004292339745528208, 'positive': False, 'selection': 'random'}. Best is trial 0 with value: 4.440892098500626e-16.\u001b[0m\n",
            "\u001b[32m[I 2021-06-07 17:56:10,116]\u001b[0m Trial 6 finished with value: 4.440892098500626e-16 and parameters: {'alpha': 0.7878117387116534, 'fit_intercept': True, 'normalize': True, 'tol': 0.006743236805377611, 'positive': True, 'selection': 'cyclic'}. Best is trial 0 with value: 4.440892098500626e-16.\u001b[0m\n",
            "\u001b[32m[I 2021-06-07 17:56:10,135]\u001b[0m Trial 7 finished with value: -0.35165784046404536 and parameters: {'alpha': 0.2008138671766202, 'fit_intercept': False, 'normalize': True, 'tol': 0.0048864812539695475, 'positive': False, 'selection': 'random'}. Best is trial 0 with value: 4.440892098500626e-16.\u001b[0m\n",
            "\u001b[32m[I 2021-06-07 17:56:10,148]\u001b[0m Trial 8 finished with value: 0.09321747108079648 and parameters: {'alpha': 0.11399116004585032, 'fit_intercept': True, 'normalize': False, 'tol': 0.0032310899826101407, 'positive': True, 'selection': 'random'}. Best is trial 8 with value: 0.09321747108079648.\u001b[0m\n",
            "\u001b[32m[I 2021-06-07 17:56:10,180]\u001b[0m Trial 9 finished with value: -0.41390324299672776 and parameters: {'alpha': 0.08992335363314014, 'fit_intercept': False, 'normalize': False, 'tol': 0.00014360865781651744, 'positive': False, 'selection': 'random'}. Best is trial 8 with value: 0.09321747108079648.\u001b[0m\n"
          ],
          "name": "stderr"
        },
        {
          "output_type": "stream",
          "text": [
            "hyperparameter optimization results:\n",
            "\tnumber of trials: 10\n",
            "\tnumber of pruned trials: 0\n",
            "\tbest value (mujority-model-dif_sum): 0.09321747108079648\n",
            "\toptimized parameters:\n",
            "\t\talpha: 0.11399116004585032\n",
            "\t\tfit_intercept: True\n",
            "\t\tnormalize: False\n",
            "\t\ttol: 0.0032310899826101407\n",
            "\t\tpositive: True\n",
            "\t\tselection: random\n",
            "\tfinal parameters:\n",
            "\t\talpha: 0.11399116004585032\n",
            "\t\tfit_intercept: True\n",
            "\t\tnormalize: False\n",
            "\t\ttol: 0.0032310899826101407\n",
            "\t\tpositive: True\n",
            "\t\tselection: random\n"
          ],
          "name": "stdout"
        },
        {
          "output_type": "execute_result",
          "data": {
            "text/html": [
              "<div>\n",
              "<style scoped>\n",
              "    .dataframe tbody tr th:only-of-type {\n",
              "        vertical-align: middle;\n",
              "    }\n",
              "\n",
              "    .dataframe tbody tr th {\n",
              "        vertical-align: top;\n",
              "    }\n",
              "\n",
              "    .dataframe thead th {\n",
              "        text-align: right;\n",
              "    }\n",
              "</style>\n",
              "<table border=\"1\" class=\"dataframe\">\n",
              "  <thead>\n",
              "    <tr style=\"text-align: right;\">\n",
              "      <th></th>\n",
              "      <th>model</th>\n",
              "      <th>mean absolute error</th>\n",
              "      <th>mean squared error</th>\n",
              "    </tr>\n",
              "  </thead>\n",
              "  <tbody>\n",
              "    <tr>\n",
              "      <th>0</th>\n",
              "      <td>majority rule</td>\n",
              "      <td>1.055413</td>\n",
              "      <td>1.719623</td>\n",
              "    </tr>\n",
              "    <tr>\n",
              "      <th>1</th>\n",
              "      <td>lasso</td>\n",
              "      <td>1.040321</td>\n",
              "      <td>1.641498</td>\n",
              "    </tr>\n",
              "  </tbody>\n",
              "</table>\n",
              "</div>"
            ],
            "text/plain": [
              "           model  mean absolute error  mean squared error\n",
              "0  majority rule             1.055413            1.719623\n",
              "1          lasso             1.040321            1.641498"
            ]
          },
          "metadata": {
            "tags": []
          },
          "execution_count": 122
        },
        {
          "output_type": "display_data",
          "data": {
            "image/png": "[encoded data removed]",
            "text/plain": [
              "<Figure size 504x504 with 1 Axes>"
            ]
          },
          "metadata": {
            "tags": [],
            "needs_background": "light"
          }
        }
      ]
    },
    {
      "cell_type": "markdown",
      "metadata": {
        "id": "eeYdRF7SD29D"
      },
      "source": [
        "#### ElasticNet"
      ]
    },
    {
      "cell_type": "code",
      "metadata": {
        "id": "JzDa9DQ7D512"
      },
      "source": [
        "from sklearn.linear_model import ElasticNet\n",
        "\n",
        "class ElasticNetTuner(RegressionTuner):\n",
        "  def __init__(self, X_train, X_test, y_train, y_test, labeling_type,\n",
        "               weights={\"accuracy\":1, \"balanced accuracy\":1, \"precision\":1,\n",
        "                        \"recall\":1, \"f1 score\":1}):\n",
        "    super().__init__(\"ElasticNet\", X_train, X_test, y_train, y_test, labeling_type, weights)\n",
        "\n",
        "  def build_model(self):\n",
        "    model = ElasticNet(alpha=self.params[\"alpha\"], \n",
        "                       l1_ratio=self.params[\"l1_ratio\"], \n",
        "                       fit_intercept=self.params[\"fit_intercept\"],\n",
        "                       normalize=self.params[\"normalize\"],\n",
        "                       max_iter=-1, \n",
        "                       tol=self.params[\"tol\"],\n",
        "                       positive=self.params[\"positive\"],\n",
        "                       random_state=42, \n",
        "                       selection=self.params[\"selection\"])\n",
        "    return model\n",
        "\n",
        "  def update_params(self, trial: Trial):\n",
        "    self.params[\"alpha\"] = trial.suggest_float(\"alpha\", 0.00001, 1)\n",
        "    self.params[\"l1_ratio\"] = trial.suggest_float(\"l1_ratio\", 0, 0.1)\n",
        "    self.params[\"fit_intercept\"] = trial.suggest_categorical(\"fit_intercept\", [True, False])\n",
        "    self.params[\"normalize\"] = trial.suggest_categorical(\"normalize\", [True, False])\n",
        "    self.params[\"tol\"] = trial.suggest_float(\"tol\", 1e-6,1e-2)\n",
        "    self.params[\"positive\"] = trial.suggest_categorical(\"positive\", [True, False])\n",
        "    self.params[\"selection\"] = trial.suggest_categorical(\"selection\", [\"cyclic\", \"random\"])\n",
        "  \n",
        "  def run(self, trials=500, use_logger=False):\n",
        "    super().run(trials, use_logger)"
      ],
      "execution_count": null,
      "outputs": []
    },
    {
      "cell_type": "code",
      "metadata": {
        "id": "zYVHgLvsD6II",
        "colab": {
          "base_uri": "https://localhost:8080/"
        },
        "outputId": "b4bf2f37-12bb-4225-8b77-d949c1237478"
      },
      "source": [
        "elastic_tuner = ElasticNetTuner(X_train, X_test, y_train, y_test, labeling_type, weights)\n",
        "elastic_tuner.run(trials)\n",
        "elastic_tuner.show_best_results()"
      ],
      "execution_count": null,
      "outputs": [
        {
          "output_type": "stream",
          "text": [
            "\u001b[32m[I 2021-06-07 17:56:10,531]\u001b[0m A new study created in memory with name: no-name-98681bdf-c680-4993-b4b4-66f2bb0e2e2d\u001b[0m\n",
            "\u001b[32m[I 2021-06-07 17:56:10,595]\u001b[0m Trial 0 finished with value: -0.34816173874619327 and parameters: {'alpha': 0.3749719228796075, 'l1_ratio': 0.02378516161936688, 'fit_intercept': False, 'normalize': True, 'tol': 0.00018308799906877627, 'positive': False, 'selection': 'random'}. Best is trial 0 with value: -0.34816173874619327.\u001b[0m\n",
            "\u001b[32m[I 2021-06-07 17:56:10,606]\u001b[0m Trial 1 finished with value: 4.440892098500626e-16 and parameters: {'alpha': 0.8506725634510286, 'l1_ratio': 0.030269033871431164, 'fit_intercept': True, 'normalize': True, 'tol': 0.006877561419972531, 'positive': True, 'selection': 'random'}. Best is trial 1 with value: 4.440892098500626e-16.\u001b[0m\n",
            "\u001b[32m[I 2021-06-07 17:56:10,622]\u001b[0m Trial 2 finished with value: -0.20652964576904442 and parameters: {'alpha': 0.19022854542857237, 'l1_ratio': 0.09984332557613854, 'fit_intercept': False, 'normalize': True, 'tol': 0.0060578696354680675, 'positive': True, 'selection': 'random'}. Best is trial 1 with value: 4.440892098500626e-16.\u001b[0m\n",
            "\u001b[32m[I 2021-06-07 17:56:10,646]\u001b[0m Trial 3 finished with value: -0.38571766033550303 and parameters: {'alpha': 0.8455197835667495, 'l1_ratio': 0.06905753325662774, 'fit_intercept': False, 'normalize': True, 'tol': 0.006384149984309911, 'positive': False, 'selection': 'random'}. Best is trial 1 with value: 4.440892098500626e-16.\u001b[0m\n",
            "\u001b[32m[I 2021-06-07 17:56:10,657]\u001b[0m Trial 4 finished with value: -0.192966560342817 and parameters: {'alpha': 0.35106989407204653, 'l1_ratio': 0.07383655690572917, 'fit_intercept': False, 'normalize': False, 'tol': 0.0021924963544583814, 'positive': True, 'selection': 'cyclic'}. Best is trial 1 with value: 4.440892098500626e-16.\u001b[0m\n",
            "\u001b[32m[I 2021-06-07 17:56:10,668]\u001b[0m Trial 5 finished with value: -0.19751395851929265 and parameters: {'alpha': 0.5475366135910431, 'l1_ratio': 0.084075760615551, 'fit_intercept': False, 'normalize': False, 'tol': 0.007444225816619841, 'positive': True, 'selection': 'random'}. Best is trial 1 with value: 4.440892098500626e-16.\u001b[0m\n",
            "\u001b[32m[I 2021-06-07 17:56:10,701]\u001b[0m Trial 6 finished with value: 0.19622268224943507 and parameters: {'alpha': 0.5238847101091786, 'l1_ratio': 0.0321282888394693, 'fit_intercept': True, 'normalize': False, 'tol': 0.0024133528739917736, 'positive': False, 'selection': 'random'}. Best is trial 6 with value: 0.19622268224943507.\u001b[0m\n",
            "\u001b[32m[I 2021-06-07 17:56:10,730]\u001b[0m Trial 7 finished with value: 0.16891831446381933 and parameters: {'alpha': 0.8423502985893642, 'l1_ratio': 0.07753388003235476, 'fit_intercept': True, 'normalize': False, 'tol': 0.003713898250964029, 'positive': False, 'selection': 'random'}. Best is trial 6 with value: 0.19622268224943507.\u001b[0m\n",
            "\u001b[32m[I 2021-06-07 17:56:10,756]\u001b[0m Trial 8 finished with value: -0.3773759283627651 and parameters: {'alpha': 0.5693213768185524, 'l1_ratio': 0.09389088441493477, 'fit_intercept': False, 'normalize': False, 'tol': 0.0017204863716064579, 'positive': False, 'selection': 'random'}. Best is trial 6 with value: 0.19622268224943507.\u001b[0m\n",
            "\u001b[32m[I 2021-06-07 17:56:10,766]\u001b[0m Trial 9 finished with value: -0.18133410007534678 and parameters: {'alpha': 0.5123967747296615, 'l1_ratio': 0.08996863810961409, 'fit_intercept': False, 'normalize': True, 'tol': 0.002886651400182933, 'positive': True, 'selection': 'random'}. Best is trial 6 with value: 0.19622268224943507.\u001b[0m\n"
          ],
          "name": "stderr"
        },
        {
          "output_type": "stream",
          "text": [
            "hyperparameter optimization results:\n",
            "\tnumber of trials: 10\n",
            "\tnumber of pruned trials: 0\n",
            "\tbest value (mujority-model-dif_sum): 0.19622268224943507\n",
            "\toptimized parameters:\n",
            "\t\talpha: 0.5238847101091786\n",
            "\t\tl1_ratio: 0.0321282888394693\n",
            "\t\tfit_intercept: True\n",
            "\t\tnormalize: False\n",
            "\t\ttol: 0.0024133528739917736\n",
            "\t\tpositive: False\n",
            "\t\tselection: random\n",
            "\tfinal parameters:\n",
            "\t\talpha: 0.5238847101091786\n",
            "\t\tl1_ratio: 0.0321282888394693\n",
            "\t\tfit_intercept: True\n",
            "\t\tnormalize: False\n",
            "\t\ttol: 0.0024133528739917736\n",
            "\t\tpositive: False\n",
            "\t\tselection: random\n"
          ],
          "name": "stdout"
        },
        {
          "output_type": "execute_result",
          "data": {
            "text/html": [
              "<div>\n",
              "<style scoped>\n",
              "    .dataframe tbody tr th:only-of-type {\n",
              "        vertical-align: middle;\n",
              "    }\n",
              "\n",
              "    .dataframe tbody tr th {\n",
              "        vertical-align: top;\n",
              "    }\n",
              "\n",
              "    .dataframe thead th {\n",
              "        text-align: right;\n",
              "    }\n",
              "</style>\n",
              "<table border=\"1\" class=\"dataframe\">\n",
              "  <thead>\n",
              "    <tr style=\"text-align: right;\">\n",
              "      <th></th>\n",
              "      <th>model</th>\n",
              "      <th>mean absolute error</th>\n",
              "      <th>mean squared error</th>\n",
              "    </tr>\n",
              "  </thead>\n",
              "  <tbody>\n",
              "    <tr>\n",
              "      <th>0</th>\n",
              "      <td>majority rule</td>\n",
              "      <td>1.055413</td>\n",
              "      <td>1.719623</td>\n",
              "    </tr>\n",
              "    <tr>\n",
              "      <th>1</th>\n",
              "      <td>ElasticNet</td>\n",
              "      <td>1.013111</td>\n",
              "      <td>1.565702</td>\n",
              "    </tr>\n",
              "  </tbody>\n",
              "</table>\n",
              "</div>"
            ],
            "text/plain": [
              "           model  mean absolute error  mean squared error\n",
              "0  majority rule             1.055413            1.719623\n",
              "1     ElasticNet             1.013111            1.565702"
            ]
          },
          "metadata": {
            "tags": []
          },
          "execution_count": 124
        },
        {
          "output_type": "display_data",
          "data": {
            "image/png": "[encoded data removed]",
            "text/plain": [
              "<Figure size 504x504 with 1 Axes>"
            ]
          },
          "metadata": {
            "tags": [],
            "needs_background": "light"
          }
        }
      ]
    },
    {
      "cell_type": "markdown",
      "metadata": {
        "id": "hU2AEEPtHl9f"
      },
      "source": [
        "#### Lars"
      ]
    },
    {
      "cell_type": "code",
      "metadata": {
        "id": "zitxtGbJHnVe"
      },
      "source": [
        "from sklearn.linear_model import Lars\n",
        "\n",
        "class LarsTuner(RegressionTuner):\n",
        "  def __init__(self, X_train, X_test, y_train, y_test, labeling_type,\n",
        "               weights={\"accuracy\":1, \"balanced accuracy\":1, \"precision\":1,\n",
        "                        \"recall\":1, \"f1 score\":1}):\n",
        "    super().__init__(\"Lars\", X_train, X_test, y_train, y_test, labeling_type, weights)\n",
        "    \n",
        "  def build_model(self):\n",
        "    model = Lars(fit_intercept=self.params[\"fit_intercept\"], \n",
        "                 normalize=self.params[\"normalize\"],\n",
        "                 precompute=self.params[\"precompute\"], \n",
        "                 n_nonzero_coefs=self.params[\"n_nonzero_coefs\"],\n",
        "                 eps=self.params[\"eps\"], \n",
        "                 jitter=self.params[\"jitter\"], \n",
        "                 random_state=42)\n",
        "    return model\n",
        "\n",
        "  def update_params(self, trial: Trial):\n",
        "    self.params[\"fit_intercept\"] = trial.suggest_categorical(\"fit_intercept\", [True, False])\n",
        "    self.params[\"normalize\"] = trial.suggest_categorical(\"normalize\", [True, False])\n",
        "    self.params[\"precompute\"] = trial.suggest_categorical(\"precompute\", [True, False])\n",
        "    self.params[\"n_nonzero_coefs\"] = trial.suggest_int(\"n_nonzero_coefs\", 1, 500)\n",
        "    self.params[\"eps\"] = trial.suggest_float(\"eps\", 0, 1)\n",
        "    self.params[\"jitter\"] = trial.suggest_float(\"jitter\", 0, 10)\n",
        "  \n",
        "  def run(self, trials=500, use_logger=False):\n",
        "    super().run(trials, use_logger)"
      ],
      "execution_count": null,
      "outputs": []
    },
    {
      "cell_type": "code",
      "metadata": {
        "id": "Tb8aYFbEHnox",
        "colab": {
          "base_uri": "https://localhost:8080/"
        },
        "outputId": "c3802bf6-b4bf-4bff-ba43-11374ebf5c0c"
      },
      "source": [
        "lars_tuner = LarsTuner(X_train, X_test, y_train, y_test, labeling_type, weights)\n",
        "lars_tuner.run(trials)\n",
        "lars_tuner.show_best_results()"
      ],
      "execution_count": null,
      "outputs": [
        {
          "output_type": "stream",
          "text": [
            "\u001b[32m[I 2021-06-07 17:56:11,115]\u001b[0m A new study created in memory with name: no-name-1a32749a-7fb5-4aca-a27a-5c24bf903e95\u001b[0m\n",
            "\u001b[32m[I 2021-06-07 17:56:11,140]\u001b[0m Trial 0 finished with value: -5589602.29533659 and parameters: {'fit_intercept': False, 'normalize': True, 'precompute': False, 'n_nonzero_coefs': 459, 'eps': 0.028565447034830438, 'jitter': 0.8561040472755321}. Best is trial 0 with value: -5589602.29533659.\u001b[0m\n",
            "\u001b[32m[I 2021-06-07 17:56:11,180]\u001b[0m Trial 1 finished with value: -1097865.7483811795 and parameters: {'fit_intercept': False, 'normalize': True, 'precompute': True, 'n_nonzero_coefs': 349, 'eps': 0.41213900397836023, 'jitter': 8.661269403164718}. Best is trial 1 with value: -1097865.7483811795.\u001b[0m\n",
            "\u001b[32m[I 2021-06-07 17:56:11,211]\u001b[0m Trial 2 finished with value: -704111.1321917432 and parameters: {'fit_intercept': False, 'normalize': True, 'precompute': True, 'n_nonzero_coefs': 295, 'eps': 0.6743715437046897, 'jitter': 8.237892093778376}. Best is trial 2 with value: -704111.1321917432.\u001b[0m\n",
            "\u001b[32m[I 2021-06-07 17:56:11,241]\u001b[0m Trial 3 finished with value: -657588.7297550605 and parameters: {'fit_intercept': False, 'normalize': True, 'precompute': False, 'n_nonzero_coefs': 449, 'eps': 0.6567777296559186, 'jitter': 9.5679019692641}. Best is trial 3 with value: -657588.7297550605.\u001b[0m\n",
            "\u001b[32m[I 2021-06-07 17:56:11,272]\u001b[0m Trial 4 finished with value: -122.41399919805268 and parameters: {'fit_intercept': True, 'normalize': True, 'precompute': False, 'n_nonzero_coefs': 77, 'eps': 0.6506361528328659, 'jitter': 3.121044869586884}. Best is trial 4 with value: -122.41399919805268.\u001b[0m\n",
            "\u001b[32m[I 2021-06-07 17:56:11,296]\u001b[0m Trial 5 finished with value: -671293.1337607059 and parameters: {'fit_intercept': False, 'normalize': True, 'precompute': True, 'n_nonzero_coefs': 399, 'eps': 0.9949881245653706, 'jitter': 8.093758111010809}. Best is trial 4 with value: -122.41399919805268.\u001b[0m\n",
            "\u001b[32m[I 2021-06-07 17:56:11,321]\u001b[0m Trial 6 finished with value: -3895117.3650729954 and parameters: {'fit_intercept': False, 'normalize': False, 'precompute': True, 'n_nonzero_coefs': 395, 'eps': 0.6557265543865305, 'jitter': 3.530783941668678}. Best is trial 4 with value: -122.41399919805268.\u001b[0m\n",
            "\u001b[32m[I 2021-06-07 17:56:11,349]\u001b[0m Trial 7 finished with value: -2546.2978561589557 and parameters: {'fit_intercept': True, 'normalize': False, 'precompute': False, 'n_nonzero_coefs': 271, 'eps': 0.6135986005134014, 'jitter': 3.948137374301788}. Best is trial 4 with value: -122.41399919805268.\u001b[0m\n",
            "\u001b[32m[I 2021-06-07 17:56:11,373]\u001b[0m Trial 8 finished with value: -200852.66430066735 and parameters: {'fit_intercept': False, 'normalize': False, 'precompute': True, 'n_nonzero_coefs': 478, 'eps': 0.02279296229921912, 'jitter': 6.359735095545912}. Best is trial 4 with value: -122.41399919805268.\u001b[0m\n",
            "\u001b[32m[I 2021-06-07 17:56:11,400]\u001b[0m Trial 9 finished with value: -235612.76136612752 and parameters: {'fit_intercept': False, 'normalize': False, 'precompute': True, 'n_nonzero_coefs': 288, 'eps': 0.1294205466450412, 'jitter': 4.841825907223846}. Best is trial 4 with value: -122.41399919805268.\u001b[0m\n"
          ],
          "name": "stderr"
        },
        {
          "output_type": "stream",
          "text": [
            "hyperparameter optimization results:\n",
            "\tnumber of trials: 10\n",
            "\tnumber of pruned trials: 0\n",
            "\tbest value (mujority-model-dif_sum): -122.41399919805268\n",
            "\toptimized parameters:\n",
            "\t\tfit_intercept: True\n",
            "\t\tnormalize: True\n",
            "\t\tprecompute: False\n",
            "\t\tn_nonzero_coefs: 77\n",
            "\t\teps: 0.6506361528328659\n",
            "\t\tjitter: 3.121044869586884\n",
            "\tfinal parameters:\n",
            "\t\tfit_intercept: True\n",
            "\t\tnormalize: True\n",
            "\t\tprecompute: False\n",
            "\t\tn_nonzero_coefs: 77\n",
            "\t\teps: 0.6506361528328659\n",
            "\t\tjitter: 3.121044869586884\n"
          ],
          "name": "stdout"
        },
        {
          "output_type": "execute_result",
          "data": {
            "text/html": [
              "<div>\n",
              "<style scoped>\n",
              "    .dataframe tbody tr th:only-of-type {\n",
              "        vertical-align: middle;\n",
              "    }\n",
              "\n",
              "    .dataframe tbody tr th {\n",
              "        vertical-align: top;\n",
              "    }\n",
              "\n",
              "    .dataframe thead th {\n",
              "        text-align: right;\n",
              "    }\n",
              "</style>\n",
              "<table border=\"1\" class=\"dataframe\">\n",
              "  <thead>\n",
              "    <tr style=\"text-align: right;\">\n",
              "      <th></th>\n",
              "      <th>model</th>\n",
              "      <th>mean absolute error</th>\n",
              "      <th>mean squared error</th>\n",
              "    </tr>\n",
              "  </thead>\n",
              "  <tbody>\n",
              "    <tr>\n",
              "      <th>0</th>\n",
              "      <td>majority rule</td>\n",
              "      <td>1.055413</td>\n",
              "      <td>1.719623</td>\n",
              "    </tr>\n",
              "    <tr>\n",
              "      <th>1</th>\n",
              "      <td>Lars</td>\n",
              "      <td>3.104290</td>\n",
              "      <td>122.084745</td>\n",
              "    </tr>\n",
              "  </tbody>\n",
              "</table>\n",
              "</div>"
            ],
            "text/plain": [
              "           model  mean absolute error  mean squared error\n",
              "0  majority rule             1.055413            1.719623\n",
              "1           Lars             3.104290          122.084745"
            ]
          },
          "metadata": {
            "tags": []
          },
          "execution_count": 126
        },
        {
          "output_type": "display_data",
          "data": {
            "image/png": "[encoded data removed]",
            "text/plain": [
              "<Figure size 504x504 with 1 Axes>"
            ]
          },
          "metadata": {
            "tags": [],
            "needs_background": "light"
          }
        }
      ]
    },
    {
      "cell_type": "markdown",
      "metadata": {
        "id": "89ktDs3V3o9H"
      },
      "source": [
        "#### KNeighbors Regressor"
      ]
    },
    {
      "cell_type": "code",
      "metadata": {
        "id": "H89Acaa8OhVq"
      },
      "source": [
        "from sklearn.neighbors import KNeighborsRegressor\n",
        "\n",
        "class KNeighborsRegressorTuner(RegressionTuner):\n",
        "  def __init__(self, X_train, X_test, y_train, y_test, labeling_type,\n",
        "               weights={\"accuracy\":1, \"balanced accuracy\":1, \"precision\":1,\n",
        "                        \"recall\":1, \"f1 score\":1}):\n",
        "    super().__init__(\"knn_reg\", X_train, X_test, y_train, y_test, labeling_type, weights)\n",
        "    \n",
        "  def build_model(self):\n",
        "    model = KNeighborsRegressor(n_neighbors=self.params[\"n_neighbors\"],\n",
        "                                weights=self.params[\"weights\"],\n",
        "                                algorithm=self.params[\"algorithm\"],\n",
        "                                p=self.params[\"p\"],\n",
        "                                metric=self.params[\"metric\"])\n",
        "    return model\n",
        "\n",
        "  def update_params(self, trial: Trial):\n",
        "    super().update_params(trial)\n",
        "    self.params[\"n_neighbors\"] = trial.suggest_int(\"n_neighbors\", 1,40)\n",
        "    self.params[\"weights\"] = trial.suggest_categorical(\"weights\", [\"uniform\", \"distance\"])\n",
        "    self.params[\"algorithm\"] = trial.suggest_categorical(\"algorithm\", [\"ball_tree\", \"kd_tree\", \"brute\"])\n",
        "    self.params[\"p\"] = trial.suggest_int(\"p\", 1,5)\n",
        "    self.params[\"metric\"] = trial.suggest_categorical(\"metric\", [\"euclidean\", \"manhattan\", \"chebyshev\", \"minkowski\"])\n",
        "  \n",
        "  def run(self, trials=300, use_logger=False):\n",
        "    super().run(trials, use_logger)"
      ],
      "execution_count": null,
      "outputs": []
    },
    {
      "cell_type": "code",
      "metadata": {
        "id": "fiMGFcSFOhs9",
        "colab": {
          "base_uri": "https://localhost:8080/"
        },
        "outputId": "b81a1a0c-681b-4bf2-d21d-59a4721d1a4e"
      },
      "source": [
        "knn_reg_tuner = KNeighborsRegressorTuner(X_train, X_test, y_train, y_test, labeling_type, weights)\n",
        "knn_reg_tuner.run(trials)\n",
        "knn_reg_tuner.show_best_results()"
      ],
      "execution_count": null,
      "outputs": [
        {
          "output_type": "stream",
          "text": [
            "\u001b[32m[I 2021-06-07 17:56:11,781]\u001b[0m A new study created in memory with name: no-name-2649ccde-551b-454a-984f-6e0acd8651b9\u001b[0m\n",
            "\u001b[32m[I 2021-06-07 17:56:11,793]\u001b[0m Trial 0 finished with value: -0.3584867329953616 and parameters: {'n_neighbors': 2, 'weights': 'uniform', 'algorithm': 'ball_tree', 'p': 3, 'metric': 'manhattan'}. Best is trial 0 with value: -0.3584867329953616.\u001b[0m\n",
            "\u001b[32m[I 2021-06-07 17:56:11,818]\u001b[0m Trial 1 finished with value: 0.09303460923581386 and parameters: {'n_neighbors': 19, 'weights': 'uniform', 'algorithm': 'brute', 'p': 5, 'metric': 'minkowski'}. Best is trial 1 with value: 0.09303460923581386.\u001b[0m\n",
            "\u001b[32m[I 2021-06-07 17:56:11,829]\u001b[0m Trial 2 finished with value: 0.2690217985700377 and parameters: {'n_neighbors': 14, 'weights': 'distance', 'algorithm': 'brute', 'p': 3, 'metric': 'manhattan'}. Best is trial 2 with value: 0.2690217985700377.\u001b[0m\n",
            "\u001b[32m[I 2021-06-07 17:56:11,850]\u001b[0m Trial 3 finished with value: 0.26222086715763626 and parameters: {'n_neighbors': 26, 'weights': 'distance', 'algorithm': 'ball_tree', 'p': 1, 'metric': 'euclidean'}. Best is trial 2 with value: 0.2690217985700377.\u001b[0m\n",
            "\u001b[32m[I 2021-06-07 17:56:11,864]\u001b[0m Trial 4 finished with value: 0.19346660632920587 and parameters: {'n_neighbors': 31, 'weights': 'uniform', 'algorithm': 'ball_tree', 'p': 1, 'metric': 'minkowski'}. Best is trial 2 with value: 0.2690217985700377.\u001b[0m\n",
            "\u001b[32m[I 2021-06-07 17:56:11,876]\u001b[0m Trial 5 finished with value: 0.15206895789224184 and parameters: {'n_neighbors': 6, 'weights': 'distance', 'algorithm': 'kd_tree', 'p': 2, 'metric': 'minkowski'}. Best is trial 2 with value: 0.2690217985700377.\u001b[0m\n",
            "\u001b[32m[I 2021-06-07 17:56:11,887]\u001b[0m Trial 6 finished with value: 0.28707217238497273 and parameters: {'n_neighbors': 7, 'weights': 'uniform', 'algorithm': 'ball_tree', 'p': 4, 'metric': 'euclidean'}. Best is trial 6 with value: 0.28707217238497273.\u001b[0m\n",
            "\u001b[32m[I 2021-06-07 17:56:11,901]\u001b[0m Trial 7 finished with value: 0.2880318620459612 and parameters: {'n_neighbors': 11, 'weights': 'uniform', 'algorithm': 'ball_tree', 'p': 4, 'metric': 'manhattan'}. Best is trial 7 with value: 0.2880318620459612.\u001b[0m\n",
            "\u001b[32m[I 2021-06-07 17:56:11,912]\u001b[0m Trial 8 finished with value: 0.23234183300072653 and parameters: {'n_neighbors': 34, 'weights': 'distance', 'algorithm': 'brute', 'p': 1, 'metric': 'minkowski'}. Best is trial 7 with value: 0.2880318620459612.\u001b[0m\n",
            "\u001b[32m[I 2021-06-07 17:56:11,924]\u001b[0m Trial 9 finished with value: 0.2606407441987244 and parameters: {'n_neighbors': 17, 'weights': 'uniform', 'algorithm': 'ball_tree', 'p': 5, 'metric': 'manhattan'}. Best is trial 7 with value: 0.2880318620459612.\u001b[0m\n"
          ],
          "name": "stderr"
        },
        {
          "output_type": "stream",
          "text": [
            "hyperparameter optimization results:\n",
            "\tnumber of trials: 10\n",
            "\tnumber of pruned trials: 0\n",
            "\tbest value (mujority-model-dif_sum): 0.2880318620459612\n",
            "\toptimized parameters:\n",
            "\t\tn_neighbors: 11\n",
            "\t\tweights: uniform\n",
            "\t\talgorithm: ball_tree\n",
            "\t\tp: 4\n",
            "\t\tmetric: manhattan\n",
            "\tfinal parameters:\n",
            "\t\tn_neighbors: 11\n",
            "\t\tweights: uniform\n",
            "\t\talgorithm: ball_tree\n",
            "\t\tp: 4\n",
            "\t\tmetric: manhattan\n"
          ],
          "name": "stdout"
        },
        {
          "output_type": "execute_result",
          "data": {
            "text/html": [
              "<div>\n",
              "<style scoped>\n",
              "    .dataframe tbody tr th:only-of-type {\n",
              "        vertical-align: middle;\n",
              "    }\n",
              "\n",
              "    .dataframe tbody tr th {\n",
              "        vertical-align: top;\n",
              "    }\n",
              "\n",
              "    .dataframe thead th {\n",
              "        text-align: right;\n",
              "    }\n",
              "</style>\n",
              "<table border=\"1\" class=\"dataframe\">\n",
              "  <thead>\n",
              "    <tr style=\"text-align: right;\">\n",
              "      <th></th>\n",
              "      <th>model</th>\n",
              "      <th>mean absolute error</th>\n",
              "      <th>mean squared error</th>\n",
              "    </tr>\n",
              "  </thead>\n",
              "  <tbody>\n",
              "    <tr>\n",
              "      <th>0</th>\n",
              "      <td>majority rule</td>\n",
              "      <td>1.055413</td>\n",
              "      <td>1.719623</td>\n",
              "    </tr>\n",
              "    <tr>\n",
              "      <th>1</th>\n",
              "      <td>knn_reg</td>\n",
              "      <td>1.010124</td>\n",
              "      <td>1.476880</td>\n",
              "    </tr>\n",
              "  </tbody>\n",
              "</table>\n",
              "</div>"
            ],
            "text/plain": [
              "           model  mean absolute error  mean squared error\n",
              "0  majority rule             1.055413            1.719623\n",
              "1        knn_reg             1.010124            1.476880"
            ]
          },
          "metadata": {
            "tags": []
          },
          "execution_count": 128
        },
        {
          "output_type": "display_data",
          "data": {
            "image/png": "[encoded data removed]",
            "text/plain": [
              "<Figure size 504x504 with 1 Axes>"
            ]
          },
          "metadata": {
            "tags": [],
            "needs_background": "light"
          }
        }
      ]
    },
    {
      "cell_type": "markdown",
      "metadata": {
        "id": "w59UuCE0VVN9"
      },
      "source": [
        "#### SVR"
      ]
    },
    {
      "cell_type": "code",
      "metadata": {
        "id": "zmlI8n9lVXe6"
      },
      "source": [
        "from sklearn.svm import SVR\n",
        "from sklearn.pipeline import make_pipeline\n",
        "from sklearn.preprocessing import MinMaxScaler\n",
        "\n",
        "class SVRTuner(RegressionTuner):\n",
        "  def __init__(self, X_train, X_test, y_train, y_test, labeling_type,\n",
        "               weights={\"accuracy\":1, \"balanced accuracy\":1, \"precision\":1,\n",
        "                        \"recall\":1, \"f1 score\":1}):\n",
        "    super().__init__(\"svr\", X_train, X_test, y_train, y_test, labeling_type, weights)\n",
        "\n",
        "  def build_model(self):\n",
        "    model = make_pipeline(MinMaxScaler(),\n",
        "                          SVR(\n",
        "                              kernel=self.params[\"kernel\"],\n",
        "                              degree=self.params[\"degree\"],\n",
        "                              gamma=self.params[\"gamma\"],\n",
        "                              coef0=self.params[\"coef0\"],\n",
        "                              C=self.params[\"C\"],\n",
        "                              epsilon=self.params[\"epsilon\"],\n",
        "                              max_iter= 200000))\n",
        "    return model\n",
        "\n",
        "  def update_params(self, trial: Trial):\n",
        "    self.params[\"kernel\"] = trial.suggest_categorical(\"kernel\", ['linear', 'poly', 'rbf', 'sigmoid'])\n",
        "    self.params[\"degree\"] = trial.suggest_int(\"degree\", 2, 10)\n",
        "    self.params[\"gamma\"] = trial.suggest_float(\"gamma\", 0, 1)\n",
        "    self.params[\"coef0\"] = trial.suggest_float(\"coef0\", 0, 1)\n",
        "    self.params[\"C\"] = trial.suggest_float(\"C\", 0, 1)\n",
        "    self.params[\"epsilon\"] = trial.suggest_float(\"epsilon\", 0.01, 0.1)\n",
        "  \n",
        "  def run(self, trials=500, use_logger=False):\n",
        "    super().run(trials, use_logger)"
      ],
      "execution_count": null,
      "outputs": []
    },
    {
      "cell_type": "code",
      "metadata": {
        "id": "oIdA1JqqV1mt",
        "colab": {
          "base_uri": "https://localhost:8080/"
        },
        "outputId": "a04896d4-22ba-4866-c36f-ae1aa7692e40"
      },
      "source": [
        "svr_tuner = SVRTuner(X_train, X_test, y_train, y_test, labeling_type, weights)\n",
        "svr_tuner.run(trials)\n",
        "svr_tuner.show_best_results()"
      ],
      "execution_count": null,
      "outputs": [
        {
          "output_type": "stream",
          "text": [
            "\u001b[32m[I 2021-06-07 17:56:12,288]\u001b[0m A new study created in memory with name: no-name-9e1c0e21-0e1f-49d8-ab82-ac67e26e42a1\u001b[0m\n",
            "\u001b[32m[I 2021-06-07 17:56:12,313]\u001b[0m Trial 0 finished with value: -6.778414457260504e+26 and parameters: {'kernel': 'poly', 'degree': 7, 'gamma': 0.6978422391850534, 'coef0': 0.15849331926662558, 'C': 0.1850763575791875, 'epsilon': 0.05310950747878008}. Best is trial 0 with value: -6.778414457260504e+26.\u001b[0m\n",
            "\u001b[32m[I 2021-06-07 17:56:12,335]\u001b[0m Trial 1 finished with value: -1.0479571237166043e+33 and parameters: {'kernel': 'poly', 'degree': 9, 'gamma': 0.6614758740771121, 'coef0': 0.7681461599488758, 'C': 0.0014039633231720527, 'epsilon': 0.0791232548275029}. Best is trial 0 with value: -6.778414457260504e+26.\u001b[0m\n",
            "\u001b[32m[I 2021-06-07 17:56:12,353]\u001b[0m Trial 2 finished with value: -6.889562867898276e+27 and parameters: {'kernel': 'poly', 'degree': 8, 'gamma': 0.31465650129473344, 'coef0': 0.7056241827695653, 'C': 0.05834640928627233, 'epsilon': 0.04234719813872894}. Best is trial 0 with value: -6.778414457260504e+26.\u001b[0m\n",
            "\u001b[32m[I 2021-06-07 17:56:12,369]\u001b[0m Trial 3 finished with value: -1.410530926366492 and parameters: {'kernel': 'linear', 'degree': 2, 'gamma': 0.6881708478743916, 'coef0': 0.7947526903938019, 'C': 0.05837110441694171, 'epsilon': 0.031781354045418674}. Best is trial 3 with value: -1.410530926366492.\u001b[0m\n",
            "\u001b[32m[I 2021-06-07 17:56:12,387]\u001b[0m Trial 4 finished with value: -271.1970931894532 and parameters: {'kernel': 'linear', 'degree': 6, 'gamma': 0.5162711032448289, 'coef0': 0.7620954598401665, 'C': 0.6261505190766492, 'epsilon': 0.07073952788471873}. Best is trial 3 with value: -1.410530926366492.\u001b[0m\n",
            "\u001b[32m[I 2021-06-07 17:56:12,406]\u001b[0m Trial 5 finished with value: -0.0748368275475686 and parameters: {'kernel': 'sigmoid', 'degree': 3, 'gamma': 0.17376378853916974, 'coef0': 0.09063162534536906, 'C': 0.7190754930206626, 'epsilon': 0.09597696003815576}. Best is trial 5 with value: -0.0748368275475686.\u001b[0m\n",
            "\u001b[32m[I 2021-06-07 17:56:12,422]\u001b[0m Trial 6 finished with value: -1.2786954039625578 and parameters: {'kernel': 'sigmoid', 'degree': 10, 'gamma': 0.5471524858447913, 'coef0': 0.056996545620087935, 'C': 0.910831767701849, 'epsilon': 0.01563589313915368}. Best is trial 5 with value: -0.0748368275475686.\u001b[0m\n",
            "\u001b[32m[I 2021-06-07 17:56:12,438]\u001b[0m Trial 7 finished with value: 0.21325271456904116 and parameters: {'kernel': 'rbf', 'degree': 10, 'gamma': 0.975360542519833, 'coef0': 0.9113601593374319, 'C': 0.7074485670083331, 'epsilon': 0.04375480296592405}. Best is trial 7 with value: 0.21325271456904116.\u001b[0m\n",
            "\u001b[32m[I 2021-06-07 17:56:12,463]\u001b[0m Trial 8 finished with value: -0.16457660116430883 and parameters: {'kernel': 'sigmoid', 'degree': 6, 'gamma': 0.5808448942063473, 'coef0': 0.38179631858803653, 'C': 0.3103238752890758, 'epsilon': 0.014532228894576466}. Best is trial 7 with value: 0.21325271456904116.\u001b[0m\n",
            "\u001b[32m[I 2021-06-07 17:56:12,481]\u001b[0m Trial 9 finished with value: -0.29896069870472464 and parameters: {'kernel': 'sigmoid', 'degree': 8, 'gamma': 0.9738914020591056, 'coef0': 0.07158490467449685, 'C': 0.3683553840983992, 'epsilon': 0.02106820153474787}. Best is trial 7 with value: 0.21325271456904116.\u001b[0m\n"
          ],
          "name": "stderr"
        },
        {
          "output_type": "stream",
          "text": [
            "hyperparameter optimization results:\n",
            "\tnumber of trials: 10\n",
            "\tnumber of pruned trials: 0\n",
            "\tbest value (mujority-model-dif_sum): 0.21325271456904116\n",
            "\toptimized parameters:\n",
            "\t\tkernel: rbf\n",
            "\t\tdegree: 10\n",
            "\t\tgamma: 0.975360542519833\n",
            "\t\tcoef0: 0.9113601593374319\n",
            "\t\tC: 0.7074485670083331\n",
            "\t\tepsilon: 0.04375480296592405\n",
            "\tfinal parameters:\n",
            "\t\tkernel: rbf\n",
            "\t\tdegree: 10\n",
            "\t\tgamma: 0.975360542519833\n",
            "\t\tcoef0: 0.9113601593374319\n",
            "\t\tC: 0.7074485670083331\n",
            "\t\tepsilon: 0.04375480296592405\n"
          ],
          "name": "stdout"
        },
        {
          "output_type": "execute_result",
          "data": {
            "text/html": [
              "<div>\n",
              "<style scoped>\n",
              "    .dataframe tbody tr th:only-of-type {\n",
              "        vertical-align: middle;\n",
              "    }\n",
              "\n",
              "    .dataframe tbody tr th {\n",
              "        vertical-align: top;\n",
              "    }\n",
              "\n",
              "    .dataframe thead th {\n",
              "        text-align: right;\n",
              "    }\n",
              "</style>\n",
              "<table border=\"1\" class=\"dataframe\">\n",
              "  <thead>\n",
              "    <tr style=\"text-align: right;\">\n",
              "      <th></th>\n",
              "      <th>model</th>\n",
              "      <th>mean absolute error</th>\n",
              "      <th>mean squared error</th>\n",
              "    </tr>\n",
              "  </thead>\n",
              "  <tbody>\n",
              "    <tr>\n",
              "      <th>0</th>\n",
              "      <td>majority rule</td>\n",
              "      <td>1.055413</td>\n",
              "      <td>1.719623</td>\n",
              "    </tr>\n",
              "    <tr>\n",
              "      <th>1</th>\n",
              "      <td>svr</td>\n",
              "      <td>0.944230</td>\n",
              "      <td>1.617553</td>\n",
              "    </tr>\n",
              "  </tbody>\n",
              "</table>\n",
              "</div>"
            ],
            "text/plain": [
              "           model  mean absolute error  mean squared error\n",
              "0  majority rule             1.055413            1.719623\n",
              "1            svr             0.944230            1.617553"
            ]
          },
          "metadata": {
            "tags": []
          },
          "execution_count": 130
        },
        {
          "output_type": "display_data",
          "data": {
            "image/png": "[encoded data removed]",
            "text/plain": [
              "<Figure size 504x504 with 1 Axes>"
            ]
          },
          "metadata": {
            "tags": [],
            "needs_background": "light"
          }
        }
      ]
    },
    {
      "cell_type": "markdown",
      "metadata": {
        "id": "9EfR-MMSuebj"
      },
      "source": [
        "#### Random Forest Regression"
      ]
    },
    {
      "cell_type": "code",
      "metadata": {
        "id": "Nmn4fb1NujMb"
      },
      "source": [
        "from sklearn.ensemble import RandomForestRegressor\n",
        "\n",
        "class RandomForestRegressorTuner(RegressionTuner):\n",
        "  def __init__(self, X_train, X_test, y_train, y_test, labeling_type,\n",
        "               weights={\"accuracy\":1, \"balanced accuracy\":1, \"precision\":1,\n",
        "                        \"recall\":1, \"f1 score\":1}):\n",
        "    super().__init__(\"random_forest_reg\", X_train, X_test, y_train, y_test, labeling_type, weights)\n",
        "\n",
        "  def build_model(self):\n",
        "    model = RandomForestRegressor(\n",
        "                                  n_estimators=150,\n",
        "                                  criterion=self.params[\"criterion\"],\n",
        "                                  max_depth=self.params[\"max_depth\"],\n",
        "                                  min_samples_split=self.params[\"min_samples_split\"],\n",
        "                                  max_features=self.params[\"max_features\"],\n",
        "                                  bootstrap=self.params[\"bootstrap\"],\n",
        "                                  random_state=42,\n",
        "                                  ccp_alpha=self.params[\"ccp_alpha\"]\n",
        "                                  )\n",
        "    return model\n",
        "\n",
        "  def update_params(self, trial: Trial):\n",
        "    self.params[\"criterion\"] = trial.suggest_categorical(\"criterion\", [\"mse\", \"mae\"])\n",
        "    self.params[\"max_depth\"] = trial.suggest_int(\"max_depth\", 2,50)\n",
        "    self.params[\"min_samples_split\"] = trial.suggest_int(\"min_samples_split\", 2,5)\n",
        "    self.params[\"max_features\"] = trial.suggest_categorical(\"max_features\", [\"sqrt\", \"log2\", None])\n",
        "    self.params[\"bootstrap\"] = trial.suggest_categorical(\"bootstrap\", [True, False])\n",
        "    self.params[\"ccp_alpha\"] = trial.suggest_float(\"ccp_alpha\", 0, 0.1)\n",
        "  \n",
        "  def run(self, trials=500, use_logger=False):\n",
        "    super().run(trials, use_logger)"
      ],
      "execution_count": null,
      "outputs": []
    },
    {
      "cell_type": "code",
      "metadata": {
        "id": "Gi3_xtl7ujmO",
        "colab": {
          "base_uri": "https://localhost:8080/"
        },
        "outputId": "dddb2508-0cce-4466-f60c-1a551e1f91b5"
      },
      "source": [
        "rfr_tuner = RandomForestRegressorTuner(X_train, X_test, y_train, y_test, labeling_type, weights)\n",
        "rfr_tuner.run(trials)\n",
        "rfr_tuner.show_best_results()"
      ],
      "execution_count": null,
      "outputs": [
        {
          "output_type": "stream",
          "text": [
            "\u001b[32m[I 2021-06-07 17:56:12,828]\u001b[0m A new study created in memory with name: no-name-5d1803f5-8f76-4589-9811-339bcca311f3\u001b[0m\n",
            "\u001b[32m[I 2021-06-07 17:56:13,063]\u001b[0m Trial 0 finished with value: 0.18715181006525716 and parameters: {'criterion': 'mse', 'max_depth': 17, 'min_samples_split': 2, 'max_features': 'log2', 'bootstrap': False, 'ccp_alpha': 0.07426319673933413}. Best is trial 0 with value: 0.18715181006525716.\u001b[0m\n",
            "\u001b[32m[I 2021-06-07 17:56:16,329]\u001b[0m Trial 1 finished with value: -0.133600369358998 and parameters: {'criterion': 'mae', 'max_depth': 20, 'min_samples_split': 3, 'max_features': None, 'bootstrap': False, 'ccp_alpha': 0.089288996382688}. Best is trial 0 with value: 0.18715181006525716.\u001b[0m\n",
            "\u001b[32m[I 2021-06-07 17:56:16,570]\u001b[0m Trial 2 finished with value: 0.2646274776408597 and parameters: {'criterion': 'mse', 'max_depth': 14, 'min_samples_split': 3, 'max_features': 'sqrt', 'bootstrap': True, 'ccp_alpha': 0.06365835324793036}. Best is trial 2 with value: 0.2646274776408597.\u001b[0m\n",
            "\u001b[32m[I 2021-06-07 17:56:16,766]\u001b[0m Trial 3 finished with value: 0.1512017969251216 and parameters: {'criterion': 'mse', 'max_depth': 9, 'min_samples_split': 3, 'max_features': 'sqrt', 'bootstrap': False, 'ccp_alpha': 0.018152629717929736}. Best is trial 2 with value: 0.2646274776408597.\u001b[0m\n",
            "\u001b[32m[I 2021-06-07 17:56:17,033]\u001b[0m Trial 4 finished with value: 0.2990860409852011 and parameters: {'criterion': 'mse', 'max_depth': 16, 'min_samples_split': 3, 'max_features': 'log2', 'bootstrap': True, 'ccp_alpha': 0.0596920819227759}. Best is trial 4 with value: 0.2990860409852011.\u001b[0m\n",
            "\u001b[32m[I 2021-06-07 17:56:17,415]\u001b[0m Trial 5 finished with value: -0.1052928013658685 and parameters: {'criterion': 'mse', 'max_depth': 9, 'min_samples_split': 5, 'max_features': None, 'bootstrap': False, 'ccp_alpha': 0.08362744540656272}. Best is trial 4 with value: 0.2990860409852011.\u001b[0m\n",
            "\u001b[32m[I 2021-06-07 17:56:17,616]\u001b[0m Trial 6 finished with value: 0.17493744725569726 and parameters: {'criterion': 'mse', 'max_depth': 8, 'min_samples_split': 4, 'max_features': 'sqrt', 'bootstrap': False, 'ccp_alpha': 0.038101200879033605}. Best is trial 4 with value: 0.2990860409852011.\u001b[0m\n",
            "\u001b[32m[I 2021-06-07 17:56:19,118]\u001b[0m Trial 7 finished with value: 0.011475966499588153 and parameters: {'criterion': 'mae', 'max_depth': 9, 'min_samples_split': 5, 'max_features': None, 'bootstrap': True, 'ccp_alpha': 0.0920393617256782}. Best is trial 4 with value: 0.2990860409852011.\u001b[0m\n",
            "\u001b[32m[I 2021-06-07 17:56:19,462]\u001b[0m Trial 8 finished with value: 0.20574051472222665 and parameters: {'criterion': 'mse', 'max_depth': 45, 'min_samples_split': 3, 'max_features': None, 'bootstrap': True, 'ccp_alpha': 0.09087204149209353}. Best is trial 4 with value: 0.2990860409852011.\u001b[0m\n",
            "\u001b[32m[I 2021-06-07 17:56:21,355]\u001b[0m Trial 9 finished with value: 0.1572054361965578 and parameters: {'criterion': 'mae', 'max_depth': 32, 'min_samples_split': 5, 'max_features': None, 'bootstrap': True, 'ccp_alpha': 0.028077357592037857}. Best is trial 4 with value: 0.2990860409852011.\u001b[0m\n"
          ],
          "name": "stderr"
        },
        {
          "output_type": "stream",
          "text": [
            "hyperparameter optimization results:\n",
            "\tnumber of trials: 10\n",
            "\tnumber of pruned trials: 0\n",
            "\tbest value (mujority-model-dif_sum): 0.2990860409852011\n",
            "\toptimized parameters:\n",
            "\t\tcriterion: mse\n",
            "\t\tmax_depth: 16\n",
            "\t\tmin_samples_split: 3\n",
            "\t\tmax_features: log2\n",
            "\t\tbootstrap: True\n",
            "\t\tccp_alpha: 0.0596920819227759\n",
            "\tfinal parameters:\n",
            "\t\tcriterion: mse\n",
            "\t\tmax_depth: 16\n",
            "\t\tmin_samples_split: 3\n",
            "\t\tmax_features: log2\n",
            "\t\tbootstrap: True\n",
            "\t\tccp_alpha: 0.0596920819227759\n"
          ],
          "name": "stdout"
        },
        {
          "output_type": "execute_result",
          "data": {
            "text/html": [
              "<div>\n",
              "<style scoped>\n",
              "    .dataframe tbody tr th:only-of-type {\n",
              "        vertical-align: middle;\n",
              "    }\n",
              "\n",
              "    .dataframe tbody tr th {\n",
              "        vertical-align: top;\n",
              "    }\n",
              "\n",
              "    .dataframe thead th {\n",
              "        text-align: right;\n",
              "    }\n",
              "</style>\n",
              "<table border=\"1\" class=\"dataframe\">\n",
              "  <thead>\n",
              "    <tr style=\"text-align: right;\">\n",
              "      <th></th>\n",
              "      <th>model</th>\n",
              "      <th>mean absolute error</th>\n",
              "      <th>mean squared error</th>\n",
              "    </tr>\n",
              "  </thead>\n",
              "  <tbody>\n",
              "    <tr>\n",
              "      <th>0</th>\n",
              "      <td>majority rule</td>\n",
              "      <td>1.055413</td>\n",
              "      <td>1.719623</td>\n",
              "    </tr>\n",
              "    <tr>\n",
              "      <th>1</th>\n",
              "      <td>random_forest_reg</td>\n",
              "      <td>0.979764</td>\n",
              "      <td>1.496186</td>\n",
              "    </tr>\n",
              "  </tbody>\n",
              "</table>\n",
              "</div>"
            ],
            "text/plain": [
              "               model  mean absolute error  mean squared error\n",
              "0      majority rule             1.055413            1.719623\n",
              "1  random_forest_reg             0.979764            1.496186"
            ]
          },
          "metadata": {
            "tags": []
          },
          "execution_count": 132
        },
        {
          "output_type": "display_data",
          "data": {
            "image/png": "[encoded data removed]",
            "text/plain": [
              "<Figure size 504x504 with 1 Axes>"
            ]
          },
          "metadata": {
            "tags": [],
            "needs_background": "light"
          }
        }
      ]
    },
    {
      "cell_type": "markdown",
      "metadata": {
        "id": "cCO8rKXT7cOd"
      },
      "source": [
        "#### Bagging Regeressor"
      ]
    },
    {
      "cell_type": "code",
      "metadata": {
        "id": "32qACGGB7h2w"
      },
      "source": [
        "from sklearn.ensemble import BaggingRegressor\n",
        "\n",
        "class BaggingRegressorTuner(RegressionTuner):\n",
        "  def __init__(self, X_train, X_test, y_train, y_test, labeling_type,\n",
        "               weights={\"accuracy\":1, \"balanced accuracy\":1, \"precision\":1,\n",
        "                        \"recall\":1, \"f1 score\":1}):\n",
        "    super().__init__(\"bagging_reg\", X_train, X_test, y_train, y_test, labeling_type, weights)\n",
        "\n",
        "  def build_model(self):\n",
        "    model = BaggingRegressor(\n",
        "                              n_estimators=self.params[\"n_estimators\"],\n",
        "                              max_samples=self.params[\"max_samples\"],\n",
        "                              max_features=self.params[\"max_features\"],\n",
        "                              bootstrap=self.params[\"bootstrap\"],\n",
        "                              bootstrap_features=self.params[\"bootstrap_features\"],\n",
        "                              random_state=42)\n",
        "    return model\n",
        "\n",
        "  def update_params(self, trial: Trial):\n",
        "    self.params[\"n_estimators\"] = trial.suggest_int(\"n_estimators\", 50,150)\n",
        "    self.params[\"max_samples\"] = trial.suggest_float(\"max_samples\", 0.1 ,1)\n",
        "    self.params[\"max_features\"] = trial.suggest_int(\"max_features\", 1, len(self.X_train.columns))\n",
        "    self.params[\"bootstrap\"] = trial.suggest_categorical(\"bootstrap\", [True, False])\n",
        "    self.params[\"bootstrap_features\"] = trial.suggest_categorical(\"bootstrap_features\", [True, False])\n",
        "  \n",
        "  def run(self, trials=500, use_logger=False):\n",
        "    super().run(trials, use_logger)"
      ],
      "execution_count": null,
      "outputs": []
    },
    {
      "cell_type": "code",
      "metadata": {
        "id": "qwy13p0u7iM1",
        "colab": {
          "base_uri": "https://localhost:8080/"
        },
        "outputId": "f6b12832-c6bb-44df-c851-af13db0acff8"
      },
      "source": [
        "bagreg_tuner = BaggingRegressorTuner(X_train, X_test, y_train, y_test, labeling_type, weights)\n",
        "bagreg_tuner.run(trials)\n",
        "bagreg_tuner.show_best_results()"
      ],
      "execution_count": null,
      "outputs": [
        {
          "output_type": "stream",
          "text": [
            "\u001b[32m[I 2021-06-07 17:56:21,724]\u001b[0m A new study created in memory with name: no-name-75065e7a-7db7-4200-9809-c13af725dd88\u001b[0m\n",
            "\u001b[32m[I 2021-06-07 17:56:21,852]\u001b[0m Trial 0 finished with value: -0.01718319146948799 and parameters: {'n_estimators': 50, 'max_samples': 0.9986999529350202, 'max_features': 12, 'bootstrap': False, 'bootstrap_features': True}. Best is trial 0 with value: -0.01718319146948799.\u001b[0m\n",
            "\u001b[32m[I 2021-06-07 17:56:21,986]\u001b[0m Trial 1 finished with value: 0.17551290548670195 and parameters: {'n_estimators': 55, 'max_samples': 0.9327090226063475, 'max_features': 17, 'bootstrap': False, 'bootstrap_features': False}. Best is trial 1 with value: 0.17551290548670195.\u001b[0m\n",
            "\u001b[32m[I 2021-06-07 17:56:22,250]\u001b[0m Trial 2 finished with value: 0.22871692803806698 and parameters: {'n_estimators': 128, 'max_samples': 0.5596018316852596, 'max_features': 32, 'bootstrap': True, 'bootstrap_features': True}. Best is trial 2 with value: 0.22871692803806698.\u001b[0m\n",
            "\u001b[32m[I 2021-06-07 17:56:22,442]\u001b[0m Trial 3 finished with value: 0.003860318548818409 and parameters: {'n_estimators': 125, 'max_samples': 0.48332174642758585, 'max_features': 1, 'bootstrap': True, 'bootstrap_features': True}. Best is trial 2 with value: 0.22871692803806698.\u001b[0m\n",
            "\u001b[32m[I 2021-06-07 17:56:22,613]\u001b[0m Trial 4 finished with value: 0.17331920547262336 and parameters: {'n_estimators': 102, 'max_samples': 0.29192283518856277, 'max_features': 8, 'bootstrap': False, 'bootstrap_features': True}. Best is trial 2 with value: 0.22871692803806698.\u001b[0m\n",
            "\u001b[32m[I 2021-06-07 17:56:22,787]\u001b[0m Trial 5 finished with value: 0.19236233853215334 and parameters: {'n_estimators': 91, 'max_samples': 0.801685771396151, 'max_features': 17, 'bootstrap': True, 'bootstrap_features': True}. Best is trial 2 with value: 0.22871692803806698.\u001b[0m\n",
            "\u001b[32m[I 2021-06-07 17:56:23,010]\u001b[0m Trial 6 finished with value: 0.23461870676952445 and parameters: {'n_estimators': 136, 'max_samples': 0.13564952180913764, 'max_features': 10, 'bootstrap': False, 'bootstrap_features': True}. Best is trial 6 with value: 0.23461870676952445.\u001b[0m\n",
            "\u001b[32m[I 2021-06-07 17:56:23,189]\u001b[0m Trial 7 finished with value: 0.14098483971757791 and parameters: {'n_estimators': 101, 'max_samples': 0.10054537774680261, 'max_features': 19, 'bootstrap': False, 'bootstrap_features': True}. Best is trial 6 with value: 0.23461870676952445.\u001b[0m\n",
            "\u001b[32m[I 2021-06-07 17:56:23,316]\u001b[0m Trial 8 finished with value: 0.21861237114954468 and parameters: {'n_estimators': 67, 'max_samples': 0.29216612843638895, 'max_features': 31, 'bootstrap': False, 'bootstrap_features': True}. Best is trial 6 with value: 0.23461870676952445.\u001b[0m\n",
            "\u001b[32m[I 2021-06-07 17:56:23,453]\u001b[0m Trial 9 finished with value: 0.0825277466075458 and parameters: {'n_estimators': 67, 'max_samples': 0.9159521376555482, 'max_features': 10, 'bootstrap': False, 'bootstrap_features': True}. Best is trial 6 with value: 0.23461870676952445.\u001b[0m\n"
          ],
          "name": "stderr"
        },
        {
          "output_type": "stream",
          "text": [
            "hyperparameter optimization results:\n",
            "\tnumber of trials: 10\n",
            "\tnumber of pruned trials: 0\n",
            "\tbest value (mujority-model-dif_sum): 0.23461870676952445\n",
            "\toptimized parameters:\n",
            "\t\tn_estimators: 136\n",
            "\t\tmax_samples: 0.13564952180913764\n",
            "\t\tmax_features: 10\n",
            "\t\tbootstrap: False\n",
            "\t\tbootstrap_features: True\n",
            "\tfinal parameters:\n",
            "\t\tn_estimators: 136\n",
            "\t\tmax_samples: 0.13564952180913764\n",
            "\t\tmax_features: 10\n",
            "\t\tbootstrap: False\n",
            "\t\tbootstrap_features: True\n"
          ],
          "name": "stdout"
        },
        {
          "output_type": "execute_result",
          "data": {
            "text/html": [
              "<div>\n",
              "<style scoped>\n",
              "    .dataframe tbody tr th:only-of-type {\n",
              "        vertical-align: middle;\n",
              "    }\n",
              "\n",
              "    .dataframe tbody tr th {\n",
              "        vertical-align: top;\n",
              "    }\n",
              "\n",
              "    .dataframe thead th {\n",
              "        text-align: right;\n",
              "    }\n",
              "</style>\n",
              "<table border=\"1\" class=\"dataframe\">\n",
              "  <thead>\n",
              "    <tr style=\"text-align: right;\">\n",
              "      <th></th>\n",
              "      <th>model</th>\n",
              "      <th>mean absolute error</th>\n",
              "      <th>mean squared error</th>\n",
              "    </tr>\n",
              "  </thead>\n",
              "  <tbody>\n",
              "    <tr>\n",
              "      <th>0</th>\n",
              "      <td>majority rule</td>\n",
              "      <td>1.055413</td>\n",
              "      <td>1.719623</td>\n",
              "    </tr>\n",
              "    <tr>\n",
              "      <th>1</th>\n",
              "      <td>bagging_reg</td>\n",
              "      <td>1.017623</td>\n",
              "      <td>1.522794</td>\n",
              "    </tr>\n",
              "  </tbody>\n",
              "</table>\n",
              "</div>"
            ],
            "text/plain": [
              "           model  mean absolute error  mean squared error\n",
              "0  majority rule             1.055413            1.719623\n",
              "1    bagging_reg             1.017623            1.522794"
            ]
          },
          "metadata": {
            "tags": []
          },
          "execution_count": 134
        },
        {
          "output_type": "display_data",
          "data": {
            "image/png": "[encoded data removed]",
            "text/plain": [
              "<Figure size 504x504 with 1 Axes>"
            ]
          },
          "metadata": {
            "tags": [],
            "needs_background": "light"
          }
        }
      ]
    },
    {
      "cell_type": "markdown",
      "metadata": {
        "id": "KRqbn37N9331"
      },
      "source": [
        "#### AdaBoost Regressor"
      ]
    },
    {
      "cell_type": "code",
      "metadata": {
        "id": "u-MOSK-g96HA"
      },
      "source": [
        "from sklearn.ensemble import AdaBoostRegressor\n",
        "\n",
        "class AdaBoostRegressionTuner(RegressionTuner):\n",
        "  def __init__(self, X_train, X_test, y_train, y_test, labeling_type,\n",
        "               weights={\"accuracy\":1, \"balanced accuracy\":1, \"precision\":1,\n",
        "                        \"recall\":1, \"f1 score\":1}):\n",
        "    super().__init__(\"AdaBoost_reg\", X_train, X_test, y_train, y_test, labeling_type, weights)\n",
        "\n",
        "  def build_model(self):\n",
        "    model = AdaBoostRegressor(n_estimators=self.params[\"n_estimators\"],\n",
        "                              learning_rate=self.params[\"learning_rate\"], \n",
        "                              loss=self.params[\"loss\"],\n",
        "                              random_state=42)\n",
        "    return model\n",
        "\n",
        "  def update_params(self, trial: Trial):\n",
        "    self.params[\"n_estimators\"] = trial.suggest_int(\"n_estimators\", 10,100)\n",
        "    self.params[\"learning_rate\"] = trial.suggest_float(\"learning_rate\", 0, 2)\n",
        "    self.params[\"loss\"] = trial.suggest_categorical(\"loss\", [\"linear\", \"square\", \"exponential\"])\n",
        "  \n",
        "  def run(self, trials=500, use_logger=False):\n",
        "    super().run(trials, use_logger)"
      ],
      "execution_count": null,
      "outputs": []
    },
    {
      "cell_type": "code",
      "metadata": {
        "id": "Qta6bXeC961j",
        "colab": {
          "base_uri": "https://localhost:8080/"
        },
        "outputId": "dc444fe0-229a-4a0d-f5e9-dd1a3d346207"
      },
      "source": [
        "adareg_tuner = AdaBoostRegressionTuner(X_train, X_test, y_train, y_test, labeling_type, weights)\n",
        "adareg_tuner.run(trials)\n",
        "adareg_tuner.show_best_results()"
      ],
      "execution_count": null,
      "outputs": [
        {
          "output_type": "stream",
          "text": [
            "\u001b[32m[I 2021-06-07 17:56:23,817]\u001b[0m A new study created in memory with name: no-name-0ff09079-8bc0-472a-878e-1ad14b8b0f63\u001b[0m\n",
            "\u001b[32m[I 2021-06-07 17:56:23,855]\u001b[0m Trial 0 finished with value: -0.21198272632534731 and parameters: {'n_estimators': 34, 'learning_rate': 1.64062303177016, 'loss': 'linear'}. Best is trial 0 with value: -0.21198272632534731.\u001b[0m\n",
            "\u001b[32m[I 2021-06-07 17:56:23,967]\u001b[0m Trial 1 finished with value: 0.20075043331712372 and parameters: {'n_estimators': 53, 'learning_rate': 0.3046604164705582, 'loss': 'exponential'}. Best is trial 1 with value: 0.20075043331712372.\u001b[0m\n",
            "\u001b[32m[I 2021-06-07 17:56:24,077]\u001b[0m Trial 2 finished with value: 0.21254380712628107 and parameters: {'n_estimators': 53, 'learning_rate': 0.2855299701824803, 'loss': 'square'}. Best is trial 2 with value: 0.21254380712628107.\u001b[0m\n",
            "\u001b[32m[I 2021-06-07 17:56:24,151]\u001b[0m Trial 3 finished with value: 0.24904845561749966 and parameters: {'n_estimators': 31, 'learning_rate': 0.048980391946769064, 'loss': 'exponential'}. Best is trial 3 with value: 0.24904845561749966.\u001b[0m\n",
            "\u001b[32m[I 2021-06-07 17:56:24,205]\u001b[0m Trial 4 finished with value: -0.4390943679244652 and parameters: {'n_estimators': 23, 'learning_rate': 1.2236455913510265, 'loss': 'square'}. Best is trial 3 with value: 0.24904845561749966.\u001b[0m\n",
            "\u001b[32m[I 2021-06-07 17:56:24,239]\u001b[0m Trial 5 finished with value: -0.214806700945533 and parameters: {'n_estimators': 11, 'learning_rate': 0.9498256698682019, 'loss': 'square'}. Best is trial 3 with value: 0.24904845561749966.\u001b[0m\n",
            "\u001b[32m[I 2021-06-07 17:56:24,278]\u001b[0m Trial 6 finished with value: -0.2076541853807039 and parameters: {'n_estimators': 40, 'learning_rate': 1.136757638020672, 'loss': 'linear'}. Best is trial 3 with value: 0.24904845561749966.\u001b[0m\n",
            "\u001b[32m[I 2021-06-07 17:56:24,329]\u001b[0m Trial 7 finished with value: 0.23566287563312716 and parameters: {'n_estimators': 20, 'learning_rate': 0.40136372305744605, 'loss': 'square'}. Best is trial 3 with value: 0.24904845561749966.\u001b[0m\n",
            "\u001b[32m[I 2021-06-07 17:56:24,465]\u001b[0m Trial 8 finished with value: -0.059896462890259405 and parameters: {'n_estimators': 82, 'learning_rate': 1.0784223135890578, 'loss': 'square'}. Best is trial 3 with value: 0.24904845561749966.\u001b[0m\n",
            "\u001b[32m[I 2021-06-07 17:56:24,638]\u001b[0m Trial 9 finished with value: 0.31897217578025594 and parameters: {'n_estimators': 85, 'learning_rate': 0.11140520467076787, 'loss': 'exponential'}. Best is trial 9 with value: 0.31897217578025594.\u001b[0m\n"
          ],
          "name": "stderr"
        },
        {
          "output_type": "stream",
          "text": [
            "hyperparameter optimization results:\n",
            "\tnumber of trials: 10\n",
            "\tnumber of pruned trials: 0\n",
            "\tbest value (mujority-model-dif_sum): 0.31897217578025594\n",
            "\toptimized parameters:\n",
            "\t\tn_estimators: 85\n",
            "\t\tlearning_rate: 0.11140520467076787\n",
            "\t\tloss: exponential\n",
            "\tfinal parameters:\n",
            "\t\tn_estimators: 85\n",
            "\t\tlearning_rate: 0.11140520467076787\n",
            "\t\tloss: exponential\n"
          ],
          "name": "stdout"
        },
        {
          "output_type": "execute_result",
          "data": {
            "text/html": [
              "<div>\n",
              "<style scoped>\n",
              "    .dataframe tbody tr th:only-of-type {\n",
              "        vertical-align: middle;\n",
              "    }\n",
              "\n",
              "    .dataframe tbody tr th {\n",
              "        vertical-align: top;\n",
              "    }\n",
              "\n",
              "    .dataframe thead th {\n",
              "        text-align: right;\n",
              "    }\n",
              "</style>\n",
              "<table border=\"1\" class=\"dataframe\">\n",
              "  <thead>\n",
              "    <tr style=\"text-align: right;\">\n",
              "      <th></th>\n",
              "      <th>model</th>\n",
              "      <th>mean absolute error</th>\n",
              "      <th>mean squared error</th>\n",
              "    </tr>\n",
              "  </thead>\n",
              "  <tbody>\n",
              "    <tr>\n",
              "      <th>0</th>\n",
              "      <td>majority rule</td>\n",
              "      <td>1.055413</td>\n",
              "      <td>1.719623</td>\n",
              "    </tr>\n",
              "    <tr>\n",
              "      <th>1</th>\n",
              "      <td>AdaBoost_reg</td>\n",
              "      <td>1.006665</td>\n",
              "      <td>1.449399</td>\n",
              "    </tr>\n",
              "  </tbody>\n",
              "</table>\n",
              "</div>"
            ],
            "text/plain": [
              "           model  mean absolute error  mean squared error\n",
              "0  majority rule             1.055413            1.719623\n",
              "1   AdaBoost_reg             1.006665            1.449399"
            ]
          },
          "metadata": {
            "tags": []
          },
          "execution_count": 136
        },
        {
          "output_type": "display_data",
          "data": {
            "image/png": "[encoded data removed]",
            "text/plain": [
              "<Figure size 504x504 with 1 Axes>"
            ]
          },
          "metadata": {
            "tags": [],
            "needs_background": "light"
          }
        }
      ]
    },
    {
      "cell_type": "markdown",
      "metadata": {
        "id": "OJhDSfeu5don"
      },
      "source": [
        "## evaluation"
      ]
    },
    {
      "cell_type": "code",
      "metadata": {
        "id": "Q-LJxEyzSwO2"
      },
      "source": [
        "import os\n",
        "from sklearn.ensemble import VotingClassifier, VotingRegressor\n",
        "\n",
        "def get_best_models(tuners, X_train, X_test, y_train, y_test,\n",
        "                    labeling_type, weights, path_to_save, verbose=False):\n",
        "  optuna.logging.set_verbosity(optuna.logging.FATAL)\n",
        "  if verbose:\n",
        "    optuna.logging.set_verbosity(optuna.logging.INFO)\n",
        "\n",
        "  untrained_best_models = {}\n",
        "  if labeling_type == \"categorical\" or labeling_type == \"positive\":\n",
        "    task = \"classification\"\n",
        "    majority = y_train[labeling_type].mode()[0]\n",
        "    majority_predictions = [majority for _ in range(len(y_test[labeling_type]))]\n",
        "    majority_eval = dict(clf_scores(np.array(y_test[labeling_type]),np.array(majority_predictions)))\n",
        "  else:\n",
        "    task = \"regression\"\n",
        "    majority = y_train[labeling_type].mean()\n",
        "    majority_predictions = [majority for _ in range(len(y_test[labeling_type]))]\n",
        "    majority_eval = dict(reg_scores(np.array(y_test[labeling_type]),np.array(majority_predictions)))\n",
        "\n",
        "  for tuner in tuners:\n",
        "    tuner = tuner(X_train, X_test, y_train, y_test, labeling_type, weights)\n",
        "    print(f\"~~~~~~~~~~~~~~~~~~~~{tuner.name}~~~~~~~~~~~~~~~~~~~~\")\n",
        "    tuner.run(use_logger=False) \n",
        "    if tuner.best_model is not None:\n",
        "      untrained_best_models[tuner.name] = tuner.build_model()\n",
        "      tuner.show_best_results(path_to_save)\n",
        "\n",
        "  print(f\"~~~~~~~~~~~~~~~~~~~~voting~~~~~~~~~~~~~~~~~~~~\")\n",
        "  estimators = list(untrained_best_models.items())\n",
        "  if task == \"classification\":\n",
        "    voting_model = VotingClassifier(estimators, voting='hard', weights=None, \n",
        "                                    n_jobs=-1, flatten_transform=True, \n",
        "                                    verbose=False)\n",
        "    voting_model.fit(X_train, y_train[labeling_type])\n",
        "    voting_preds = voting_model.predict(X_test)\n",
        "    voting_eval = dict(clf_scores(np.array(y_test[labeling_type]),np.array(voting_preds)))\n",
        "    measurements = [\"model\", \"accuracy\",\t\"balanced accuracy\", \"precision\", \"recall\", \"f1 score\"]\n",
        "  elif task == \"regression\":\n",
        "    voting_model = VotingRegressor(estimators, weights=None, n_jobs=-1, verbose=False)\n",
        "    voting_model.fit(X_train, y_train[labeling_type])\n",
        "    voting_preds = voting_model.predict(X_test)\n",
        "    voting_eval = dict(reg_scores(np.array(y_test[labeling_type]),np.array(voting_preds)))\n",
        "    measurements = [\"model\", \"mean absolute error\", \"mean squared error\"]\n",
        "\n",
        "  os.mkdir(f\"{path_to_save}/voting\")\n",
        "  voting_scores = pd.DataFrame(columns=measurements)\n",
        "  majority_eval[\"model\"] = \"majority rule\"\n",
        "  voting_scores = voting_scores.append(majority_eval, ignore_index=True)\n",
        "  voting_eval[\"model\"] = \"voting ensamble\"\n",
        "  voting_scores = voting_scores.append(voting_eval, ignore_index=True)\n",
        "\n",
        "  if task == \"regression\":\n",
        "    fig = plt.figure(figsize=(7, 7))\n",
        "    ax = fig.add_subplot(1, 1, 1)\n",
        "    sns.lineplot(x=list(range(len(y_test[labeling_type]))), y=voting_preds, legend='full', label=\"predictions\", ax=ax)\n",
        "    sns.lineplot(x=list(range(len(y_test[labeling_type]))), y=majority_predictions, legend='full', label=\"baseline\", ax=ax)\n",
        "    sns.lineplot(x=list(range(len(y_test[labeling_type]))), y=y_test[labeling_type], legend='full', label=\"true value\", ax=ax)\n",
        "    plt.close(fig)\n",
        "    fig.savefig(f\"{path_to_save}/voting/results.png\")\n",
        "\n",
        "  with open(f'{path_to_save}/voting/pickled_scores.df', 'wb') as res_file:\n",
        "    pickle.dump(voting_scores, res_file)\n",
        "  voting_scores.to_html(f'{path_to_save}/voting/scores.html')\n",
        "  with open(f'{path_to_save}/voting/model.md', 'wb') as model_file:\n",
        "    pickle.dump(voting_model, model_file)"
      ],
      "execution_count": null,
      "outputs": []
    }
  ]
}