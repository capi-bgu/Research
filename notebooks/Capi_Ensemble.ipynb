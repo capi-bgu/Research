{
  "nbformat": 4,
  "nbformat_minor": 0,
  "metadata": {
    "colab": {
      "name": "Capi-Ensemble.ipynb",
      "provenance": [],
      "collapsed_sections": [
        "526Rx6nnMGc4",
        "Bjat6b_VD1fI",
        "esUG-mabEzk4"
      ]
    },
    "kernelspec": {
      "name": "python3",
      "display_name": "Python 3"
    },
    "language_info": {
      "name": "python"
    }
  },
  "cells": [
    {
      "cell_type": "markdown",
      "metadata": {
        "id": "_ODVZoaTDpZi"
      },
      "source": [
        "# Settings"
      ]
    },
    {
      "cell_type": "code",
      "metadata": {
        "id": "EGM2Ax5kDRqI",
        "colab": {
          "base_uri": "https://localhost:8080/"
        },
        "outputId": "65ddb4aa-18e2-4f61-f730-90e3f89b2926"
      },
      "source": [
        "from google.colab import drive\n",
        "drive.mount('/content/drive')"
      ],
      "execution_count": null,
      "outputs": [
        {
          "output_type": "stream",
          "text": [
            "Mounted at /content/drive\n"
          ],
          "name": "stdout"
        }
      ]
    },
    {
      "cell_type": "code",
      "metadata": {
        "id": "t2UyawQQD-DZ",
        "colab": {
          "base_uri": "https://localhost:8080/"
        },
        "outputId": "c470dc75-0746-4c09-f6e0-48dea0835132"
      },
      "source": [
        "# In order to import pynput you need to run these files to make virtual env\n",
        "\n",
        "!apt-get install -y xvfb # Install X Virtual Frame Buffer\n",
        "import os\n",
        "os.system('Xvfb :1 -screen 0 1600x1200x16  &') # create virtual display with size 1600x1200 and 16 bit color. Color can be changed to 24 or 8\n",
        "os.environ['DISPLAY']=':1.0'"
      ],
      "execution_count": null,
      "outputs": [
        {
          "output_type": "stream",
          "text": [
            "Reading package lists... Done\n",
            "Building dependency tree       \n",
            "Reading state information... Done\n",
            "The following NEW packages will be installed:\n",
            "  xvfb\n",
            "0 upgraded, 1 newly installed, 0 to remove and 39 not upgraded.\n",
            "Need to get 784 kB of archives.\n",
            "After this operation, 2,270 kB of additional disk space will be used.\n",
            "Get:1 http://archive.ubuntu.com/ubuntu bionic-updates/universe amd64 xvfb amd64 2:1.19.6-1ubuntu4.9 [784 kB]\n",
            "Fetched 784 kB in 2s (418 kB/s)\n",
            "Selecting previously unselected package xvfb.\n",
            "(Reading database ... 160772 files and directories currently installed.)\n",
            "Preparing to unpack .../xvfb_2%3a1.19.6-1ubuntu4.9_amd64.deb ...\n",
            "Unpacking xvfb (2:1.19.6-1ubuntu4.9) ...\n",
            "Setting up xvfb (2:1.19.6-1ubuntu4.9) ...\n",
            "Processing triggers for man-db (2.8.3-2ubuntu0.1) ...\n"
          ],
          "name": "stdout"
        }
      ]
    },
    {
      "cell_type": "code",
      "metadata": {
        "id": "5GPiJjUaDsLu",
        "colab": {
          "base_uri": "https://localhost:8080/"
        },
        "outputId": "9e19f165-bdc6-43c1-9561-9696def432a7"
      },
      "source": [
        "!pip install git+https://github.com/capi-bgu/oratio.git -qqq\n",
        "!pip install -Uqq pynput==1.6.8\n",
        "!pip install -Uqq wandb"
      ],
      "execution_count": null,
      "outputs": [
        {
          "output_type": "stream",
          "text": [
            "  Building wheel for oratio (setup.py) ... \u001b[?25l\u001b[?25hdone\n",
            "\u001b[K     |████████████████████████████████| 92kB 3.7MB/s \n",
            "\u001b[K     |████████████████████████████████| 184kB 8.2MB/s \n",
            "\u001b[K     |████████████████████████████████| 1.8MB 4.3MB/s \n",
            "\u001b[K     |████████████████████████████████| 102kB 12.0MB/s \n",
            "\u001b[K     |████████████████████████████████| 133kB 52.6MB/s \n",
            "\u001b[K     |████████████████████████████████| 174kB 47.9MB/s \n",
            "\u001b[K     |████████████████████████████████| 71kB 8.2MB/s \n",
            "\u001b[?25h  Building wheel for subprocess32 (setup.py) ... \u001b[?25l\u001b[?25hdone\n",
            "  Building wheel for pathtools (setup.py) ... \u001b[?25l\u001b[?25hdone\n"
          ],
          "name": "stdout"
        }
      ]
    },
    {
      "cell_type": "code",
      "metadata": {
        "id": "smeB5FN1DvMQ",
        "colab": {
          "base_uri": "https://localhost:8080/"
        },
        "outputId": "ab639351-6486-4575-cd90-30800455fb73"
      },
      "source": [
        "!git clone https://github.com/capi-bgu/Research.git"
      ],
      "execution_count": null,
      "outputs": [
        {
          "output_type": "stream",
          "text": [
            "Cloning into 'Research'...\n",
            "remote: Enumerating objects: 332, done.\u001b[K\n",
            "remote: Counting objects: 100% (332/332), done.\u001b[K\n",
            "remote: Compressing objects: 100% (232/232), done.\u001b[K\n",
            "remote: Total 332 (delta 150), reused 240 (delta 86), pack-reused 0\u001b[K\n",
            "Receiving objects: 100% (332/332), 744.53 KiB | 4.48 MiB/s, done.\n",
            "Resolving deltas: 100% (150/150), done.\n"
          ],
          "name": "stdout"
        }
      ]
    },
    {
      "cell_type": "code",
      "metadata": {
        "id": "Nbtek4OvDw5I"
      },
      "source": [
        "import numpy as np\n",
        "import pickle\n",
        "import cv2\n",
        "\n",
        "from sklearn.preprocessing import LabelEncoder\n",
        "from sklearn.model_selection import train_test_split\n",
        "from sklearn.utils import shuffle\n",
        "\n",
        "import tensorflow as tf\n",
        "from tensorflow import keras\n",
        "\n",
        "from Research.util.data_loading import *\n",
        "from Research.util.evaluate import *\n",
        "from Research.models.emotionnet_nano import *\n",
        "from Research.models.frame_attention import *\n",
        "from oratio.Session import Session"
      ],
      "execution_count": null,
      "outputs": []
    },
    {
      "cell_type": "markdown",
      "metadata": {
        "id": "526Rx6nnMGc4"
      },
      "source": [
        "# Load Classic Models"
      ]
    },
    {
      "cell_type": "code",
      "metadata": {
        "id": "RE-4G-toMFtY"
      },
      "source": [
        "import zipfile\n",
        "import os\n",
        "#takes 1:40 minutes\n",
        "participants = os.listdir('/content/drive/MyDrive/capi/results/')\n",
        "sizes = [\"1\",\"5\",\"10\"]\n",
        "for participant in participants:\n",
        "  os.makedirs(participant)\n",
        "  for size in sizes:\n",
        "    try:\n",
        "      with zipfile.ZipFile(f'/content/drive/MyDrive/capi/results/{participant}/{size}.zip', 'r') as zip_ref:\n",
        "        zip_ref.extractall(f'/content/{participant}')\n",
        "    except:\n",
        "      print(f'I didnt find {participant} with the size {size}')"
      ],
      "execution_count": null,
      "outputs": []
    },
    {
      "cell_type": "markdown",
      "metadata": {
        "id": "Bjat6b_VD1fI"
      },
      "source": [
        "# Face Data"
      ]
    },
    {
      "cell_type": "code",
      "metadata": {
        "id": "n-fHhu6hD0ww"
      },
      "source": [
        "def create_dataset(dataframe, sequence_length=None, resize_to=None, labels=(\"categorical\"), test_split=0.1, val_split=None, random_state=None, category_encoder=None):\n",
        "  if category_encoder is None:\n",
        "    category_encoder = LabelEncoder()\n",
        "    category_encoder.fit(dataframe[\"categorical\"])\n",
        "  dataframe[\"categorical\"] = category_encoder.transform(dataframe[\"categorical\"])\n",
        "  raw_labels = dataframe[labels].values.astype(np.int)\n",
        "  raw_data = dataframe[\"images\"].values\n",
        "\n",
        "  for i, images in enumerate(raw_data):\n",
        "    if resize_to is not None:\n",
        "      images = np.array(images)\n",
        "      resized_images = np.zeros(shape=((len(images), ) + resize_to))\n",
        "      for j, image in enumerate(images):  \n",
        "        resized_images[j] = cv2.resize(image, resize_to)\n",
        "      raw_data[i] = resized_images\n",
        "    else:\n",
        "      raw_data[i] = np.array(images)\n",
        "  \n",
        "  train_data, test_data, train_labels, test_labels = train_test_split(raw_data,\n",
        "                                                                      raw_labels,\n",
        "                                                                      test_size=test_split,\n",
        "                                                                      random_state=random_state)\n",
        "  if val_split is not None:\n",
        "    train_data, val_data, train_labels, val_labels = train_test_split(train_data,\n",
        "                                                                      train_labels,\n",
        "                                                                      test_size=val_split,\n",
        "                                                                      random_state=random_state)\n",
        "\n",
        "  if sequence_length is not None:\n",
        "    unwraped_train_data = generate_sequences(train_data[0], sequence_length)\n",
        "    unwraped_test_data = generate_sequences(test_data[0], sequence_length)\n",
        "    if val_split is not None:\n",
        "      unwraped_val_data = generate_sequences(val_data[0], sequence_length)\n",
        "  else:\n",
        "    unwraped_train_data = train_data[0]\n",
        "    unwraped_test_data = test_data[0]\n",
        "    if val_split is not None:\n",
        "      unwraped_val_data = test_data[0]\n",
        "\n",
        "  unwraped_train_labels = np.repeat(np.expand_dims(train_labels[0], axis=0), len(unwraped_train_data), axis=0)\n",
        "  unwraped_test_labels = np.repeat(np.expand_dims(test_labels[0], axis=0), len(unwraped_test_data), axis=0)\n",
        "  if val_split is not None:\n",
        "    unwraped_val_labels = np.repeat(np.expand_dims(val_labels[0], axis=0), len(unwraped_val_data), axis=0)\n",
        "\n",
        "  \n",
        "  for i in range(1, len(train_data)):\n",
        "    if sequence_length is not None:\n",
        "      train_examples = generate_sequences(train_data[i], sequence_length)\n",
        "      if train_examples is None:\n",
        "        continue\n",
        "    else:\n",
        "      train_examples = train_data[i]\n",
        "    unwraped_train_data = np.concatenate((unwraped_train_data, train_examples))\n",
        "    unwraped_train_labels = np.concatenate(\n",
        "        (\n",
        "          unwraped_train_labels,\n",
        "          np.repeat(np.expand_dims(train_labels[i], axis=0), len(train_examples), axis=0)\n",
        "        )\n",
        "    )\n",
        "\n",
        "  for i in range(1, len(test_data)):\n",
        "    if sequence_length is not None:\n",
        "      test_examples = generate_sequences(test_data[i], sequence_length)\n",
        "      if test_examples is None:\n",
        "        continue\n",
        "    else:\n",
        "      test_examples = test_data[i]\n",
        "    unwraped_test_data = np.concatenate((unwraped_test_data, test_examples))\n",
        "    unwraped_test_labels = np.concatenate(\n",
        "      (\n",
        "        unwraped_test_labels,\n",
        "        np.repeat(np.expand_dims(test_labels[i], axis=0), len(test_examples), axis=0)\n",
        "      )\n",
        "    )\n",
        "  \n",
        "  if val_split is not None:\n",
        "    for i in range(1, len(val_data)):\n",
        "      if sequence_length is not None:\n",
        "        val_examples = generate_sequences(val_data[i], sequence_length)\n",
        "        if val_examples is None:\n",
        "          continue\n",
        "      else:\n",
        "        val_examples = val_data[i]\n",
        "      unwraped_val_data = np.concatenate((unwraped_val_data, val_examples))\n",
        "      unwraped_val_labels = np.concatenate(\n",
        "        (\n",
        "          unwraped_val_labels,\n",
        "          np.repeat(np.expand_dims(val_labels[i], axis=0), len(val_examples), axis=0)\n",
        "        )\n",
        "      )\n",
        "      \n",
        "  res = (unwraped_train_data / 255, unwraped_test_data / 255)\n",
        "  if val_split is not None:\n",
        "    res += (unwraped_val_data / 255, )\n",
        "  \n",
        "  res += (unwraped_train_labels, unwraped_test_labels)\n",
        "  if val_split is not None:\n",
        "    res += (unwraped_val_labels, )\n",
        "\n",
        "  if \"categorical\" in labels:\n",
        "    return res, category_encoder\n",
        "  \n",
        "  return res\n",
        "\n",
        "def generate_sequences(arr, sequence_length):\n",
        "  if len(arr) < sequence_length:\n",
        "    return None\n",
        "  sequences = np.zeros(shape=(len(arr) - (sequence_length - 1), sequence_length) + arr.shape[1:])\n",
        "  for i in range(len(arr) - (sequence_length - 1)):\n",
        "    sequences[i] = arr[i:i+sequence_length]\n",
        "  \n",
        "  return sequences"
      ],
      "execution_count": null,
      "outputs": []
    },
    {
      "cell_type": "markdown",
      "metadata": {
        "id": "esUG-mabEzk4"
      },
      "source": [
        "# Keyboard and Mouse Data"
      ]
    },
    {
      "cell_type": "code",
      "metadata": {
        "id": "yaN4WiNxEKVR"
      },
      "source": [
        "from sklearn.model_selection import train_test_split\n",
        "\n",
        "def load_data(data_path, resources_path, channels, duration):\n",
        "  data = load_features(data_path, channels, duration, resources_path)\n",
        "  labels = [\"categorical\", \"valance\", \"arousal\", \"dominance\", \"positive\"]\n",
        "  y = data[labels]\n",
        "  X = data.drop(columns=[\"session\", \"time\"] + labels)\n",
        "  X[\"dominate_window\"] = X[\"dominate_window\"].astype('category').cat.codes.astype(np.uint32)\n",
        "  X[\"dominate_task\"] = X[\"dominate_task\"].astype('category').cat.codes.astype(np.uint32)\n",
        "  for column in X:\n",
        "      if \"Turn\" in column or \\\n",
        "              \"count\" in column or \\\n",
        "              \"switches\" in column or \\\n",
        "              \"mode_key\" in column or \\\n",
        "              \"Direction\" in column or \\\n",
        "              \"unique_events\" in column or \\\n",
        "              \"error_corrections\" in column:\n",
        "          X[column] = X[column].astype(np.uint32)\n",
        "  X_train, X_test, y_train, y_test = train_test_split(X, y, test_size=0.2, random_state=11)\n",
        "  return X, X_train, X_test, y, y_train, y_test"
      ],
      "execution_count": null,
      "outputs": []
    },
    {
      "cell_type": "markdown",
      "metadata": {
        "id": "T64pGtj5E6eY"
      },
      "source": [
        "#Ensemble"
      ]
    },
    {
      "cell_type": "code",
      "metadata": {
        "colab": {
          "base_uri": "https://localhost:8080/"
        },
        "id": "YImHJ1mNx_O_",
        "outputId": "8849a817-8e3e-42f7-889d-2739614b80dc"
      },
      "source": [
        "!pip show scikit-learn"
      ],
      "execution_count": null,
      "outputs": [
        {
          "output_type": "stream",
          "text": [
            "Name: scikit-learn\n",
            "Version: 0.24.2\n",
            "Summary: A set of python modules for machine learning and data mining\n",
            "Home-page: http://scikit-learn.org\n",
            "Author: None\n",
            "Author-email: None\n",
            "License: new BSD\n",
            "Location: /usr/local/lib/python3.7/dist-packages\n",
            "Requires: numpy, scipy, threadpoolctl, joblib\n",
            "Required-by: yellowbrick, sklearn, sklearn-pandas, mlxtend, lightgbm, librosa, imbalanced-learn\n"
          ],
          "name": "stdout"
        }
      ]
    },
    {
      "cell_type": "code",
      "metadata": {
        "colab": {
          "base_uri": "https://localhost:8080/"
        },
        "id": "fBx0bUCWuJYK",
        "outputId": "82aac02d-ac3a-47c1-b6c2-b3c710faaf90"
      },
      "source": [
        "!pip uninstall scikit-learn -y\n",
        "\n",
        "!pip install -U scikit-learn"
      ],
      "execution_count": null,
      "outputs": [
        {
          "output_type": "stream",
          "text": [
            "Uninstalling scikit-learn-0.22.2.post1:\n",
            "  Successfully uninstalled scikit-learn-0.22.2.post1\n",
            "Collecting scikit-learn\n",
            "\u001b[?25l  Downloading https://files.pythonhosted.org/packages/a8/eb/a48f25c967526b66d5f1fa7a984594f0bf0a5afafa94a8c4dbc317744620/scikit_learn-0.24.2-cp37-cp37m-manylinux2010_x86_64.whl (22.3MB)\n",
            "\u001b[K     |████████████████████████████████| 22.3MB 68.2MB/s \n",
            "\u001b[?25hCollecting threadpoolctl>=2.0.0\n",
            "  Downloading https://files.pythonhosted.org/packages/f7/12/ec3f2e203afa394a149911729357aa48affc59c20e2c1c8297a60f33f133/threadpoolctl-2.1.0-py3-none-any.whl\n",
            "Requirement already satisfied, skipping upgrade: scipy>=0.19.1 in /usr/local/lib/python3.7/dist-packages (from scikit-learn) (1.4.1)\n",
            "Requirement already satisfied, skipping upgrade: numpy>=1.13.3 in /usr/local/lib/python3.7/dist-packages (from scikit-learn) (1.19.5)\n",
            "Requirement already satisfied, skipping upgrade: joblib>=0.11 in /usr/local/lib/python3.7/dist-packages (from scikit-learn) (1.0.1)\n",
            "Installing collected packages: threadpoolctl, scikit-learn\n",
            "Successfully installed scikit-learn-0.24.2 threadpoolctl-2.1.0\n"
          ],
          "name": "stdout"
        }
      ]
    },
    {
      "cell_type": "code",
      "metadata": {
        "id": "ZBNDQQUwxq4C"
      },
      "source": [
        "pd.options.display.latex.repr = True\n",
        "pd.options.display.max_columns = None\n",
        "channels = [\"Both\", \"Keyboard\", \"Mouse\"]\n",
        "categorical_algorithms = [\"AdaBoost\",\"bagging\",\"decision_tree\",\"knn\",\"linear_svm\",\"logistic_regression\",\"random_forest\",\"voting\"]\n",
        "categorical_labels = [\"categorical\", \"positive\"]\n",
        "regression_algorithms = [\"AdaBoost_reg\",\"ElasticNet\",\"Lars\",\"bagging_reg\",\"knn_reg\",\"lasso\",\"random_forest_reg\",\"ridge\",\"svr\",\"voting\"]\n",
        "regression_labels = [\"arousal\", \"dominance\", \"valance\"]\n",
        "participants = os.listdir('/content/drive/MyDrive/capi/results/')\n",
        "all_labels = [\"categorical\", \"positive\",\"arousal\", \"dominance\", \"valance\"]\n",
        "classification_param = \"accuracy\" # balanced_accuracy\n",
        "regression_param = \"mean absolute error\" # mean squared error\n",
        "session_sizes = [\"1\",\"5\",\"10\"]\n",
        "\n",
        "def get_best_n_models(n):\n",
        "  results_dict = {}\n",
        "  for channel in channels:\n",
        "    results_dict[channel] = {}\n",
        "    for size in session_sizes:\n",
        "      for label in categorical_labels:\n",
        "        if label not in results_dict[channel]:\n",
        "          results_dict[channel][label] = {}\n",
        "        best_participants_model = pd.DataFrame(columns = ['participant','model', 'accuracy', 'balanced accuracy'])\n",
        "        for participant in [p for p in participants if os.path.isdir(f'{p}/{size}')]:\n",
        "          best_n_score = [-100 for i in range(n)]\n",
        "          best_n_models = []\n",
        "          for algorithm in categorical_algorithms:\n",
        "            with open(f'{participant}/{size}/{channel}/{label}/{algorithm}/pickled_scores.df', 'rb') as handle:\n",
        "                df = pickle.load(handle)\n",
        "                score = df[classification_param][1] - df[classification_param][0]\n",
        "                for i in range(n):\n",
        "                  if score > best_n_score[i]:\n",
        "                    df.insert(loc=0, column=\"participant\",value=participant)\n",
        "                    best_n_score.insert(i,score)\n",
        "                    best_n_score = best_n_score[:n]\n",
        "                    best_model = df.iloc[1][:4]\n",
        "                    for j in range(2,len(best_model)):\n",
        "                      best_model[j] = f'{df.iloc[1, j]:0.2f} / {df.iloc[0, j]:0.2f}'\n",
        "                    best_n_models.insert(i, best_model)\n",
        "                    best_n_models = best_n_models[:n]\n",
        "                    break\n",
        "          best_participants_model = best_participants_model.append(best_n_models)\n",
        "        results_dict[channel][label][size] = best_participants_model\n",
        "      for label in regression_labels:\n",
        "        if label not in results_dict[channel]:\n",
        "          results_dict[channel][label] = {}\n",
        "        best_participants_model = pd.DataFrame(columns = ['participant','model', 'mean absolute error', 'mean squared error'])\n",
        "        for participant in [p for p in participants if os.path.isdir(f'{p}/{size}')]:\n",
        "          best_n_score = [-100 for i in range(n)]\n",
        "          best_n_models = []\n",
        "          for algorithm in regression_algorithms:\n",
        "            with open(f'{participant}/{size}/{channel}/{label}/{algorithm}/pickled_scores.df', 'rb') as handle:\n",
        "                df = pickle.load(handle)\n",
        "                score = df[regression_param][0] - df[regression_param][1]\n",
        "                for i in range(n):\n",
        "                  if score > best_n_score[i]:\n",
        "                    df.insert(loc=0, column=\"participant\",value=participant)\n",
        "                    best_n_score.insert(i,score)\n",
        "                    best_n_score = best_n_score[:n]\n",
        "                    best_model = df.iloc[1][:4]\n",
        "                    for j in range(2,len(best_model)):\n",
        "                      best_model[j] = f'{df.iloc[1, j]:0.2f} / {df.iloc[0, j]:0.2f}'\n",
        "                    best_n_models.insert(i, best_model)\n",
        "                    best_n_models = best_n_models[:n]\n",
        "                    break\n",
        "          best_participants_model = best_participants_model.append(best_n_models)\n",
        "        results_dict[channel][label][size] = best_participants_model\n",
        "  return results_dict"
      ],
      "execution_count": null,
      "outputs": []
    },
    {
      "cell_type": "code",
      "metadata": {
        "id": "Zigg-vJGowbS"
      },
      "source": [
        "def get_participant_kb_mouse_data(name):\n",
        "  if os.path.isfile(f'/content/drive/MyDrive/capi/data/public/{name}.db'):\n",
        "    data_path = f'/content/drive/MyDrive/capi/data/public/{name}.db'\n",
        "  else:\n",
        "    data_path = f'/content/drive/MyDrive/capi/data/public/{name}-no_images.db'\n",
        "  _, _, test_data, _, _, test_labels = load_data(data_path, \"/content/drive/MyDrive/capi/models\", [\"Mouse\",\"Keyboard\"], 10)\n",
        "  return test_data, test_labels"
      ],
      "execution_count": null,
      "outputs": []
    },
    {
      "cell_type": "code",
      "metadata": {
        "id": "eFqHbu0YA4nC"
      },
      "source": [
        "def get_participant_data(name, input_channels):\n",
        "  if os.path.isfile(f'/content/drive/MyDrive/capi/data/public/{name}.db'):\n",
        "    print(\" I load \", name)\n",
        "    data_path = f'/content/drive/MyDrive/capi/data/public/{name}.db'\n",
        "  else:\n",
        "    print(\" I didn't find\",name, \" has camera so I return None None\")\n",
        "    return None, None # We return None because we only want people with image\n",
        "  _, _, test_data, _, _, test_labels = load_data(data_path, \"/content/drive/MyDrive/capi/models\", input_channels, 10)\n",
        "  return test_data, test_labels"
      ],
      "execution_count": null,
      "outputs": []
    },
    {
      "cell_type": "code",
      "metadata": {
        "id": "hr9gfJC4P7oX"
      },
      "source": [
        "def load_nn_model(name, label_type, duration):\n",
        "  if label_type == \"categorical\":\n",
        "    label_type = \"cat\"\n",
        "  elif label_type == \"positive\":\n",
        "    label_type = \"pos\"\n",
        "  elif label_type == \"regression\":\n",
        "    label_type = \"reg\"\n",
        "\n",
        "  nn_model = emotion_nano_b()\n",
        "  nn_model.load_weights(f\"/content/drive/MyDrive/capi/models/frame_attention/emotionnet-nano_{label_type}-{name}-{duration}/\")\n",
        "  return nn_model\n",
        "\n",
        "\n",
        "def mean_aggregator(probs):\n",
        "  return np.mean(probs, axis=0)\n",
        "\n",
        "def predict_probs_nn(model, data, session_aggregator=mean_aggregator):\n",
        "  all_probs = []\n",
        "  for session_images in data:\n",
        "    session_pred = model(session_images)\n",
        "    all_probs.append(session_aggregator(session_pred))\n",
        "  return np.array(all_probs)"
      ],
      "execution_count": null,
      "outputs": []
    },
    {
      "cell_type": "code",
      "metadata": {
        "id": "LmhxuyI6Ghtb"
      },
      "source": [
        "def ensemble_predictions(nn_pred, clf_pred, test_labels, category_encoder):\n",
        "  if nn_pred.shape[1] != clf_pred.shape[1]:\n",
        "    nn_pred = nn_pred[:,:-1]\n",
        "  predictions = category_encoder.inverse_transform(np.argmax((nn_pred + clf_pred)/2, axis=1))\n",
        "  return clf_scores(test_labels[\"categorical\"], predictions)"
      ],
      "execution_count": null,
      "outputs": []
    },
    {
      "cell_type": "code",
      "metadata": {
        "id": "LQkql-JQqRb6"
      },
      "source": [
        "def nn_predictions(nn_pred, test_labels):\n",
        "  predictions = category_encoder.inverse_transform(np.argmax(nn_pred, axis=1))\n",
        "  return clf_scores(test_labels[\"categorical\"], predictions)"
      ],
      "execution_count": null,
      "outputs": []
    },
    {
      "cell_type": "code",
      "metadata": {
        "id": "50RpB5OYJNeI"
      },
      "source": [
        "def nn_prepare_images(test_data):\n",
        "  test_images = test_data[\"images\"].to_numpy(copy=True)\n",
        "  for i, images in enumerate(test_images):\n",
        "    resized_images = np.zeros(shape=(len(images), 48, 48))\n",
        "    for j, image in enumerate(images):  \n",
        "          resized_images[j] = cv2.resize(image, (48, 48)) / 255\n",
        "    test_images[i] = resized_images\n",
        "  return test_images"
      ],
      "execution_count": null,
      "outputs": []
    },
    {
      "cell_type": "code",
      "metadata": {
        "id": "ZtmXQY-AQBGR"
      },
      "source": [
        "def fix_clf_pred(clf_pred, category_encoder):\n",
        "  all_labels = category_encoder.inverse_transform(range(len(category_encoder.classes_)))\n",
        "  clf_labels = clf_model.classes_\n",
        "  for i,label in enumerate(all_labels):\n",
        "    if label not in clf_labels:\n",
        "      clf_pred = np.insert(clf_pred, i, 0, axis=1)\n",
        "  return clf_pred"
      ],
      "execution_count": null,
      "outputs": []
    },
    {
      "cell_type": "code",
      "metadata": {
        "id": "bpuwZAX6GBPB"
      },
      "source": [
        "def predict_ensemble(prob_list, test_labels, category_encoder, use_average = True):\n",
        "  nn_weight = 0.7\n",
        "  nn_pred = prob_list[0] # the nn predictions is always the first one\n",
        "  clf_pred = prob_list[1] # the others are the clf preds\n",
        "  if nn_pred.shape[1] != clf_pred.shape[1]: # check if we don't have 6 labels\n",
        "    prob_list[0] = prob_list[0][:,:-1]\n",
        "  if use_average:\n",
        "    if len(prob_list) == 7:\n",
        "      all_prob = np.average(np.array(prob_list),axis=0, weights=np.array([0.7,0.07,0.05,0.03,0.07,0.05,0.03]))\n",
        "    else:\n",
        "      all_prob = np.average(np.array(prob_list),axis=0, weights=np.array([0.7,0.14,0.10,0.06]))\n",
        "  else:\n",
        "    all_prob = np.max(np.array(prob_list), axis=0)\n",
        "  predictions = category_encoder.inverse_transform(np.argmax(all_prob, axis=1))\n",
        "  return clf_scores(test_labels[\"categorical\"], predictions)[:2]"
      ],
      "execution_count": null,
      "outputs": []
    },
    {
      "cell_type": "code",
      "metadata": {
        "id": "NkGoKms3vemp"
      },
      "source": [
        "results_dict = get_best_n_models(5)"
      ],
      "execution_count": null,
      "outputs": []
    },
    {
      "cell_type": "code",
      "metadata": {
        "id": "6KbLzeujJuFB",
        "colab": {
          "base_uri": "https://localhost:8080/"
        },
        "outputId": "a5af0d27-7364-4c26-c5d3-9aae266eb185"
      },
      "source": [
        "# takes 2.20 mins\n",
        "participants_data = {}\n",
        "for participant in participants:\n",
        "  if participant == \"shoham\": # this man doesn't have camera model\n",
        "    participants_data[participant] = (None, None)\n",
        "    continue\n",
        "  all_test_data, all_test_labels = get_participant_data(participant,[\"Mouse\",\"Keyboard\",\"Camera\"])\n",
        "  participants_data[participant] = (all_test_data, all_test_labels)"
      ],
      "execution_count": null,
      "outputs": [
        {
          "output_type": "stream",
          "text": [
            " I load  niv\n",
            " I load  shiran\n",
            " I load  tal\n",
            " I load  liraz\n",
            " I didn't find shira  has camera so I return None None\n",
            " I load  ron\n",
            " I load  yuval\n",
            " I didn't find amit  has camera so I return None None\n"
          ],
          "name": "stdout"
        }
      ]
    },
    {
      "cell_type": "markdown",
      "metadata": {
        "id": "rZsXUHkWqxoY"
      },
      "source": [
        "This is only for people that have camera"
      ]
    },
    {
      "cell_type": "code",
      "metadata": {
        "id": "86axgJKr3taE"
      },
      "source": [
        "import warnings\n",
        "import collections\n",
        "warnings.filterwarnings('ignore')  # ignore warning from sklearn\n",
        "tf.compat.v1.logging.set_verbosity(tf.compat.v1.logging.ERROR) # to remove the annoying tf warnings (like 1000 lines)\n",
        "#takes 2 minutes\n",
        "duration = \"10\"\n",
        "label = \"categorical\"\n",
        "kb_participant_models = results_dict[\"Keyboard\"][label][duration]\n",
        "mouse_participant_models = results_dict[\"Mouse\"][label][duration]\n",
        "both_participant_models = results_dict[\"Both\"][label][duration]\n",
        "models_accuracy = {}\n",
        "for participant in participants:\n",
        "  all_test_data = participants_data[participant][0]\n",
        "  all_test_labels = participants_data[participant][1]\n",
        "  if all_test_data is None:\n",
        "    continue\n",
        "  print(\"Ensemble for \", participant)\n",
        "  mouse_test_data = all_test_data.loc[:, 'right_click_count':'task_count']\t\n",
        "  keyboard_features = all_test_data.loc[:, 'active_typing_speed':'unique_events']\n",
        "  meta_features = all_test_data.loc[:, 'dominate_window':'task_count']\n",
        "  kb_test_data = pd.concat([keyboard_features,meta_features],axis=1)\n",
        "  both_test_data = all_test_data.drop('images',axis=1)\n",
        "  features = load_features(f\"/content/drive/MyDrive/capi/data/public/{participant}.db\", \"Camera\", int(duration))\n",
        "  _, category_encoder = create_dataset(features, resize_to=(48, 48), test_split=0.2, random_state=42)\n",
        "  nn_model = load_nn_model(participant, label, int(duration))\n",
        "  test_images = nn_prepare_images(all_test_data)\n",
        "  nn_pred = predict_probs_nn(nn_model, test_images)\n",
        "  nn_acc = nn_predictions(nn_pred, all_test_labels)[:2]\n",
        "  all_prob_pred = [nn_pred]\n",
        "  best_kb_pred = []\n",
        "  best_mouse_pred = []\n",
        "  best_both_pred = []\n",
        "  models_added = 0\n",
        "  for algorithm in kb_participant_models.loc[kb_participant_models['participant'] == participant][\"model\"]:\n",
        "    if algorithm == \"voting\" or algorithm == \"voting ensamble\" or algorithm == \"linear_svm\": # these algorithms can't use predict_proba\n",
        "      continue\n",
        "    kb_clf_model = pickle.load(open(f'{participant}/{duration}/Keyboard/{label}/{algorithm}/model.md','rb'))\n",
        "    kb_clf_pred = kb_clf_model.predict_proba(kb_test_data)\n",
        "    kb_clf_pred = fix_clf_pred(kb_clf_pred,category_encoder) # sometimes we don't have all the feelings\n",
        "    all_prob_pred += [kb_clf_pred]\n",
        "    if models_added == 0: # this is the best model\n",
        "      best_kb_pred += [kb_clf_pred]\n",
        "    models_added += 1\n",
        "    if models_added >= 3:\n",
        "      break\n",
        "  models_added = 0\n",
        "  for algorithm in mouse_participant_models.loc[mouse_participant_models['participant'] == participant][\"model\"]:\n",
        "    if algorithm == \"voting\" or algorithm == \"voting ensamble\" or algorithm == \"linear_svm\": # these algorithms can't use predict_proba\n",
        "      continue\n",
        "    mouse_clf_model = pickle.load(open(f'{participant}/{duration}/Mouse/{label}/{algorithm}/model.md','rb'))\n",
        "    mouse_clf_pred = mouse_clf_model.predict_proba(mouse_test_data)\n",
        "    mouse_clf_pred = fix_clf_pred(mouse_clf_pred,category_encoder) # sometimes we don't have all the feelings\n",
        "    all_prob_pred += [mouse_clf_pred]\n",
        "    if models_added == 0: # this is the best model\n",
        "      best_mouse_pred += [mouse_clf_pred]\n",
        "    models_added += 1\n",
        "    if models_added >= 3:\n",
        "      break\n",
        "  models_added = 0\n",
        "  for algorithm in both_participant_models.loc[both_participant_models['participant'] == participant][\"model\"]:\n",
        "    if algorithm == \"voting\" or algorithm == \"voting ensamble\" or algorithm == \"linear_svm\": # these algorithms can't use predict_proba\n",
        "      continue\n",
        "    both_clf_model = pickle.load(open(f'{participant}/{duration}/Both/{label}/{algorithm}/model.md','rb'))\n",
        "    both_clf_pred = both_clf_model.predict_proba(both_test_data)\n",
        "    both_clf_pred = fix_clf_pred(both_clf_pred,category_encoder) # sometimes we don't have all the feelings\n",
        "    if models_added == 0: # this is the best model\n",
        "      best_both_pred += [both_clf_pred]\n",
        "    models_added += 1\n",
        "    if models_added >= 3:\n",
        "      break\n",
        "  most_common_label = collections.Counter(all_test_labels[\"categorical\"]).most_common(1)[0][0]\n",
        "  majority_pred = np.array([most_common_label for i in range(len(all_test_labels))])\n",
        "  majority_acc = clf_scores(all_test_labels[\"categorical\"],majority_pred)[:2]\n",
        "  both_acc = clf_scores(all_test_labels[\"categorical\"],both_clf_model.predict(both_test_data))[:2]\n",
        "  mouse_acc = clf_scores(all_test_labels[\"categorical\"],mouse_clf_model.predict(mouse_test_data))[:2]\n",
        "  kb_acc = clf_scores(all_test_labels[\"categorical\"],kb_clf_model.predict(kb_test_data))[:2]\n",
        "  avg_ens_acc = predict_ensemble(all_prob_pred,all_test_labels, category_encoder, use_average=True)\n",
        "  max_ens_acc = predict_ensemble(all_prob_pred,all_test_labels, category_encoder, use_average=False)\n",
        "  print(\"nn accuracy: \" , nn_acc)\n",
        "  print(\"kb accuracy: \" , kb_acc)\n",
        "  print(\"mouse accuracy: \" , mouse_acc)\n",
        "  print(\"both accuracy: \" , both_acc)\n",
        "  print(\"average ensemble accuracy: \" ,avg_ens_acc)\n",
        "  print(\"max ensemble accuracy: \" ,max_ens_acc)\n",
        "  models_accuracy[participant] = {'nn_acc': nn_acc, \n",
        "                                  'avg_ens_acc': avg_ens_acc, \n",
        "                                  'max_ens_acc': max_ens_acc, \n",
        "                                  'both_acc':both_acc, \n",
        "                                  'mouse_acc':mouse_acc, \n",
        "                                  'kb_acc':kb_acc,\n",
        "                                  'majority_acc':majority_acc}"
      ],
      "execution_count": null,
      "outputs": []
    },
    {
      "cell_type": "code",
      "metadata": {
        "colab": {
          "base_uri": "https://localhost:8080/"
        },
        "id": "BYf33Xj7w8ie",
        "outputId": "efbe32a0-d0e7-4155-abcd-d71ab6d0315d"
      },
      "source": [
        "!pip show scikit-learn"
      ],
      "execution_count": null,
      "outputs": [
        {
          "output_type": "stream",
          "text": [
            "Name: scikit-learn\n",
            "Version: 0.22.2.post1\n",
            "Summary: A set of python modules for machine learning and data mining\n",
            "Home-page: http://scikit-learn.org\n",
            "Author: None\n",
            "Author-email: None\n",
            "License: new BSD\n",
            "Location: /usr/local/lib/python3.7/dist-packages\n",
            "Requires: scipy, numpy, joblib\n",
            "Required-by: yellowbrick, sklearn, sklearn-pandas, mlxtend, lightgbm, librosa, imbalanced-learn\n"
          ],
          "name": "stdout"
        }
      ]
    },
    {
      "cell_type": "markdown",
      "metadata": {
        "id": "RdVXBp7wqvJ3"
      },
      "source": [
        "This is for everyone"
      ]
    },
    {
      "cell_type": "code",
      "metadata": {
        "colab": {
          "base_uri": "https://localhost:8080/"
        },
        "id": "myn_jMMxnsd5",
        "outputId": "16b587ae-a532-4d99-e807-cb55f5116ea3"
      },
      "source": [
        "import warnings\n",
        "import collections\n",
        "warnings.filterwarnings('ignore')  # ignore warning from sklearn\n",
        "tf.compat.v1.logging.set_verbosity(tf.compat.v1.logging.ERROR) # to remove the annoying tf warnings (like 1000 lines)\n",
        "#takes 2 minutes\n",
        "duration = \"10\"\n",
        "label = \"valance\"\n",
        "kb_participant_models = results_dict[\"Keyboard\"][label][duration]\n",
        "mouse_participant_models = results_dict[\"Mouse\"][label][duration]\n",
        "both_participant_models = results_dict[\"Both\"][label][duration]\n",
        "models_accuracy = {}\n",
        "for participant in participants:\n",
        "  all_test_data, all_test_labels = get_participant_kb_mouse_data(participant)\n",
        "  mouse_test_data = all_test_data.loc[:, 'right_click_count':'task_count']\t\n",
        "  keyboard_features = all_test_data.loc[:, 'active_typing_speed':'unique_events']\n",
        "  meta_features = all_test_data.loc[:, 'dominate_window':'task_count']\n",
        "  kb_test_data = pd.concat([keyboard_features,meta_features],axis=1)\n",
        "  both_test_data = all_test_data\n",
        "  best_kb_pred = []\n",
        "  best_mouse_pred = []\n",
        "  best_both_pred = []\n",
        "  models_added = 0\n",
        "  for algorithm in kb_participant_models.loc[kb_participant_models['participant'] == participant][\"model\"]:\n",
        "    if algorithm == \"voting\" or algorithm == \"voting ensamble\" or algorithm == \"linear_svm\": # these algorithms can't use predict_proba\n",
        "      continue\n",
        "    kb_clf_model = pickle.load(open(f'{participant}/{duration}/Keyboard/{label}/{algorithm}/model.md','rb'))\n",
        "    if label in categorical_labels:\n",
        "      kb_clf_pred = kb_clf_model.predict_proba(kb_test_data)\n",
        "      kb_clf_pred = fix_clf_pred(kb_clf_pred,category_encoder) # sometimes we don't have all the feelings\n",
        "    else:\n",
        "      kb_clf_pred = kb_clf_model.predict(kb_test_data)\n",
        "    if models_added == 0: # this is the best model\n",
        "      best_kb_pred += [kb_clf_pred]\n",
        "    models_added += 1\n",
        "    if models_added >= 3:\n",
        "      break\n",
        "  models_added = 0\n",
        "  for algorithm in mouse_participant_models.loc[mouse_participant_models['participant'] == participant][\"model\"]:\n",
        "    if algorithm == \"voting\" or algorithm == \"voting ensamble\" or algorithm == \"linear_svm\": # these algorithms can't use predict_proba\n",
        "      continue\n",
        "    mouse_clf_model = pickle.load(open(f'{participant}/{duration}/Mouse/{label}/{algorithm}/model.md','rb'))\n",
        "    if label in categorical_labels:\n",
        "      mouse_clf_pred = mouse_clf_model.predict_proba(mouse_test_data)\n",
        "      mouse_clf_pred = fix_clf_pred(mouse_clf_pred,category_encoder) # sometimes we don't have all the feelings\n",
        "    else:\n",
        "      mouse_clf_pred = mouse_clf_model.predict(mouse_test_data)\n",
        "    if models_added == 0: # this is the best model\n",
        "      best_mouse_pred += [mouse_clf_pred]\n",
        "    models_added += 1\n",
        "    if models_added >= 3:\n",
        "      break\n",
        "  models_added = 0\n",
        "  for algorithm in both_participant_models.loc[both_participant_models['participant'] == participant][\"model\"]:\n",
        "    if algorithm == \"voting\" or algorithm == \"voting ensamble\" or algorithm == \"linear_svm\": # these algorithms can't use predict_proba\n",
        "      continue\n",
        "    both_clf_model = pickle.load(open(f'{participant}/{duration}/Both/{label}/{algorithm}/model.md','rb'))\n",
        "    if label in categorical_labels:\n",
        "      both_clf_pred = both_clf_model.predict_proba(both_test_data)\n",
        "      both_clf_pred = fix_clf_pred(both_clf_pred,category_encoder) # sometimes we don't have all the feelings\n",
        "    else:\n",
        "      both_clf_pred = mouse_clf_model.predict(mouse_test_data)\n",
        "    if models_added == 0: # this is the best model\n",
        "      best_both_pred += [both_clf_pred]\n",
        "    models_added += 1\n",
        "    if models_added >= 3:\n",
        "      break\n",
        "  if label in categorical_labels:\n",
        "    most_common_label = collections.Counter(all_test_labels[label]).most_common(1)[0][0]\n",
        "    majority_pred = np.array([most_common_label for i in range(len(all_test_labels))])\n",
        "    majority_acc = clf_scores(all_test_labels[label],majority_pred)[:2]\n",
        "    both_acc = clf_scores(all_test_labels[label],both_clf_model.predict(both_test_data))[:2]\n",
        "    mouse_acc = clf_scores(all_test_labels[label],mouse_clf_model.predict(mouse_test_data))[:2]\n",
        "    kb_acc = clf_scores(all_test_labels[label],kb_clf_model.predict(kb_test_data))[:2]\n",
        "  else:\n",
        "    majority_pred = np.array([np.average(all_test_labels[label]) for i in range(len(all_test_labels))]) \n",
        "    majority_acc = reg_scores(all_test_labels[label],majority_pred)[:2]\n",
        "    both_acc = reg_scores(all_test_labels[label],both_clf_model.predict(both_test_data))[:2]\n",
        "    mouse_acc = reg_scores(all_test_labels[label],mouse_clf_model.predict(mouse_test_data))[:2]\n",
        "    kb_acc = reg_scores(all_test_labels[label],kb_clf_model.predict(kb_test_data))[:2]\n",
        "  print(\"kb accuracy: \" , kb_acc)\n",
        "  print(\"mouse accuracy: \" , mouse_acc)\n",
        "  print(\"both accuracy: \" , both_acc)\n",
        "  models_accuracy[participant] = {'both_acc':both_acc, \n",
        "                                  'mouse_acc':mouse_acc, \n",
        "                                  'kb_acc':kb_acc,\n",
        "                                  'majority_acc':majority_acc}"
      ],
      "execution_count": null,
      "outputs": [
        {
          "output_type": "stream",
          "text": [
            "kb accuracy:  [('mean absolute error', 1.2650759300757934), ('mean squared error', 3.0225525606497707)]\n",
            "mouse accuracy:  [('mean absolute error', 1.114750708870311), ('mean squared error', 2.4351690627650675)]\n",
            "both accuracy:  [('mean absolute error', 1.1142588877873634), ('mean squared error', 2.6209700508131935)]\n",
            "kb accuracy:  [('mean absolute error', 1.1880134654105259), ('mean squared error', 2.1932020580920244)]\n",
            "mouse accuracy:  [('mean absolute error', 1.1206818181818183), ('mean squared error', 2.022620568181819)]\n",
            "both accuracy:  [('mean absolute error', 1.1106494472723392), ('mean squared error', 2.1785415947695688)]\n",
            "kb accuracy:  [('mean absolute error', 0.6317134350994666), ('mean squared error', 0.7175583075324463)]\n",
            "mouse accuracy:  [('mean absolute error', 0.5970279720279721), ('mean squared error', 0.7149341043571812)]\n",
            "both accuracy:  [('mean absolute error', 0.5907066993732885), ('mean squared error', 0.6321575934487744)]\n",
            "kb accuracy:  [('mean absolute error', 2.208270933344546), ('mean squared error', 8.076215313904138)]\n",
            "mouse accuracy:  [('mean absolute error', 1.1722958754280723), ('mean squared error', 2.2190205876679854)]\n",
            "both accuracy:  [('mean absolute error', 1.213914176300207), ('mean squared error', 2.349983712440969)]\n",
            "kb accuracy:  [('mean absolute error', 0.8717142857142859), ('mean squared error', 1.4886714285714284)]\n",
            "mouse accuracy:  [('mean absolute error', 0.8235238095238094), ('mean squared error', 1.3013869015873012)]\n",
            "both accuracy:  [('mean absolute error', 0.8571428571428571), ('mean squared error', 1.4805714285714286)]\n",
            "kb accuracy:  [('mean absolute error', 0.9550132586085558), ('mean squared error', 1.5776855838583603)]\n",
            "mouse accuracy:  [('mean absolute error', 0.8625971031372529), ('mean squared error', 1.1272743216918923)]\n",
            "both accuracy:  [('mean absolute error', 0.8538301755764176), ('mean squared error', 1.192220260365409)]\n",
            "kb accuracy:  [('mean absolute error', 0.9786882305726409), ('mean squared error', 1.7549865181875122)]\n",
            "mouse accuracy:  [('mean absolute error', 0.9713534356889294), ('mean squared error', 1.3445164958537672)]\n",
            "both accuracy:  [('mean absolute error', 0.9488898601398602), ('mean squared error', 1.396032120390293)]\n",
            "kb accuracy:  [('mean absolute error', 1.4474609513210457), ('mean squared error', 2.359618836301371)]\n",
            "mouse accuracy:  [('mean absolute error', 1.5291762001210654), ('mean squared error', 2.6987484685736423)]\n",
            "both accuracy:  [('mean absolute error', 1.529170321270571), ('mean squared error', 2.698750538950803)]\n",
            "kb accuracy:  [('mean absolute error', 2.4080951353943854), ('mean squared error', 8.386792718125633)]\n",
            "mouse accuracy:  [('mean absolute error', 1.762109927787585), ('mean squared error', 5.209995162770327)]\n",
            "both accuracy:  [('mean absolute error', 1.7277205830650628), ('mean squared error', 5.385770071043523)]\n"
          ],
          "name": "stdout"
        }
      ]
    },
    {
      "cell_type": "code",
      "metadata": {
        "colab": {
          "base_uri": "https://localhost:8080/",
          "height": 387
        },
        "id": "2zBpOKEdr15r",
        "outputId": "f275761f-25e8-44dd-ac14-ed5f48a2802e"
      },
      "source": [
        "import matplotlib.pyplot as plt\n",
        "import seaborn as sns\n",
        "\n",
        "people = []\n",
        "accuracy = []\n",
        "for participant,algorithm  in models_accuracy.items():\n",
        "  people += [participant] * len(algorithm)\n",
        "  accuracy += [accs[0][1] for accs in list(models_accuracy[participant].values())]\n",
        "if label in categorical_labels:\n",
        "  participants_acc_db = pd.DataFrame(columns=[\"algorithm\",\"participant\",\"acc\"])\n",
        "else:\n",
        "  participants_acc_db = pd.DataFrame(columns=[\"algorithm\",\"participant\",\"mae\"])\n",
        "participants_acc_db['algorithm'] = [#\"nn_camera\",\n",
        "                                    #\"avg_ens\",\n",
        "                                    #\"max_ens\",\n",
        "                                    \"both\",\n",
        "                                    \"mouse\",\n",
        "                                    \"keyboard\",\n",
        "                                    \"majority\"] * len(models_accuracy.keys())\n",
        "participants_acc_db['participant'] = people\n",
        "if label in categorical_labels:\n",
        "  participants_acc_db['acc'] = accuracy\n",
        "  ax = sns.catplot(x=\"participant\",y=\"acc\",hue=\"algorithm\",data=participants_acc_db,kind='bar',aspect=2,edgecolor=\"black\")\n",
        "  ax.fig.suptitle(f'keyboard/mouse best models methods accuracy on label - {label}')\n",
        "else:\n",
        "  participants_acc_db['mae'] = accuracy\n",
        "  ax = sns.catplot(x=\"participant\",y=\"mae\",hue=\"algorithm\",data=participants_acc_db,kind='bar',aspect=2,edgecolor=\"black\")\n",
        "  ax.fig.suptitle(f'keyboard/mouse best models methods mae on label - {label}')"
      ],
      "execution_count": null,
      "outputs": [
        {
          "output_type": "display_data",
          "data": {
            "image/png": "[encoded data removed]",
            "text/plain": [
              "<Figure size 802.125x360 with 1 Axes>"
            ]
          },
          "metadata": {
            "tags": [],
            "needs_background": "light"
          }
        }
      ]
    }
  ]
}